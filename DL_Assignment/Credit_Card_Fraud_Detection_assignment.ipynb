{
  "nbformat": 4,
  "nbformat_minor": 0,
  "metadata": {
    "kernelspec": {
      "display_name": "Python 3",
      "language": "python",
      "name": "python3"
    },
    "language_info": {
      "codemirror_mode": {
        "name": "ipython",
        "version": 3
      },
      "file_extension": ".py",
      "mimetype": "text/x-python",
      "name": "python",
      "nbconvert_exporter": "python",
      "pygments_lexer": "ipython3",
      "version": "3.7.3"
    },
    "colab": {
      "name": "Credit Card Fraud Detection assignment.ipynb",
      "provenance": []
    }
  },
  "cells": [
    {
      "cell_type": "markdown",
      "metadata": {
        "id": "FqReQhwRmekJ"
      },
      "source": [
        "# Credit Card Fraud Detection::"
      ]
    },
    {
      "cell_type": "markdown",
      "metadata": {
        "id": "lx2Ti8UdmekS"
      },
      "source": [
        "Download dataset from this link:\n",
        "\n",
        "https://www.kaggle.com/mlg-ulb/creditcardfraud"
      ]
    },
    {
      "cell_type": "markdown",
      "metadata": {
        "id": "DXFKMed5mekU"
      },
      "source": [
        "# Description about dataset::"
      ]
    },
    {
      "cell_type": "markdown",
      "metadata": {
        "id": "XPbeZNXcmekU"
      },
      "source": [
        "The datasets contains transactions made by credit cards in September 2013 by european cardholders.\n",
        "This dataset presents transactions that occurred in two days, where we have 492 frauds out of 284,807 transactions. The dataset is highly unbalanced, the positive class (frauds) account for 0.172% of all transactions.\n",
        "\n",
        "It contains only numerical input variables which are the result of a PCA transformation. Unfortunately, due to confidentiality issues, we cannot provide the original features and more background information about the data. Features V1, V2, … V28 are the principal components obtained with PCA, the only features which have not been transformed with PCA are 'Time' and 'Amount'. Feature 'Time' contains the seconds elapsed between each transaction and the first transaction in the dataset. The feature 'Amount' is the transaction Amount, this feature can be used for example-dependant cost-senstive learning. \n",
        "\n",
        "\n",
        "### Feature 'Class' is the response variable and it takes value 1 in case of fraud and 0 otherwise."
      ]
    },
    {
      "cell_type": "markdown",
      "metadata": {
        "id": "FQReNQdsmekV"
      },
      "source": [
        "# WORKFLOW :"
      ]
    },
    {
      "cell_type": "markdown",
      "metadata": {
        "id": "agnn3WshmekW"
      },
      "source": [
        "1.Load Data\n",
        "\n",
        "2.Check Missing Values ( If Exist ; Fill each record with mean of its feature )\n",
        "\n",
        "3.Standardized the Input Variables. \n",
        "\n",
        "4.Split into 50% Training(Samples,Labels) , 30% Test(Samples,Labels) and 20% Validation Data(Samples,Labels).\n",
        "\n",
        "5.Model : input Layer (No. of features ), 3 hidden layers including 10,8,6 unit & Output Layer with activation function relu/tanh (check by experiment).\n",
        "\n",
        "6.Compilation Step (Note : Its a Binary problem , select loss , metrics according to it)\n",
        "\n",
        "7.Train the Model with Epochs (100).\n",
        "\n",
        "8.If the model gets overfit tune your model by changing the units , No. of layers , epochs , add dropout layer or add Regularizer according to the need .\n",
        "\n",
        "9.Prediction should be > 92%\n",
        "10.Evaluation Step\n",
        "11Prediction\n"
      ]
    },
    {
      "cell_type": "markdown",
      "metadata": {
        "id": "VRQvE19ymekX"
      },
      "source": [
        "# Task::"
      ]
    },
    {
      "cell_type": "markdown",
      "metadata": {
        "id": "DWxI4hm7mekX"
      },
      "source": [
        "## Identify fraudulent credit card transactions."
      ]
    },
    {
      "cell_type": "code",
      "metadata": {
        "id": "KlYM3jvWmekY"
      },
      "source": [
        "import numpy as np\n",
        "import pandas as pd"
      ],
      "execution_count": 223,
      "outputs": []
    },
    {
      "cell_type": "code",
      "metadata": {
        "colab": {
          "resources": {
            "http://localhost:8080/nbextensions/google.colab/files.js": {
              "data": "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",
              "ok": true,
              "headers": [
                [
                  "content-type",
                  "application/javascript"
                ]
              ],
              "status": 200,
              "status_text": ""
            }
          },
          "base_uri": "https://localhost:8080/",
          "height": 72
        },
        "id": "33ePZddJmekY",
        "outputId": "74660b92-e00a-42f4-ecc1-9d121c8c579c"
      },
      "source": [
        "import io\n",
        "from google.colab import files\n",
        "uploaded = files.upload()"
      ],
      "execution_count": 52,
      "outputs": [
        {
          "output_type": "display_data",
          "data": {
            "text/html": [
              "\n",
              "     <input type=\"file\" id=\"files-60537b8b-3d5d-40a1-8557-bed154253072\" name=\"files[]\" multiple disabled\n",
              "        style=\"border:none\" />\n",
              "     <output id=\"result-60537b8b-3d5d-40a1-8557-bed154253072\">\n",
              "      Upload widget is only available when the cell has been executed in the\n",
              "      current browser session. Please rerun this cell to enable.\n",
              "      </output>\n",
              "      <script src=\"/nbextensions/google.colab/files.js\"></script> "
            ],
            "text/plain": [
              "<IPython.core.display.HTML object>"
            ]
          },
          "metadata": {
            "tags": []
          }
        },
        {
          "output_type": "stream",
          "text": [
            "Saving creditcard.csv to creditcard (2).csv\n"
          ],
          "name": "stdout"
        }
      ]
    },
    {
      "cell_type": "code",
      "metadata": {
        "colab": {
          "base_uri": "https://localhost:8080/",
          "height": 224
        },
        "id": "MdfEQbgImekZ",
        "outputId": "47137449-25c1-414a-dd0f-f19885a75d90"
      },
      "source": [
        "import tensorflow as tf\n",
        "from sklearn.model_selection import train_test_split\n",
        "df = pd.read_csv(io.BytesIO(uploaded['creditcard.csv']))\n",
        "df.head()"
      ],
      "execution_count": 224,
      "outputs": [
        {
          "output_type": "execute_result",
          "data": {
            "text/html": [
              "<div>\n",
              "<style scoped>\n",
              "    .dataframe tbody tr th:only-of-type {\n",
              "        vertical-align: middle;\n",
              "    }\n",
              "\n",
              "    .dataframe tbody tr th {\n",
              "        vertical-align: top;\n",
              "    }\n",
              "\n",
              "    .dataframe thead th {\n",
              "        text-align: right;\n",
              "    }\n",
              "</style>\n",
              "<table border=\"1\" class=\"dataframe\">\n",
              "  <thead>\n",
              "    <tr style=\"text-align: right;\">\n",
              "      <th></th>\n",
              "      <th>Time</th>\n",
              "      <th>V1</th>\n",
              "      <th>V2</th>\n",
              "      <th>V3</th>\n",
              "      <th>V4</th>\n",
              "      <th>V5</th>\n",
              "      <th>V6</th>\n",
              "      <th>V7</th>\n",
              "      <th>V8</th>\n",
              "      <th>V9</th>\n",
              "      <th>V10</th>\n",
              "      <th>V11</th>\n",
              "      <th>V12</th>\n",
              "      <th>V13</th>\n",
              "      <th>V14</th>\n",
              "      <th>V15</th>\n",
              "      <th>V16</th>\n",
              "      <th>V17</th>\n",
              "      <th>V18</th>\n",
              "      <th>V19</th>\n",
              "      <th>V20</th>\n",
              "      <th>V21</th>\n",
              "      <th>V22</th>\n",
              "      <th>V23</th>\n",
              "      <th>V24</th>\n",
              "      <th>V25</th>\n",
              "      <th>V26</th>\n",
              "      <th>V27</th>\n",
              "      <th>V28</th>\n",
              "      <th>Amount</th>\n",
              "      <th>Class</th>\n",
              "    </tr>\n",
              "  </thead>\n",
              "  <tbody>\n",
              "    <tr>\n",
              "      <th>0</th>\n",
              "      <td>0.0</td>\n",
              "      <td>-1.359807</td>\n",
              "      <td>-0.072781</td>\n",
              "      <td>2.536347</td>\n",
              "      <td>1.378155</td>\n",
              "      <td>-0.338321</td>\n",
              "      <td>0.462388</td>\n",
              "      <td>0.239599</td>\n",
              "      <td>0.098698</td>\n",
              "      <td>0.363787</td>\n",
              "      <td>0.090794</td>\n",
              "      <td>-0.551600</td>\n",
              "      <td>-0.617801</td>\n",
              "      <td>-0.991390</td>\n",
              "      <td>-0.311169</td>\n",
              "      <td>1.468177</td>\n",
              "      <td>-0.470401</td>\n",
              "      <td>0.207971</td>\n",
              "      <td>0.025791</td>\n",
              "      <td>0.403993</td>\n",
              "      <td>0.251412</td>\n",
              "      <td>-0.018307</td>\n",
              "      <td>0.277838</td>\n",
              "      <td>-0.110474</td>\n",
              "      <td>0.066928</td>\n",
              "      <td>0.128539</td>\n",
              "      <td>-0.189115</td>\n",
              "      <td>0.133558</td>\n",
              "      <td>-0.021053</td>\n",
              "      <td>149.62</td>\n",
              "      <td>0</td>\n",
              "    </tr>\n",
              "    <tr>\n",
              "      <th>1</th>\n",
              "      <td>0.0</td>\n",
              "      <td>1.191857</td>\n",
              "      <td>0.266151</td>\n",
              "      <td>0.166480</td>\n",
              "      <td>0.448154</td>\n",
              "      <td>0.060018</td>\n",
              "      <td>-0.082361</td>\n",
              "      <td>-0.078803</td>\n",
              "      <td>0.085102</td>\n",
              "      <td>-0.255425</td>\n",
              "      <td>-0.166974</td>\n",
              "      <td>1.612727</td>\n",
              "      <td>1.065235</td>\n",
              "      <td>0.489095</td>\n",
              "      <td>-0.143772</td>\n",
              "      <td>0.635558</td>\n",
              "      <td>0.463917</td>\n",
              "      <td>-0.114805</td>\n",
              "      <td>-0.183361</td>\n",
              "      <td>-0.145783</td>\n",
              "      <td>-0.069083</td>\n",
              "      <td>-0.225775</td>\n",
              "      <td>-0.638672</td>\n",
              "      <td>0.101288</td>\n",
              "      <td>-0.339846</td>\n",
              "      <td>0.167170</td>\n",
              "      <td>0.125895</td>\n",
              "      <td>-0.008983</td>\n",
              "      <td>0.014724</td>\n",
              "      <td>2.69</td>\n",
              "      <td>0</td>\n",
              "    </tr>\n",
              "    <tr>\n",
              "      <th>2</th>\n",
              "      <td>1.0</td>\n",
              "      <td>-1.358354</td>\n",
              "      <td>-1.340163</td>\n",
              "      <td>1.773209</td>\n",
              "      <td>0.379780</td>\n",
              "      <td>-0.503198</td>\n",
              "      <td>1.800499</td>\n",
              "      <td>0.791461</td>\n",
              "      <td>0.247676</td>\n",
              "      <td>-1.514654</td>\n",
              "      <td>0.207643</td>\n",
              "      <td>0.624501</td>\n",
              "      <td>0.066084</td>\n",
              "      <td>0.717293</td>\n",
              "      <td>-0.165946</td>\n",
              "      <td>2.345865</td>\n",
              "      <td>-2.890083</td>\n",
              "      <td>1.109969</td>\n",
              "      <td>-0.121359</td>\n",
              "      <td>-2.261857</td>\n",
              "      <td>0.524980</td>\n",
              "      <td>0.247998</td>\n",
              "      <td>0.771679</td>\n",
              "      <td>0.909412</td>\n",
              "      <td>-0.689281</td>\n",
              "      <td>-0.327642</td>\n",
              "      <td>-0.139097</td>\n",
              "      <td>-0.055353</td>\n",
              "      <td>-0.059752</td>\n",
              "      <td>378.66</td>\n",
              "      <td>0</td>\n",
              "    </tr>\n",
              "    <tr>\n",
              "      <th>3</th>\n",
              "      <td>1.0</td>\n",
              "      <td>-0.966272</td>\n",
              "      <td>-0.185226</td>\n",
              "      <td>1.792993</td>\n",
              "      <td>-0.863291</td>\n",
              "      <td>-0.010309</td>\n",
              "      <td>1.247203</td>\n",
              "      <td>0.237609</td>\n",
              "      <td>0.377436</td>\n",
              "      <td>-1.387024</td>\n",
              "      <td>-0.054952</td>\n",
              "      <td>-0.226487</td>\n",
              "      <td>0.178228</td>\n",
              "      <td>0.507757</td>\n",
              "      <td>-0.287924</td>\n",
              "      <td>-0.631418</td>\n",
              "      <td>-1.059647</td>\n",
              "      <td>-0.684093</td>\n",
              "      <td>1.965775</td>\n",
              "      <td>-1.232622</td>\n",
              "      <td>-0.208038</td>\n",
              "      <td>-0.108300</td>\n",
              "      <td>0.005274</td>\n",
              "      <td>-0.190321</td>\n",
              "      <td>-1.175575</td>\n",
              "      <td>0.647376</td>\n",
              "      <td>-0.221929</td>\n",
              "      <td>0.062723</td>\n",
              "      <td>0.061458</td>\n",
              "      <td>123.50</td>\n",
              "      <td>0</td>\n",
              "    </tr>\n",
              "    <tr>\n",
              "      <th>4</th>\n",
              "      <td>2.0</td>\n",
              "      <td>-1.158233</td>\n",
              "      <td>0.877737</td>\n",
              "      <td>1.548718</td>\n",
              "      <td>0.403034</td>\n",
              "      <td>-0.407193</td>\n",
              "      <td>0.095921</td>\n",
              "      <td>0.592941</td>\n",
              "      <td>-0.270533</td>\n",
              "      <td>0.817739</td>\n",
              "      <td>0.753074</td>\n",
              "      <td>-0.822843</td>\n",
              "      <td>0.538196</td>\n",
              "      <td>1.345852</td>\n",
              "      <td>-1.119670</td>\n",
              "      <td>0.175121</td>\n",
              "      <td>-0.451449</td>\n",
              "      <td>-0.237033</td>\n",
              "      <td>-0.038195</td>\n",
              "      <td>0.803487</td>\n",
              "      <td>0.408542</td>\n",
              "      <td>-0.009431</td>\n",
              "      <td>0.798278</td>\n",
              "      <td>-0.137458</td>\n",
              "      <td>0.141267</td>\n",
              "      <td>-0.206010</td>\n",
              "      <td>0.502292</td>\n",
              "      <td>0.219422</td>\n",
              "      <td>0.215153</td>\n",
              "      <td>69.99</td>\n",
              "      <td>0</td>\n",
              "    </tr>\n",
              "  </tbody>\n",
              "</table>\n",
              "</div>"
            ],
            "text/plain": [
              "   Time        V1        V2        V3  ...       V27       V28  Amount  Class\n",
              "0   0.0 -1.359807 -0.072781  2.536347  ...  0.133558 -0.021053  149.62      0\n",
              "1   0.0  1.191857  0.266151  0.166480  ... -0.008983  0.014724    2.69      0\n",
              "2   1.0 -1.358354 -1.340163  1.773209  ... -0.055353 -0.059752  378.66      0\n",
              "3   1.0 -0.966272 -0.185226  1.792993  ...  0.062723  0.061458  123.50      0\n",
              "4   2.0 -1.158233  0.877737  1.548718  ...  0.219422  0.215153   69.99      0\n",
              "\n",
              "[5 rows x 31 columns]"
            ]
          },
          "metadata": {
            "tags": []
          },
          "execution_count": 224
        }
      ]
    },
    {
      "cell_type": "code",
      "metadata": {
        "colab": {
          "base_uri": "https://localhost:8080/"
        },
        "id": "btOFTByYmeka",
        "outputId": "301b80f8-835f-47a5-c81e-b682a8eb271d"
      },
      "source": [
        "np.where(df.applymap(lambda x: x==''))"
      ],
      "execution_count": 226,
      "outputs": [
        {
          "output_type": "execute_result",
          "data": {
            "text/plain": [
              "(array([], dtype=int64), array([], dtype=int64))"
            ]
          },
          "metadata": {
            "tags": []
          },
          "execution_count": 226
        }
      ]
    },
    {
      "cell_type": "code",
      "metadata": {
        "id": "sftI2nXqmekb"
      },
      "source": [
        "# np.random.seed(123)\n",
        "# mask = np.random.rand(len(credit)) < 0.7\n",
        "# train = credit[mask]\n",
        "# test = credit[~mask]"
      ],
      "execution_count": 227,
      "outputs": []
    },
    {
      "cell_type": "code",
      "metadata": {
        "id": "UJf5B6ZhBQ3o"
      },
      "source": [
        "non_fraud = df[df['Class']==0]\n",
        "fraud = df[df['Class']==1]\n",
        "#non_fraud.shape , fraud.shape\n",
        "non_fraud = non_fraud.sample(fraud.shape[0])\n",
        "data = fraud.append(non_fraud, ignore_index = True)\n",
        "data['Class'].value_counts()\n",
        "x_data = data.drop(columns ='Class', axis =0)\n",
        "label = data['Class']"
      ],
      "execution_count": 229,
      "outputs": []
    },
    {
      "cell_type": "code",
      "metadata": {
        "colab": {
          "base_uri": "https://localhost:8080/"
        },
        "id": "HE0JYw8Nmekb",
        "outputId": "bfa43873-554d-4cd6-ab5c-3d5c519557eb"
      },
      "source": [
        "# train_label = train.iloc[:,-1]\n",
        "# test_label = test.iloc[:,-1]\n",
        "non_fraud.shape\n",
        "data.shape"
      ],
      "execution_count": 230,
      "outputs": [
        {
          "output_type": "execute_result",
          "data": {
            "text/plain": [
              "(984, 31)"
            ]
          },
          "metadata": {
            "tags": []
          },
          "execution_count": 230
        }
      ]
    },
    {
      "cell_type": "code",
      "metadata": {
        "colab": {
          "base_uri": "https://localhost:8080/"
        },
        "id": "al2T90kImekb",
        "outputId": "c86be312-17d7-4519-f73c-cef8e33fcb95"
      },
      "source": [
        "# train_data = train.drop(columns = 'Class')\n",
        "# test_data = test.drop(columns = 'Class')\n",
        "non_fraud.shape , fraud.shape"
      ],
      "execution_count": 231,
      "outputs": [
        {
          "output_type": "execute_result",
          "data": {
            "text/plain": [
              "((492, 31), (492, 31))"
            ]
          },
          "metadata": {
            "tags": []
          },
          "execution_count": 231
        }
      ]
    },
    {
      "cell_type": "code",
      "metadata": {
        "id": "AfQ8hgVBLbuH"
      },
      "source": [
        "train_data, test_data, train_labels, test_labels = train_test_split(x_data, label, test_size=0.3,random_state=0, stratify=label)"
      ],
      "execution_count": 232,
      "outputs": []
    },
    {
      "cell_type": "code",
      "metadata": {
        "id": "aVor3J6z1pwa"
      },
      "source": [
        "train_labels = np.asarray(train_labels).astype(dtype=\"float64\")\n",
        "test_labels = np.asarray(test_labels).astype(dtype=\"float64\")"
      ],
      "execution_count": 233,
      "outputs": []
    },
    {
      "cell_type": "code",
      "metadata": {
        "colab": {
          "base_uri": "https://localhost:8080/",
          "height": 224
        },
        "id": "Pdm2kUwOmekc",
        "outputId": "b796b292-5091-4ab6-a1e1-9d4e9432f3bf"
      },
      "source": [
        "train_data.head()"
      ],
      "execution_count": 234,
      "outputs": [
        {
          "output_type": "execute_result",
          "data": {
            "text/html": [
              "<div>\n",
              "<style scoped>\n",
              "    .dataframe tbody tr th:only-of-type {\n",
              "        vertical-align: middle;\n",
              "    }\n",
              "\n",
              "    .dataframe tbody tr th {\n",
              "        vertical-align: top;\n",
              "    }\n",
              "\n",
              "    .dataframe thead th {\n",
              "        text-align: right;\n",
              "    }\n",
              "</style>\n",
              "<table border=\"1\" class=\"dataframe\">\n",
              "  <thead>\n",
              "    <tr style=\"text-align: right;\">\n",
              "      <th></th>\n",
              "      <th>Time</th>\n",
              "      <th>V1</th>\n",
              "      <th>V2</th>\n",
              "      <th>V3</th>\n",
              "      <th>V4</th>\n",
              "      <th>V5</th>\n",
              "      <th>V6</th>\n",
              "      <th>V7</th>\n",
              "      <th>V8</th>\n",
              "      <th>V9</th>\n",
              "      <th>V10</th>\n",
              "      <th>V11</th>\n",
              "      <th>V12</th>\n",
              "      <th>V13</th>\n",
              "      <th>V14</th>\n",
              "      <th>V15</th>\n",
              "      <th>V16</th>\n",
              "      <th>V17</th>\n",
              "      <th>V18</th>\n",
              "      <th>V19</th>\n",
              "      <th>V20</th>\n",
              "      <th>V21</th>\n",
              "      <th>V22</th>\n",
              "      <th>V23</th>\n",
              "      <th>V24</th>\n",
              "      <th>V25</th>\n",
              "      <th>V26</th>\n",
              "      <th>V27</th>\n",
              "      <th>V28</th>\n",
              "      <th>Amount</th>\n",
              "    </tr>\n",
              "  </thead>\n",
              "  <tbody>\n",
              "    <tr>\n",
              "      <th>633</th>\n",
              "      <td>49163.0</td>\n",
              "      <td>-0.547467</td>\n",
              "      <td>0.645113</td>\n",
              "      <td>1.818478</td>\n",
              "      <td>0.957587</td>\n",
              "      <td>0.647960</td>\n",
              "      <td>-0.153421</td>\n",
              "      <td>0.593759</td>\n",
              "      <td>-0.058867</td>\n",
              "      <td>-0.877605</td>\n",
              "      <td>0.151153</td>\n",
              "      <td>1.690159</td>\n",
              "      <td>0.470202</td>\n",
              "      <td>-0.348994</td>\n",
              "      <td>0.442506</td>\n",
              "      <td>0.866401</td>\n",
              "      <td>-0.681931</td>\n",
              "      <td>-0.020694</td>\n",
              "      <td>0.132872</td>\n",
              "      <td>0.647001</td>\n",
              "      <td>0.169829</td>\n",
              "      <td>0.181319</td>\n",
              "      <td>0.644559</td>\n",
              "      <td>-0.223050</td>\n",
              "      <td>0.239744</td>\n",
              "      <td>-0.005534</td>\n",
              "      <td>-0.235482</td>\n",
              "      <td>-0.038081</td>\n",
              "      <td>-0.113422</td>\n",
              "      <td>5.50</td>\n",
              "    </tr>\n",
              "    <tr>\n",
              "      <th>662</th>\n",
              "      <td>39293.0</td>\n",
              "      <td>0.813744</td>\n",
              "      <td>-0.617420</td>\n",
              "      <td>1.782595</td>\n",
              "      <td>1.696710</td>\n",
              "      <td>-1.515473</td>\n",
              "      <td>0.350754</td>\n",
              "      <td>-0.893978</td>\n",
              "      <td>0.316722</td>\n",
              "      <td>1.186037</td>\n",
              "      <td>-0.280778</td>\n",
              "      <td>-0.295532</td>\n",
              "      <td>0.619554</td>\n",
              "      <td>-0.191243</td>\n",
              "      <td>-0.540476</td>\n",
              "      <td>0.397527</td>\n",
              "      <td>-0.172252</td>\n",
              "      <td>0.175257</td>\n",
              "      <td>-0.237909</td>\n",
              "      <td>-1.033023</td>\n",
              "      <td>0.047077</td>\n",
              "      <td>0.305272</td>\n",
              "      <td>0.919456</td>\n",
              "      <td>-0.114790</td>\n",
              "      <td>0.653273</td>\n",
              "      <td>0.272301</td>\n",
              "      <td>-0.189475</td>\n",
              "      <td>0.091363</td>\n",
              "      <td>0.064843</td>\n",
              "      <td>125.53</td>\n",
              "    </tr>\n",
              "    <tr>\n",
              "      <th>510</th>\n",
              "      <td>96136.0</td>\n",
              "      <td>-0.870407</td>\n",
              "      <td>0.740659</td>\n",
              "      <td>1.481579</td>\n",
              "      <td>-1.206053</td>\n",
              "      <td>1.010592</td>\n",
              "      <td>-0.315062</td>\n",
              "      <td>1.078256</td>\n",
              "      <td>-0.352116</td>\n",
              "      <td>1.304645</td>\n",
              "      <td>-1.238700</td>\n",
              "      <td>1.231441</td>\n",
              "      <td>-1.814047</td>\n",
              "      <td>1.508735</td>\n",
              "      <td>1.231074</td>\n",
              "      <td>-2.425996</td>\n",
              "      <td>-0.329475</td>\n",
              "      <td>-0.013591</td>\n",
              "      <td>0.455546</td>\n",
              "      <td>-0.051469</td>\n",
              "      <td>-0.145905</td>\n",
              "      <td>-0.083117</td>\n",
              "      <td>0.297913</td>\n",
              "      <td>-0.733451</td>\n",
              "      <td>-0.325855</td>\n",
              "      <td>1.023817</td>\n",
              "      <td>0.154371</td>\n",
              "      <td>-0.321331</td>\n",
              "      <td>-0.221810</td>\n",
              "      <td>9.80</td>\n",
              "    </tr>\n",
              "    <tr>\n",
              "      <th>68</th>\n",
              "      <td>26961.0</td>\n",
              "      <td>-23.237920</td>\n",
              "      <td>13.487386</td>\n",
              "      <td>-25.188773</td>\n",
              "      <td>6.261733</td>\n",
              "      <td>-17.345188</td>\n",
              "      <td>-4.534989</td>\n",
              "      <td>-17.100492</td>\n",
              "      <td>15.374630</td>\n",
              "      <td>-3.845567</td>\n",
              "      <td>-8.511767</td>\n",
              "      <td>5.138547</td>\n",
              "      <td>-7.220020</td>\n",
              "      <td>0.615793</td>\n",
              "      <td>-7.327222</td>\n",
              "      <td>-0.038632</td>\n",
              "      <td>-6.331515</td>\n",
              "      <td>-12.688858</td>\n",
              "      <td>-4.847382</td>\n",
              "      <td>1.020536</td>\n",
              "      <td>1.630787</td>\n",
              "      <td>1.769708</td>\n",
              "      <td>-1.691973</td>\n",
              "      <td>-1.045673</td>\n",
              "      <td>0.143386</td>\n",
              "      <td>1.611577</td>\n",
              "      <td>-0.221576</td>\n",
              "      <td>1.481233</td>\n",
              "      <td>0.438125</td>\n",
              "      <td>99.99</td>\n",
              "    </tr>\n",
              "    <tr>\n",
              "      <th>294</th>\n",
              "      <td>93823.0</td>\n",
              "      <td>-3.821939</td>\n",
              "      <td>5.667247</td>\n",
              "      <td>-9.244963</td>\n",
              "      <td>8.246147</td>\n",
              "      <td>-4.368286</td>\n",
              "      <td>-3.450735</td>\n",
              "      <td>-8.427378</td>\n",
              "      <td>2.305609</td>\n",
              "      <td>-5.338079</td>\n",
              "      <td>-12.011161</td>\n",
              "      <td>8.621255</td>\n",
              "      <td>-18.683715</td>\n",
              "      <td>-0.962073</td>\n",
              "      <td>-15.297656</td>\n",
              "      <td>-2.414132</td>\n",
              "      <td>-12.105602</td>\n",
              "      <td>-21.338195</td>\n",
              "      <td>-8.045436</td>\n",
              "      <td>0.156015</td>\n",
              "      <td>1.115247</td>\n",
              "      <td>1.990520</td>\n",
              "      <td>0.083353</td>\n",
              "      <td>-0.062264</td>\n",
              "      <td>0.390188</td>\n",
              "      <td>0.329884</td>\n",
              "      <td>0.098017</td>\n",
              "      <td>1.869570</td>\n",
              "      <td>1.000850</td>\n",
              "      <td>75.86</td>\n",
              "    </tr>\n",
              "  </tbody>\n",
              "</table>\n",
              "</div>"
            ],
            "text/plain": [
              "        Time         V1         V2  ...       V27       V28  Amount\n",
              "633  49163.0  -0.547467   0.645113  ... -0.038081 -0.113422    5.50\n",
              "662  39293.0   0.813744  -0.617420  ...  0.091363  0.064843  125.53\n",
              "510  96136.0  -0.870407   0.740659  ... -0.321331 -0.221810    9.80\n",
              "68   26961.0 -23.237920  13.487386  ...  1.481233  0.438125   99.99\n",
              "294  93823.0  -3.821939   5.667247  ...  1.869570  1.000850   75.86\n",
              "\n",
              "[5 rows x 30 columns]"
            ]
          },
          "metadata": {
            "tags": []
          },
          "execution_count": 234
        }
      ]
    },
    {
      "cell_type": "code",
      "metadata": {
        "colab": {
          "base_uri": "https://localhost:8080/",
          "height": 224
        },
        "id": "cysiQBQ3mekc",
        "outputId": "6e5c0290-b147-4f1b-c116-adf1d41d0eef"
      },
      "source": [
        "test_data.head()"
      ],
      "execution_count": 235,
      "outputs": [
        {
          "output_type": "execute_result",
          "data": {
            "text/html": [
              "<div>\n",
              "<style scoped>\n",
              "    .dataframe tbody tr th:only-of-type {\n",
              "        vertical-align: middle;\n",
              "    }\n",
              "\n",
              "    .dataframe tbody tr th {\n",
              "        vertical-align: top;\n",
              "    }\n",
              "\n",
              "    .dataframe thead th {\n",
              "        text-align: right;\n",
              "    }\n",
              "</style>\n",
              "<table border=\"1\" class=\"dataframe\">\n",
              "  <thead>\n",
              "    <tr style=\"text-align: right;\">\n",
              "      <th></th>\n",
              "      <th>Time</th>\n",
              "      <th>V1</th>\n",
              "      <th>V2</th>\n",
              "      <th>V3</th>\n",
              "      <th>V4</th>\n",
              "      <th>V5</th>\n",
              "      <th>V6</th>\n",
              "      <th>V7</th>\n",
              "      <th>V8</th>\n",
              "      <th>V9</th>\n",
              "      <th>V10</th>\n",
              "      <th>V11</th>\n",
              "      <th>V12</th>\n",
              "      <th>V13</th>\n",
              "      <th>V14</th>\n",
              "      <th>V15</th>\n",
              "      <th>V16</th>\n",
              "      <th>V17</th>\n",
              "      <th>V18</th>\n",
              "      <th>V19</th>\n",
              "      <th>V20</th>\n",
              "      <th>V21</th>\n",
              "      <th>V22</th>\n",
              "      <th>V23</th>\n",
              "      <th>V24</th>\n",
              "      <th>V25</th>\n",
              "      <th>V26</th>\n",
              "      <th>V27</th>\n",
              "      <th>V28</th>\n",
              "      <th>Amount</th>\n",
              "    </tr>\n",
              "  </thead>\n",
              "  <tbody>\n",
              "    <tr>\n",
              "      <th>609</th>\n",
              "      <td>75053.0</td>\n",
              "      <td>1.199878</td>\n",
              "      <td>-0.925056</td>\n",
              "      <td>1.017752</td>\n",
              "      <td>-0.706776</td>\n",
              "      <td>-1.474464</td>\n",
              "      <td>-0.063155</td>\n",
              "      <td>-1.200419</td>\n",
              "      <td>0.239008</td>\n",
              "      <td>-0.567188</td>\n",
              "      <td>0.736922</td>\n",
              "      <td>1.658330</td>\n",
              "      <td>-0.185511</td>\n",
              "      <td>-0.562292</td>\n",
              "      <td>-0.055074</td>\n",
              "      <td>0.736317</td>\n",
              "      <td>1.362591</td>\n",
              "      <td>0.201886</td>\n",
              "      <td>-0.775909</td>\n",
              "      <td>0.069703</td>\n",
              "      <td>0.092816</td>\n",
              "      <td>0.488811</td>\n",
              "      <td>1.241706</td>\n",
              "      <td>-0.085005</td>\n",
              "      <td>0.248988</td>\n",
              "      <td>0.257676</td>\n",
              "      <td>-0.051072</td>\n",
              "      <td>0.038506</td>\n",
              "      <td>0.019327</td>\n",
              "      <td>49.98</td>\n",
              "    </tr>\n",
              "    <tr>\n",
              "      <th>949</th>\n",
              "      <td>73257.0</td>\n",
              "      <td>-0.287154</td>\n",
              "      <td>0.906487</td>\n",
              "      <td>1.230729</td>\n",
              "      <td>0.572213</td>\n",
              "      <td>0.402226</td>\n",
              "      <td>0.104177</td>\n",
              "      <td>0.560436</td>\n",
              "      <td>0.124229</td>\n",
              "      <td>-0.715326</td>\n",
              "      <td>-0.082377</td>\n",
              "      <td>0.335679</td>\n",
              "      <td>-0.119021</td>\n",
              "      <td>-0.674793</td>\n",
              "      <td>0.590590</td>\n",
              "      <td>0.587929</td>\n",
              "      <td>0.272205</td>\n",
              "      <td>-0.729564</td>\n",
              "      <td>0.960853</td>\n",
              "      <td>1.052962</td>\n",
              "      <td>0.018843</td>\n",
              "      <td>0.056092</td>\n",
              "      <td>0.099409</td>\n",
              "      <td>-0.216853</td>\n",
              "      <td>-0.532916</td>\n",
              "      <td>-0.186522</td>\n",
              "      <td>-0.379950</td>\n",
              "      <td>0.148102</td>\n",
              "      <td>0.131404</td>\n",
              "      <td>14.95</td>\n",
              "    </tr>\n",
              "    <tr>\n",
              "      <th>375</th>\n",
              "      <td>129308.0</td>\n",
              "      <td>0.054682</td>\n",
              "      <td>1.856500</td>\n",
              "      <td>-4.075451</td>\n",
              "      <td>4.100098</td>\n",
              "      <td>-0.800931</td>\n",
              "      <td>-0.292502</td>\n",
              "      <td>-2.317431</td>\n",
              "      <td>1.189747</td>\n",
              "      <td>-0.786238</td>\n",
              "      <td>-3.906746</td>\n",
              "      <td>2.993489</td>\n",
              "      <td>-3.613125</td>\n",
              "      <td>-1.727297</td>\n",
              "      <td>-7.364639</td>\n",
              "      <td>-0.343296</td>\n",
              "      <td>-2.577635</td>\n",
              "      <td>-0.515302</td>\n",
              "      <td>1.109107</td>\n",
              "      <td>2.351151</td>\n",
              "      <td>0.509559</td>\n",
              "      <td>0.618248</td>\n",
              "      <td>0.800932</td>\n",
              "      <td>0.130016</td>\n",
              "      <td>0.288946</td>\n",
              "      <td>-0.366658</td>\n",
              "      <td>0.030307</td>\n",
              "      <td>0.431182</td>\n",
              "      <td>0.110698</td>\n",
              "      <td>80.90</td>\n",
              "    </tr>\n",
              "    <tr>\n",
              "      <th>564</th>\n",
              "      <td>158946.0</td>\n",
              "      <td>1.966977</td>\n",
              "      <td>-1.031255</td>\n",
              "      <td>-1.281187</td>\n",
              "      <td>-2.414320</td>\n",
              "      <td>0.223955</td>\n",
              "      <td>1.224333</td>\n",
              "      <td>-0.939751</td>\n",
              "      <td>0.454056</td>\n",
              "      <td>2.697050</td>\n",
              "      <td>-1.443236</td>\n",
              "      <td>-0.566370</td>\n",
              "      <td>0.723186</td>\n",
              "      <td>-0.134768</td>\n",
              "      <td>0.203217</td>\n",
              "      <td>3.010972</td>\n",
              "      <td>-1.567519</td>\n",
              "      <td>0.469061</td>\n",
              "      <td>-1.071152</td>\n",
              "      <td>-0.442110</td>\n",
              "      <td>-0.331397</td>\n",
              "      <td>0.285658</td>\n",
              "      <td>1.271362</td>\n",
              "      <td>0.083933</td>\n",
              "      <td>-2.328161</td>\n",
              "      <td>-0.151445</td>\n",
              "      <td>-0.551614</td>\n",
              "      <td>0.146333</td>\n",
              "      <td>-0.063088</td>\n",
              "      <td>3.34</td>\n",
              "    </tr>\n",
              "    <tr>\n",
              "      <th>6</th>\n",
              "      <td>7535.0</td>\n",
              "      <td>0.026779</td>\n",
              "      <td>4.132464</td>\n",
              "      <td>-6.560600</td>\n",
              "      <td>6.348557</td>\n",
              "      <td>1.329666</td>\n",
              "      <td>-2.513479</td>\n",
              "      <td>-1.689102</td>\n",
              "      <td>0.303253</td>\n",
              "      <td>-3.139409</td>\n",
              "      <td>-6.045468</td>\n",
              "      <td>6.754625</td>\n",
              "      <td>-8.948179</td>\n",
              "      <td>0.702725</td>\n",
              "      <td>-10.733854</td>\n",
              "      <td>-1.379520</td>\n",
              "      <td>-1.638960</td>\n",
              "      <td>-1.746350</td>\n",
              "      <td>0.776744</td>\n",
              "      <td>-1.327357</td>\n",
              "      <td>0.587743</td>\n",
              "      <td>0.370509</td>\n",
              "      <td>-0.576752</td>\n",
              "      <td>-0.669605</td>\n",
              "      <td>-0.759908</td>\n",
              "      <td>1.605056</td>\n",
              "      <td>0.540675</td>\n",
              "      <td>0.737040</td>\n",
              "      <td>0.496699</td>\n",
              "      <td>1.00</td>\n",
              "    </tr>\n",
              "  </tbody>\n",
              "</table>\n",
              "</div>"
            ],
            "text/plain": [
              "         Time        V1        V2  ...       V27       V28  Amount\n",
              "609   75053.0  1.199878 -0.925056  ...  0.038506  0.019327   49.98\n",
              "949   73257.0 -0.287154  0.906487  ...  0.148102  0.131404   14.95\n",
              "375  129308.0  0.054682  1.856500  ...  0.431182  0.110698   80.90\n",
              "564  158946.0  1.966977 -1.031255  ...  0.146333 -0.063088    3.34\n",
              "6      7535.0  0.026779  4.132464  ...  0.737040  0.496699    1.00\n",
              "\n",
              "[5 rows x 30 columns]"
            ]
          },
          "metadata": {
            "tags": []
          },
          "execution_count": 235
        }
      ]
    },
    {
      "cell_type": "code",
      "metadata": {
        "id": "sPHJ1yUlmekc"
      },
      "source": [
        "mean = train_data.mean(axis =0)\n",
        "train_data -=mean\n",
        "std = train_data.std(axis=0)\n",
        "train_data /= std\n",
        "test_data -= mean\n",
        "test_data /= std"
      ],
      "execution_count": 236,
      "outputs": []
    },
    {
      "cell_type": "code",
      "metadata": {
        "colab": {
          "base_uri": "https://localhost:8080/"
        },
        "id": "2deZSomRmekc",
        "outputId": "1c80aebf-0e1b-4cfb-a589-44321f57dcbd"
      },
      "source": [
        "test_data.dtypes"
      ],
      "execution_count": 237,
      "outputs": [
        {
          "output_type": "execute_result",
          "data": {
            "text/plain": [
              "Time      float64\n",
              "V1        float64\n",
              "V2        float64\n",
              "V3        float64\n",
              "V4        float64\n",
              "V5        float64\n",
              "V6        float64\n",
              "V7        float64\n",
              "V8        float64\n",
              "V9        float64\n",
              "V10       float64\n",
              "V11       float64\n",
              "V12       float64\n",
              "V13       float64\n",
              "V14       float64\n",
              "V15       float64\n",
              "V16       float64\n",
              "V17       float64\n",
              "V18       float64\n",
              "V19       float64\n",
              "V20       float64\n",
              "V21       float64\n",
              "V22       float64\n",
              "V23       float64\n",
              "V24       float64\n",
              "V25       float64\n",
              "V26       float64\n",
              "V27       float64\n",
              "V28       float64\n",
              "Amount    float64\n",
              "dtype: object"
            ]
          },
          "metadata": {
            "tags": []
          },
          "execution_count": 237
        }
      ]
    },
    {
      "cell_type": "code",
      "metadata": {
        "id": "h50pYM7Xmekd"
      },
      "source": [
        "from keras import models\n",
        "from keras import layers\n",
        "from keras import regularizers\n",
        "model = models.Sequential()\n",
        "model.add(layers.Dense(20, activation ='relu', input_shape =(train_data.shape[1],)))\n",
        "#model.add(layers.Dropout(0.5))\n",
        "model.add(layers.Dense(10, activation ='relu'))\n",
        "model.add(layers.Dense(8, activation ='relu'))\n",
        "#model.add(layers.Dropout(0.5))\n",
        "model.add(layers.Dense(6, activation ='relu', kernel_regularizer=regularizers.l1_l2(l1=0.001,l2=0.001)))\n",
        "#model.add(layers.Dropout(0.5))\n",
        "model.add(layers.Dense(1, activation ='sigmoid'))"
      ],
      "execution_count": 247,
      "outputs": []
    },
    {
      "cell_type": "code",
      "metadata": {
        "id": "1oh0UY5H3YLs"
      },
      "source": [
        "model.compile(loss = 'binary_crossentropy', optimizer='adam', metrics =['accuracy'])"
      ],
      "execution_count": 248,
      "outputs": []
    },
    {
      "cell_type": "code",
      "metadata": {
        "colab": {
          "base_uri": "https://localhost:8080/"
        },
        "id": "jD3uf0Yd3-YP",
        "outputId": "02dec1b3-fee9-4308-9266-9441fb07a6e3"
      },
      "source": [
        "model.fit(train_data, train_labels, epochs =100, validation_split=0.2)"
      ],
      "execution_count": 249,
      "outputs": [
        {
          "output_type": "stream",
          "text": [
            "Epoch 1/100\n",
            "18/18 [==============================] - 1s 16ms/step - loss: 0.6578 - accuracy: 0.7992 - val_loss: 0.6110 - val_accuracy: 0.7899\n",
            "Epoch 2/100\n",
            "18/18 [==============================] - 0s 4ms/step - loss: 0.5877 - accuracy: 0.8522 - val_loss: 0.5511 - val_accuracy: 0.8116\n",
            "Epoch 3/100\n",
            "18/18 [==============================] - 0s 4ms/step - loss: 0.5060 - accuracy: 0.8702 - val_loss: 0.5000 - val_accuracy: 0.8188\n",
            "Epoch 4/100\n",
            "18/18 [==============================] - 0s 4ms/step - loss: 0.4275 - accuracy: 0.8969 - val_loss: 0.4524 - val_accuracy: 0.8333\n",
            "Epoch 5/100\n",
            "18/18 [==============================] - 0s 4ms/step - loss: 0.3269 - accuracy: 0.9258 - val_loss: 0.4012 - val_accuracy: 0.8406\n",
            "Epoch 6/100\n",
            "18/18 [==============================] - 0s 5ms/step - loss: 0.2976 - accuracy: 0.9224 - val_loss: 0.3670 - val_accuracy: 0.8478\n",
            "Epoch 7/100\n",
            "18/18 [==============================] - 0s 4ms/step - loss: 0.2402 - accuracy: 0.9382 - val_loss: 0.3206 - val_accuracy: 0.8696\n",
            "Epoch 8/100\n",
            "18/18 [==============================] - 0s 4ms/step - loss: 0.2329 - accuracy: 0.9315 - val_loss: 0.3011 - val_accuracy: 0.8768\n",
            "Epoch 9/100\n",
            "18/18 [==============================] - 0s 4ms/step - loss: 0.2136 - accuracy: 0.9480 - val_loss: 0.2700 - val_accuracy: 0.9130\n",
            "Epoch 10/100\n",
            "18/18 [==============================] - 0s 4ms/step - loss: 0.1826 - accuracy: 0.9472 - val_loss: 0.2520 - val_accuracy: 0.9130\n",
            "Epoch 11/100\n",
            "18/18 [==============================] - 0s 4ms/step - loss: 0.2136 - accuracy: 0.9436 - val_loss: 0.2396 - val_accuracy: 0.9130\n",
            "Epoch 12/100\n",
            "18/18 [==============================] - 0s 4ms/step - loss: 0.1576 - accuracy: 0.9596 - val_loss: 0.2293 - val_accuracy: 0.9348\n",
            "Epoch 13/100\n",
            "18/18 [==============================] - 0s 4ms/step - loss: 0.1537 - accuracy: 0.9598 - val_loss: 0.2262 - val_accuracy: 0.9348\n",
            "Epoch 14/100\n",
            "18/18 [==============================] - 0s 4ms/step - loss: 0.1381 - accuracy: 0.9573 - val_loss: 0.2197 - val_accuracy: 0.9275\n",
            "Epoch 15/100\n",
            "18/18 [==============================] - 0s 4ms/step - loss: 0.1201 - accuracy: 0.9723 - val_loss: 0.2133 - val_accuracy: 0.9348\n",
            "Epoch 16/100\n",
            "18/18 [==============================] - 0s 4ms/step - loss: 0.1234 - accuracy: 0.9713 - val_loss: 0.2108 - val_accuracy: 0.9203\n",
            "Epoch 17/100\n",
            "18/18 [==============================] - 0s 4ms/step - loss: 0.1211 - accuracy: 0.9739 - val_loss: 0.2121 - val_accuracy: 0.9203\n",
            "Epoch 18/100\n",
            "18/18 [==============================] - 0s 4ms/step - loss: 0.1175 - accuracy: 0.9763 - val_loss: 0.2127 - val_accuracy: 0.9203\n",
            "Epoch 19/100\n",
            "18/18 [==============================] - 0s 5ms/step - loss: 0.1172 - accuracy: 0.9755 - val_loss: 0.2212 - val_accuracy: 0.9275\n",
            "Epoch 20/100\n",
            "18/18 [==============================] - 0s 4ms/step - loss: 0.1153 - accuracy: 0.9729 - val_loss: 0.2118 - val_accuracy: 0.9275\n",
            "Epoch 21/100\n",
            "18/18 [==============================] - 0s 4ms/step - loss: 0.1133 - accuracy: 0.9737 - val_loss: 0.2046 - val_accuracy: 0.9348\n",
            "Epoch 22/100\n",
            "18/18 [==============================] - 0s 4ms/step - loss: 0.1089 - accuracy: 0.9788 - val_loss: 0.2138 - val_accuracy: 0.9348\n",
            "Epoch 23/100\n",
            "18/18 [==============================] - 0s 4ms/step - loss: 0.0898 - accuracy: 0.9816 - val_loss: 0.2180 - val_accuracy: 0.9275\n",
            "Epoch 24/100\n",
            "18/18 [==============================] - 0s 4ms/step - loss: 0.0975 - accuracy: 0.9764 - val_loss: 0.2163 - val_accuracy: 0.9348\n",
            "Epoch 25/100\n",
            "18/18 [==============================] - 0s 4ms/step - loss: 0.0870 - accuracy: 0.9839 - val_loss: 0.2210 - val_accuracy: 0.9275\n",
            "Epoch 26/100\n",
            "18/18 [==============================] - 0s 4ms/step - loss: 0.1211 - accuracy: 0.9741 - val_loss: 0.2221 - val_accuracy: 0.9275\n",
            "Epoch 27/100\n",
            "18/18 [==============================] - 0s 4ms/step - loss: 0.1150 - accuracy: 0.9719 - val_loss: 0.2254 - val_accuracy: 0.9348\n",
            "Epoch 28/100\n",
            "18/18 [==============================] - 0s 4ms/step - loss: 0.0872 - accuracy: 0.9806 - val_loss: 0.2237 - val_accuracy: 0.9275\n",
            "Epoch 29/100\n",
            "18/18 [==============================] - 0s 4ms/step - loss: 0.0944 - accuracy: 0.9771 - val_loss: 0.2282 - val_accuracy: 0.9275\n",
            "Epoch 30/100\n",
            "18/18 [==============================] - 0s 4ms/step - loss: 0.0782 - accuracy: 0.9805 - val_loss: 0.2284 - val_accuracy: 0.9275\n",
            "Epoch 31/100\n",
            "18/18 [==============================] - 0s 4ms/step - loss: 0.0966 - accuracy: 0.9745 - val_loss: 0.2304 - val_accuracy: 0.9275\n",
            "Epoch 32/100\n",
            "18/18 [==============================] - 0s 4ms/step - loss: 0.1055 - accuracy: 0.9721 - val_loss: 0.2362 - val_accuracy: 0.9348\n",
            "Epoch 33/100\n",
            "18/18 [==============================] - 0s 4ms/step - loss: 0.0846 - accuracy: 0.9847 - val_loss: 0.2371 - val_accuracy: 0.9275\n",
            "Epoch 34/100\n",
            "18/18 [==============================] - 0s 4ms/step - loss: 0.1318 - accuracy: 0.9638 - val_loss: 0.2360 - val_accuracy: 0.9275\n",
            "Epoch 35/100\n",
            "18/18 [==============================] - 0s 4ms/step - loss: 0.0915 - accuracy: 0.9717 - val_loss: 0.2394 - val_accuracy: 0.9275\n",
            "Epoch 36/100\n",
            "18/18 [==============================] - 0s 4ms/step - loss: 0.0848 - accuracy: 0.9726 - val_loss: 0.2434 - val_accuracy: 0.9275\n",
            "Epoch 37/100\n",
            "18/18 [==============================] - 0s 4ms/step - loss: 0.0753 - accuracy: 0.9783 - val_loss: 0.2467 - val_accuracy: 0.9275\n",
            "Epoch 38/100\n",
            "18/18 [==============================] - 0s 4ms/step - loss: 0.0680 - accuracy: 0.9846 - val_loss: 0.2494 - val_accuracy: 0.9348\n",
            "Epoch 39/100\n",
            "18/18 [==============================] - 0s 4ms/step - loss: 0.0638 - accuracy: 0.9899 - val_loss: 0.2584 - val_accuracy: 0.9275\n",
            "Epoch 40/100\n",
            "18/18 [==============================] - 0s 4ms/step - loss: 0.1057 - accuracy: 0.9766 - val_loss: 0.2559 - val_accuracy: 0.9275\n",
            "Epoch 41/100\n",
            "18/18 [==============================] - 0s 4ms/step - loss: 0.0809 - accuracy: 0.9742 - val_loss: 0.2559 - val_accuracy: 0.9348\n",
            "Epoch 42/100\n",
            "18/18 [==============================] - 0s 4ms/step - loss: 0.0843 - accuracy: 0.9768 - val_loss: 0.2566 - val_accuracy: 0.9348\n",
            "Epoch 43/100\n",
            "18/18 [==============================] - 0s 4ms/step - loss: 0.1047 - accuracy: 0.9711 - val_loss: 0.2565 - val_accuracy: 0.9348\n",
            "Epoch 44/100\n",
            "18/18 [==============================] - 0s 4ms/step - loss: 0.0641 - accuracy: 0.9830 - val_loss: 0.2604 - val_accuracy: 0.9275\n",
            "Epoch 45/100\n",
            "18/18 [==============================] - 0s 4ms/step - loss: 0.0883 - accuracy: 0.9799 - val_loss: 0.2672 - val_accuracy: 0.9348\n",
            "Epoch 46/100\n",
            "18/18 [==============================] - 0s 5ms/step - loss: 0.1069 - accuracy: 0.9693 - val_loss: 0.2690 - val_accuracy: 0.9348\n",
            "Epoch 47/100\n",
            "18/18 [==============================] - 0s 4ms/step - loss: 0.0776 - accuracy: 0.9771 - val_loss: 0.2683 - val_accuracy: 0.9275\n",
            "Epoch 48/100\n",
            "18/18 [==============================] - 0s 4ms/step - loss: 0.0779 - accuracy: 0.9767 - val_loss: 0.2707 - val_accuracy: 0.9348\n",
            "Epoch 49/100\n",
            "18/18 [==============================] - 0s 4ms/step - loss: 0.0490 - accuracy: 0.9894 - val_loss: 0.2733 - val_accuracy: 0.9348\n",
            "Epoch 50/100\n",
            "18/18 [==============================] - 0s 4ms/step - loss: 0.0544 - accuracy: 0.9871 - val_loss: 0.2826 - val_accuracy: 0.9275\n",
            "Epoch 51/100\n",
            "18/18 [==============================] - 0s 4ms/step - loss: 0.0788 - accuracy: 0.9776 - val_loss: 0.2826 - val_accuracy: 0.9348\n",
            "Epoch 52/100\n",
            "18/18 [==============================] - 0s 4ms/step - loss: 0.0542 - accuracy: 0.9868 - val_loss: 0.2855 - val_accuracy: 0.9348\n",
            "Epoch 53/100\n",
            "18/18 [==============================] - 0s 4ms/step - loss: 0.0553 - accuracy: 0.9861 - val_loss: 0.2870 - val_accuracy: 0.9275\n",
            "Epoch 54/100\n",
            "18/18 [==============================] - 0s 4ms/step - loss: 0.0562 - accuracy: 0.9870 - val_loss: 0.2907 - val_accuracy: 0.9348\n",
            "Epoch 55/100\n",
            "18/18 [==============================] - 0s 4ms/step - loss: 0.0651 - accuracy: 0.9796 - val_loss: 0.2919 - val_accuracy: 0.9348\n",
            "Epoch 56/100\n",
            "18/18 [==============================] - 0s 4ms/step - loss: 0.0612 - accuracy: 0.9853 - val_loss: 0.2959 - val_accuracy: 0.9275\n",
            "Epoch 57/100\n",
            "18/18 [==============================] - 0s 4ms/step - loss: 0.0481 - accuracy: 0.9840 - val_loss: 0.3012 - val_accuracy: 0.9348\n",
            "Epoch 58/100\n",
            "18/18 [==============================] - 0s 4ms/step - loss: 0.0601 - accuracy: 0.9910 - val_loss: 0.2996 - val_accuracy: 0.9275\n",
            "Epoch 59/100\n",
            "18/18 [==============================] - 0s 4ms/step - loss: 0.0515 - accuracy: 0.9816 - val_loss: 0.3015 - val_accuracy: 0.9348\n",
            "Epoch 60/100\n",
            "18/18 [==============================] - 0s 4ms/step - loss: 0.0613 - accuracy: 0.9857 - val_loss: 0.3032 - val_accuracy: 0.9275\n",
            "Epoch 61/100\n",
            "18/18 [==============================] - 0s 4ms/step - loss: 0.0545 - accuracy: 0.9842 - val_loss: 0.3050 - val_accuracy: 0.9275\n",
            "Epoch 62/100\n",
            "18/18 [==============================] - 0s 4ms/step - loss: 0.0493 - accuracy: 0.9923 - val_loss: 0.3139 - val_accuracy: 0.9203\n",
            "Epoch 63/100\n",
            "18/18 [==============================] - 0s 4ms/step - loss: 0.0515 - accuracy: 0.9888 - val_loss: 0.3197 - val_accuracy: 0.9203\n",
            "Epoch 64/100\n",
            "18/18 [==============================] - 0s 4ms/step - loss: 0.0537 - accuracy: 0.9864 - val_loss: 0.3261 - val_accuracy: 0.9275\n",
            "Epoch 65/100\n",
            "18/18 [==============================] - 0s 4ms/step - loss: 0.0644 - accuracy: 0.9877 - val_loss: 0.3232 - val_accuracy: 0.9203\n",
            "Epoch 66/100\n",
            "18/18 [==============================] - 0s 4ms/step - loss: 0.0488 - accuracy: 0.9851 - val_loss: 0.3265 - val_accuracy: 0.9203\n",
            "Epoch 67/100\n",
            "18/18 [==============================] - 0s 4ms/step - loss: 0.0511 - accuracy: 0.9899 - val_loss: 0.3324 - val_accuracy: 0.9203\n",
            "Epoch 68/100\n",
            "18/18 [==============================] - 0s 4ms/step - loss: 0.0487 - accuracy: 0.9845 - val_loss: 0.3364 - val_accuracy: 0.9130\n",
            "Epoch 69/100\n",
            "18/18 [==============================] - 0s 4ms/step - loss: 0.0498 - accuracy: 0.9931 - val_loss: 0.3418 - val_accuracy: 0.9203\n",
            "Epoch 70/100\n",
            "18/18 [==============================] - 0s 4ms/step - loss: 0.0533 - accuracy: 0.9878 - val_loss: 0.3431 - val_accuracy: 0.9203\n",
            "Epoch 71/100\n",
            "18/18 [==============================] - 0s 4ms/step - loss: 0.0439 - accuracy: 0.9885 - val_loss: 0.3519 - val_accuracy: 0.9203\n",
            "Epoch 72/100\n",
            "18/18 [==============================] - 0s 4ms/step - loss: 0.0541 - accuracy: 0.9824 - val_loss: 0.3501 - val_accuracy: 0.9275\n",
            "Epoch 73/100\n",
            "18/18 [==============================] - 0s 5ms/step - loss: 0.0393 - accuracy: 0.9901 - val_loss: 0.3479 - val_accuracy: 0.9203\n",
            "Epoch 74/100\n",
            "18/18 [==============================] - 0s 4ms/step - loss: 0.0536 - accuracy: 0.9900 - val_loss: 0.3576 - val_accuracy: 0.9130\n",
            "Epoch 75/100\n",
            "18/18 [==============================] - 0s 4ms/step - loss: 0.0358 - accuracy: 0.9944 - val_loss: 0.3712 - val_accuracy: 0.9203\n",
            "Epoch 76/100\n",
            "18/18 [==============================] - 0s 4ms/step - loss: 0.0381 - accuracy: 0.9918 - val_loss: 0.3671 - val_accuracy: 0.9203\n",
            "Epoch 77/100\n",
            "18/18 [==============================] - 0s 4ms/step - loss: 0.0375 - accuracy: 0.9937 - val_loss: 0.3733 - val_accuracy: 0.9130\n",
            "Epoch 78/100\n",
            "18/18 [==============================] - 0s 4ms/step - loss: 0.0373 - accuracy: 0.9935 - val_loss: 0.3790 - val_accuracy: 0.9203\n",
            "Epoch 79/100\n",
            "18/18 [==============================] - 0s 4ms/step - loss: 0.0379 - accuracy: 0.9948 - val_loss: 0.3778 - val_accuracy: 0.9203\n",
            "Epoch 80/100\n",
            "18/18 [==============================] - 0s 4ms/step - loss: 0.0330 - accuracy: 0.9949 - val_loss: 0.3849 - val_accuracy: 0.9130\n",
            "Epoch 81/100\n",
            "18/18 [==============================] - 0s 4ms/step - loss: 0.0446 - accuracy: 0.9903 - val_loss: 0.4083 - val_accuracy: 0.9058\n",
            "Epoch 82/100\n",
            "18/18 [==============================] - 0s 4ms/step - loss: 0.0457 - accuracy: 0.9818 - val_loss: 0.3742 - val_accuracy: 0.9203\n",
            "Epoch 83/100\n",
            "18/18 [==============================] - 0s 4ms/step - loss: 0.0359 - accuracy: 0.9940 - val_loss: 0.3914 - val_accuracy: 0.9058\n",
            "Epoch 84/100\n",
            "18/18 [==============================] - 0s 4ms/step - loss: 0.0401 - accuracy: 0.9916 - val_loss: 0.4054 - val_accuracy: 0.8986\n",
            "Epoch 85/100\n",
            "18/18 [==============================] - 0s 4ms/step - loss: 0.0305 - accuracy: 0.9968 - val_loss: 0.4159 - val_accuracy: 0.8986\n",
            "Epoch 86/100\n",
            "18/18 [==============================] - 0s 5ms/step - loss: 0.0317 - accuracy: 0.9934 - val_loss: 0.4207 - val_accuracy: 0.8986\n",
            "Epoch 87/100\n",
            "18/18 [==============================] - 0s 4ms/step - loss: 0.0339 - accuracy: 0.9960 - val_loss: 0.4231 - val_accuracy: 0.8986\n",
            "Epoch 88/100\n",
            "18/18 [==============================] - 0s 4ms/step - loss: 0.0354 - accuracy: 0.9934 - val_loss: 0.4276 - val_accuracy: 0.8986\n",
            "Epoch 89/100\n",
            "18/18 [==============================] - 0s 4ms/step - loss: 0.0356 - accuracy: 0.9931 - val_loss: 0.4394 - val_accuracy: 0.8986\n",
            "Epoch 90/100\n",
            "18/18 [==============================] - 0s 4ms/step - loss: 0.0322 - accuracy: 0.9955 - val_loss: 0.4363 - val_accuracy: 0.9058\n",
            "Epoch 91/100\n",
            "18/18 [==============================] - 0s 4ms/step - loss: 0.0286 - accuracy: 0.9966 - val_loss: 0.4377 - val_accuracy: 0.8986\n",
            "Epoch 92/100\n",
            "18/18 [==============================] - 0s 4ms/step - loss: 0.0299 - accuracy: 0.9986 - val_loss: 0.4429 - val_accuracy: 0.8986\n",
            "Epoch 93/100\n",
            "18/18 [==============================] - 0s 4ms/step - loss: 0.0357 - accuracy: 0.9961 - val_loss: 0.4693 - val_accuracy: 0.8986\n",
            "Epoch 94/100\n",
            "18/18 [==============================] - 0s 4ms/step - loss: 0.0316 - accuracy: 0.9961 - val_loss: 0.4605 - val_accuracy: 0.8986\n",
            "Epoch 95/100\n",
            "18/18 [==============================] - 0s 5ms/step - loss: 0.0304 - accuracy: 0.9972 - val_loss: 0.4547 - val_accuracy: 0.8986\n",
            "Epoch 96/100\n",
            "18/18 [==============================] - 0s 4ms/step - loss: 0.0274 - accuracy: 0.9955 - val_loss: 0.4591 - val_accuracy: 0.8986\n",
            "Epoch 97/100\n",
            "18/18 [==============================] - 0s 4ms/step - loss: 0.0248 - accuracy: 0.9992 - val_loss: 0.4640 - val_accuracy: 0.8986\n",
            "Epoch 98/100\n",
            "18/18 [==============================] - 0s 4ms/step - loss: 0.0288 - accuracy: 0.9970 - val_loss: 0.4674 - val_accuracy: 0.8986\n",
            "Epoch 99/100\n",
            "18/18 [==============================] - 0s 5ms/step - loss: 0.0335 - accuracy: 0.9974 - val_loss: 0.4772 - val_accuracy: 0.8986\n",
            "Epoch 100/100\n",
            "18/18 [==============================] - 0s 4ms/step - loss: 0.0285 - accuracy: 0.9960 - val_loss: 0.4701 - val_accuracy: 0.8986\n"
          ],
          "name": "stdout"
        },
        {
          "output_type": "execute_result",
          "data": {
            "text/plain": [
              "<tensorflow.python.keras.callbacks.History at 0x7f4d6f6f8a90>"
            ]
          },
          "metadata": {
            "tags": []
          },
          "execution_count": 249
        }
      ]
    },
    {
      "cell_type": "code",
      "metadata": {
        "colab": {
          "base_uri": "https://localhost:8080/"
        },
        "id": "cCO6rSZV5-II",
        "outputId": "b72da53e-04ac-46ae-b054-909dabb1e5a0"
      },
      "source": [
        "test_loss_score, test_acc_score = model.evaluate(test_data, test_labels)"
      ],
      "execution_count": 250,
      "outputs": [
        {
          "output_type": "stream",
          "text": [
            "10/10 [==============================] - 0s 1ms/step - loss: 0.4342 - accuracy: 0.9122\n"
          ],
          "name": "stdout"
        }
      ]
    },
    {
      "cell_type": "code",
      "metadata": {
        "id": "ZA_yKHPc8TDw"
      },
      "source": [
        "prediction = model.predict(test_data).astype(dtype ='u8')"
      ],
      "execution_count": 251,
      "outputs": []
    },
    {
      "cell_type": "code",
      "metadata": {
        "colab": {
          "base_uri": "https://localhost:8080/"
        },
        "id": "2y5GyPbr-Uko",
        "outputId": "895b89c9-7513-4ce4-d41f-1294579b13b8"
      },
      "source": [
        "prediction[:15]"
      ],
      "execution_count": 252,
      "outputs": [
        {
          "output_type": "execute_result",
          "data": {
            "text/plain": [
              "array([[0],\n",
              "       [0],\n",
              "       [0],\n",
              "       [0],\n",
              "       [1],\n",
              "       [0],\n",
              "       [0],\n",
              "       [0],\n",
              "       [0],\n",
              "       [0],\n",
              "       [0],\n",
              "       [0],\n",
              "       [1],\n",
              "       [0],\n",
              "       [1]], dtype=uint64)"
            ]
          },
          "metadata": {
            "tags": []
          },
          "execution_count": 252
        }
      ]
    },
    {
      "cell_type": "code",
      "metadata": {
        "colab": {
          "base_uri": "https://localhost:8080/"
        },
        "id": "6IaHEteEwd-4",
        "outputId": "eb5bc0b9-16b0-4e61-fff9-51c434525236"
      },
      "source": [
        "test_labels[:15]"
      ],
      "execution_count": 254,
      "outputs": [
        {
          "output_type": "execute_result",
          "data": {
            "text/plain": [
              "array([0., 0., 1., 0., 1., 0., 1., 0., 0., 1., 0., 0., 1., 1., 1.])"
            ]
          },
          "metadata": {
            "tags": []
          },
          "execution_count": 254
        }
      ]
    },
    {
      "cell_type": "code",
      "metadata": {
        "id": "fjXsE7FBwlf-"
      },
      "source": [
        ""
      ],
      "execution_count": 222,
      "outputs": []
    }
  ]
}