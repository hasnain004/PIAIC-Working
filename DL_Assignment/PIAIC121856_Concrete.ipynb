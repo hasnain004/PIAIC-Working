{
  "nbformat": 4,
  "nbformat_minor": 0,
  "metadata": {
    "accelerator": "TPU",
    "colab": {
      "name": "PIAIC121856_Concrete.ipynb",
      "provenance": [],
      "collapsed_sections": []
    },
    "kernelspec": {
      "display_name": "Python 3",
      "language": "python",
      "name": "python3"
    },
    "language_info": {
      "codemirror_mode": {
        "name": "ipython",
        "version": 3
      },
      "file_extension": ".py",
      "mimetype": "text/x-python",
      "name": "python",
      "nbconvert_exporter": "python",
      "pygments_lexer": "ipython3",
      "version": "3.9.2"
    }
  },
  "cells": [
    {
      "cell_type": "code",
      "metadata": {
        "id": "NipDpuvkCmi6"
      },
      "source": [
        "import pandas as pd\n",
        "import numpy as np\n",
        "import matplotlib.pyplot as plt\n",
        "import io"
      ],
      "execution_count": 3,
      "outputs": []
    },
    {
      "cell_type": "code",
      "metadata": {
        "colab": {
          "resources": {
            "http://localhost:8080/nbextensions/google.colab/files.js": {
              "data": "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",
              "ok": true,
              "headers": [
                [
                  "content-type",
                  "application/javascript"
                ]
              ],
              "status": 200,
              "status_text": ""
            }
          },
          "base_uri": "https://localhost:8080/",
          "height": 72
        },
        "id": "100c1sZkK_l3",
        "outputId": "e123b7cd-777b-4cc9-eceb-dbfaa7888462"
      },
      "source": [
        "from google.colab import files\n",
        "uploaded = files.upload()"
      ],
      "execution_count": 1,
      "outputs": [
        {
          "output_type": "display_data",
          "data": {
            "text/html": [
              "\n",
              "     <input type=\"file\" id=\"files-120af094-fb7d-4cc1-ac39-8fdb88a9b23d\" name=\"files[]\" multiple disabled\n",
              "        style=\"border:none\" />\n",
              "     <output id=\"result-120af094-fb7d-4cc1-ac39-8fdb88a9b23d\">\n",
              "      Upload widget is only available when the cell has been executed in the\n",
              "      current browser session. Please rerun this cell to enable.\n",
              "      </output>\n",
              "      <script src=\"/nbextensions/google.colab/files.js\"></script> "
            ],
            "text/plain": [
              "<IPython.core.display.HTML object>"
            ]
          },
          "metadata": {
            "tags": []
          }
        },
        {
          "output_type": "stream",
          "text": [
            "Saving compresive_strength_concrete.csv to compresive_strength_concrete.csv\n"
          ],
          "name": "stdout"
        }
      ]
    },
    {
      "cell_type": "code",
      "metadata": {
        "id": "B_vpinNiCxTc"
      },
      "source": [
        "df=pd.read_csv(io.BytesIO(uploaded['compresive_strength_concrete.csv']))"
      ],
      "execution_count": 6,
      "outputs": []
    },
    {
      "cell_type": "code",
      "metadata": {
        "colab": {
          "base_uri": "https://localhost:8080/"
        },
        "id": "VcJwnsAHIgRW",
        "outputId": "58d070cd-6808-4c88-bb85-68d4fe8abcc0"
      },
      "source": [
        "df.shape"
      ],
      "execution_count": 7,
      "outputs": [
        {
          "output_type": "execute_result",
          "data": {
            "text/plain": [
              "(1030, 9)"
            ]
          },
          "metadata": {
            "tags": []
          },
          "execution_count": 7
        }
      ]
    },
    {
      "cell_type": "code",
      "metadata": {
        "colab": {
          "base_uri": "https://localhost:8080/",
          "height": 255
        },
        "id": "U0yFP1M6Ikh-",
        "outputId": "44f561d8-a078-4401-f5ba-12fa6f66a717"
      },
      "source": [
        "df.head()"
      ],
      "execution_count": 8,
      "outputs": [
        {
          "output_type": "execute_result",
          "data": {
            "text/html": [
              "<div>\n",
              "<style scoped>\n",
              "    .dataframe tbody tr th:only-of-type {\n",
              "        vertical-align: middle;\n",
              "    }\n",
              "\n",
              "    .dataframe tbody tr th {\n",
              "        vertical-align: top;\n",
              "    }\n",
              "\n",
              "    .dataframe thead th {\n",
              "        text-align: right;\n",
              "    }\n",
              "</style>\n",
              "<table border=\"1\" class=\"dataframe\">\n",
              "  <thead>\n",
              "    <tr style=\"text-align: right;\">\n",
              "      <th></th>\n",
              "      <th>Cement (component 1)(kg in a m^3 mixture)</th>\n",
              "      <th>Blast Furnace Slag (component 2)(kg in a m^3 mixture)</th>\n",
              "      <th>Fly Ash (component 3)(kg in a m^3 mixture)</th>\n",
              "      <th>Water  (component 4)(kg in a m^3 mixture)</th>\n",
              "      <th>Superplasticizer (component 5)(kg in a m^3 mixture)</th>\n",
              "      <th>Coarse Aggregate  (component 6)(kg in a m^3 mixture)</th>\n",
              "      <th>Fine Aggregate (component 7)(kg in a m^3 mixture)</th>\n",
              "      <th>Age (day)</th>\n",
              "      <th>Concrete compressive strength(MPa, megapascals)</th>\n",
              "    </tr>\n",
              "  </thead>\n",
              "  <tbody>\n",
              "    <tr>\n",
              "      <th>0</th>\n",
              "      <td>540.0</td>\n",
              "      <td>0.0</td>\n",
              "      <td>0.0</td>\n",
              "      <td>162.0</td>\n",
              "      <td>2.5</td>\n",
              "      <td>1040.0</td>\n",
              "      <td>676.0</td>\n",
              "      <td>28</td>\n",
              "      <td>79.99</td>\n",
              "    </tr>\n",
              "    <tr>\n",
              "      <th>1</th>\n",
              "      <td>540.0</td>\n",
              "      <td>0.0</td>\n",
              "      <td>0.0</td>\n",
              "      <td>162.0</td>\n",
              "      <td>2.5</td>\n",
              "      <td>1055.0</td>\n",
              "      <td>676.0</td>\n",
              "      <td>28</td>\n",
              "      <td>61.89</td>\n",
              "    </tr>\n",
              "    <tr>\n",
              "      <th>2</th>\n",
              "      <td>332.5</td>\n",
              "      <td>142.5</td>\n",
              "      <td>0.0</td>\n",
              "      <td>228.0</td>\n",
              "      <td>0.0</td>\n",
              "      <td>932.0</td>\n",
              "      <td>594.0</td>\n",
              "      <td>270</td>\n",
              "      <td>40.27</td>\n",
              "    </tr>\n",
              "    <tr>\n",
              "      <th>3</th>\n",
              "      <td>332.5</td>\n",
              "      <td>142.5</td>\n",
              "      <td>0.0</td>\n",
              "      <td>228.0</td>\n",
              "      <td>0.0</td>\n",
              "      <td>932.0</td>\n",
              "      <td>594.0</td>\n",
              "      <td>365</td>\n",
              "      <td>41.05</td>\n",
              "    </tr>\n",
              "    <tr>\n",
              "      <th>4</th>\n",
              "      <td>198.6</td>\n",
              "      <td>132.4</td>\n",
              "      <td>0.0</td>\n",
              "      <td>192.0</td>\n",
              "      <td>0.0</td>\n",
              "      <td>978.4</td>\n",
              "      <td>825.5</td>\n",
              "      <td>360</td>\n",
              "      <td>44.30</td>\n",
              "    </tr>\n",
              "  </tbody>\n",
              "</table>\n",
              "</div>"
            ],
            "text/plain": [
              "   Cement (component 1)(kg in a m^3 mixture)  ...  Concrete compressive strength(MPa, megapascals) \n",
              "0                                      540.0  ...                                             79.99\n",
              "1                                      540.0  ...                                             61.89\n",
              "2                                      332.5  ...                                             40.27\n",
              "3                                      332.5  ...                                             41.05\n",
              "4                                      198.6  ...                                             44.30\n",
              "\n",
              "[5 rows x 9 columns]"
            ]
          },
          "metadata": {
            "tags": []
          },
          "execution_count": 8
        }
      ]
    },
    {
      "cell_type": "code",
      "metadata": {
        "colab": {
          "base_uri": "https://localhost:8080/"
        },
        "id": "FlDbyF75K4Bg",
        "outputId": "46c8fd80-f9c4-4dc4-caa0-e57a6d7a7489"
      },
      "source": [
        "df.isnull().sum()"
      ],
      "execution_count": 9,
      "outputs": [
        {
          "output_type": "execute_result",
          "data": {
            "text/plain": [
              "Cement (component 1)(kg in a m^3 mixture)                0\n",
              "Blast Furnace Slag (component 2)(kg in a m^3 mixture)    0\n",
              "Fly Ash (component 3)(kg in a m^3 mixture)               0\n",
              "Water  (component 4)(kg in a m^3 mixture)                0\n",
              "Superplasticizer (component 5)(kg in a m^3 mixture)      0\n",
              "Coarse Aggregate  (component 6)(kg in a m^3 mixture)     0\n",
              "Fine Aggregate (component 7)(kg in a m^3 mixture)        0\n",
              "Age (day)                                                0\n",
              "Concrete compressive strength(MPa, megapascals)          0\n",
              "dtype: int64"
            ]
          },
          "metadata": {
            "tags": []
          },
          "execution_count": 9
        }
      ]
    },
    {
      "cell_type": "code",
      "metadata": {
        "colab": {
          "base_uri": "https://localhost:8080/"
        },
        "id": "4oUv0FJBK4Bg",
        "outputId": "7c18c67d-f6d9-43be-9cae-b21caef198d3"
      },
      "source": [
        "np.where(df.applymap(lambda x: x == ''))"
      ],
      "execution_count": 10,
      "outputs": [
        {
          "output_type": "execute_result",
          "data": {
            "text/plain": [
              "(array([], dtype=int64), array([], dtype=int64))"
            ]
          },
          "metadata": {
            "tags": []
          },
          "execution_count": 10
        }
      ]
    },
    {
      "cell_type": "code",
      "metadata": {
        "id": "BEs3tlRdK4Bi"
      },
      "source": [
        "X_train = df.sample(frac = 0.7, random_state = 123)\n",
        "X_test = df.drop(X_train.index)"
      ],
      "execution_count": 11,
      "outputs": []
    },
    {
      "cell_type": "code",
      "metadata": {
        "colab": {
          "base_uri": "https://localhost:8080/",
          "height": 255
        },
        "id": "9UC_1JrNK4Bi",
        "outputId": "546a6d58-a301-4468-cd77-6c94e2b4a0fd"
      },
      "source": [
        "X_train.head()"
      ],
      "execution_count": 12,
      "outputs": [
        {
          "output_type": "execute_result",
          "data": {
            "text/html": [
              "<div>\n",
              "<style scoped>\n",
              "    .dataframe tbody tr th:only-of-type {\n",
              "        vertical-align: middle;\n",
              "    }\n",
              "\n",
              "    .dataframe tbody tr th {\n",
              "        vertical-align: top;\n",
              "    }\n",
              "\n",
              "    .dataframe thead th {\n",
              "        text-align: right;\n",
              "    }\n",
              "</style>\n",
              "<table border=\"1\" class=\"dataframe\">\n",
              "  <thead>\n",
              "    <tr style=\"text-align: right;\">\n",
              "      <th></th>\n",
              "      <th>Cement (component 1)(kg in a m^3 mixture)</th>\n",
              "      <th>Blast Furnace Slag (component 2)(kg in a m^3 mixture)</th>\n",
              "      <th>Fly Ash (component 3)(kg in a m^3 mixture)</th>\n",
              "      <th>Water  (component 4)(kg in a m^3 mixture)</th>\n",
              "      <th>Superplasticizer (component 5)(kg in a m^3 mixture)</th>\n",
              "      <th>Coarse Aggregate  (component 6)(kg in a m^3 mixture)</th>\n",
              "      <th>Fine Aggregate (component 7)(kg in a m^3 mixture)</th>\n",
              "      <th>Age (day)</th>\n",
              "      <th>Concrete compressive strength(MPa, megapascals)</th>\n",
              "    </tr>\n",
              "  </thead>\n",
              "  <tbody>\n",
              "    <tr>\n",
              "      <th>134</th>\n",
              "      <td>362.6</td>\n",
              "      <td>189.0</td>\n",
              "      <td>0.0</td>\n",
              "      <td>164.9</td>\n",
              "      <td>11.6</td>\n",
              "      <td>944.7</td>\n",
              "      <td>755.8</td>\n",
              "      <td>28</td>\n",
              "      <td>71.30</td>\n",
              "    </tr>\n",
              "    <tr>\n",
              "      <th>13</th>\n",
              "      <td>190.0</td>\n",
              "      <td>190.0</td>\n",
              "      <td>0.0</td>\n",
              "      <td>228.0</td>\n",
              "      <td>0.0</td>\n",
              "      <td>932.0</td>\n",
              "      <td>670.0</td>\n",
              "      <td>90</td>\n",
              "      <td>42.33</td>\n",
              "    </tr>\n",
              "    <tr>\n",
              "      <th>996</th>\n",
              "      <td>152.6</td>\n",
              "      <td>238.7</td>\n",
              "      <td>0.0</td>\n",
              "      <td>200.0</td>\n",
              "      <td>6.3</td>\n",
              "      <td>1001.8</td>\n",
              "      <td>683.9</td>\n",
              "      <td>28</td>\n",
              "      <td>26.86</td>\n",
              "    </tr>\n",
              "    <tr>\n",
              "      <th>770</th>\n",
              "      <td>349.0</td>\n",
              "      <td>0.0</td>\n",
              "      <td>0.0</td>\n",
              "      <td>192.0</td>\n",
              "      <td>0.0</td>\n",
              "      <td>1047.0</td>\n",
              "      <td>806.0</td>\n",
              "      <td>3</td>\n",
              "      <td>14.99</td>\n",
              "    </tr>\n",
              "    <tr>\n",
              "      <th>937</th>\n",
              "      <td>313.3</td>\n",
              "      <td>0.0</td>\n",
              "      <td>113.0</td>\n",
              "      <td>178.5</td>\n",
              "      <td>8.0</td>\n",
              "      <td>1001.9</td>\n",
              "      <td>688.7</td>\n",
              "      <td>28</td>\n",
              "      <td>36.80</td>\n",
              "    </tr>\n",
              "  </tbody>\n",
              "</table>\n",
              "</div>"
            ],
            "text/plain": [
              "     Cement (component 1)(kg in a m^3 mixture)  ...  Concrete compressive strength(MPa, megapascals) \n",
              "134                                      362.6  ...                                             71.30\n",
              "13                                       190.0  ...                                             42.33\n",
              "996                                      152.6  ...                                             26.86\n",
              "770                                      349.0  ...                                             14.99\n",
              "937                                      313.3  ...                                             36.80\n",
              "\n",
              "[5 rows x 9 columns]"
            ]
          },
          "metadata": {
            "tags": []
          },
          "execution_count": 12
        }
      ]
    },
    {
      "cell_type": "code",
      "metadata": {
        "id": "OTv_VabYIj83"
      },
      "source": [
        "# Assigning features and target variable\n",
        "Y_train = X_train.iloc[:,-1]\n",
        "X_train = X_train.iloc[:,0:-1]\n",
        "Y_test = X_test.iloc[:,-1]\n",
        "X_test = X_test.iloc[:,0:-1]"
      ],
      "execution_count": 13,
      "outputs": []
    },
    {
      "cell_type": "code",
      "metadata": {
        "id": "KHF-Yeo2JTyg"
      },
      "source": [
        "# Find Mean and Standard Deviation\n",
        "X_mean = X_train.mean()\n",
        "X_train -= X_mean\n",
        "X_std = X_train.std()\n",
        "X_train /= X_std\n",
        "X_test -= X_mean\n",
        "X_test /= X_std"
      ],
      "execution_count": 14,
      "outputs": []
    },
    {
      "cell_type": "code",
      "metadata": {
        "id": "rKPoMyL8K4Bk"
      },
      "source": [
        "Y_mean = Y_train.mean()\n",
        "Y_train -= Y_mean\n",
        "Y_std = Y_train.std()\n",
        "Y_train /= Y_std\n",
        "Y_test -= Y_mean\n",
        "Y_test /= Y_std"
      ],
      "execution_count": 15,
      "outputs": []
    },
    {
      "cell_type": "code",
      "metadata": {
        "colab": {
          "base_uri": "https://localhost:8080/"
        },
        "id": "n8ZACc6IK4Bl",
        "outputId": "ad6ef01b-abed-44c6-aeab-d080e4a5bbae"
      },
      "source": [
        "X_train.dtypes"
      ],
      "execution_count": 16,
      "outputs": [
        {
          "output_type": "execute_result",
          "data": {
            "text/plain": [
              "Cement (component 1)(kg in a m^3 mixture)                float64\n",
              "Blast Furnace Slag (component 2)(kg in a m^3 mixture)    float64\n",
              "Fly Ash (component 3)(kg in a m^3 mixture)               float64\n",
              "Water  (component 4)(kg in a m^3 mixture)                float64\n",
              "Superplasticizer (component 5)(kg in a m^3 mixture)      float64\n",
              "Coarse Aggregate  (component 6)(kg in a m^3 mixture)     float64\n",
              "Fine Aggregate (component 7)(kg in a m^3 mixture)        float64\n",
              "Age (day)                                                float64\n",
              "dtype: object"
            ]
          },
          "metadata": {
            "tags": []
          },
          "execution_count": 16
        }
      ]
    },
    {
      "cell_type": "code",
      "metadata": {
        "id": "MTvHxhXTK4Bl"
      },
      "source": [
        "X_train = X_train.to_numpy()\n",
        "Y_train = Y_train.to_numpy()\n",
        "X_test = X_test.to_numpy()\n",
        "Y_test = Y_test.to_numpy()"
      ],
      "execution_count": 17,
      "outputs": []
    },
    {
      "cell_type": "code",
      "metadata": {
        "id": "N71E3GgCMTCO"
      },
      "source": [
        "# Model selection\n",
        "from tensorflow.keras import layers\n",
        "from tensorflow.keras import models"
      ],
      "execution_count": 21,
      "outputs": []
    },
    {
      "cell_type": "code",
      "metadata": {
        "id": "PZIj7pgIMhcg"
      },
      "source": [
        "model = models.Sequential()"
      ],
      "execution_count": 22,
      "outputs": []
    },
    {
      "cell_type": "code",
      "metadata": {
        "id": "jcIypzdFMrDX"
      },
      "source": [
        "model.add(layers.Dense(128,activation=\"relu\",input_shape=(X_train.shape[1],)))"
      ],
      "execution_count": 23,
      "outputs": []
    },
    {
      "cell_type": "code",
      "metadata": {
        "id": "gl8qko4FM3j4"
      },
      "source": [
        "model.add(layers.Dense(64,activation=\"relu\"))"
      ],
      "execution_count": 24,
      "outputs": []
    },
    {
      "cell_type": "code",
      "metadata": {
        "id": "LQ2VEXd9M8Uw"
      },
      "source": [
        "model.add(layers.Dense(32,activation=\"relu\"))"
      ],
      "execution_count": 25,
      "outputs": []
    },
    {
      "cell_type": "code",
      "metadata": {
        "id": "yWUmN_KvNCno"
      },
      "source": [
        "model.add(layers.Dense(1))"
      ],
      "execution_count": 26,
      "outputs": []
    },
    {
      "cell_type": "code",
      "metadata": {
        "id": "zSyeoyk0Nsa2"
      },
      "source": [
        "model.compile(optimizer=\"rmsprop\",loss=[\"mse\"],metrics=[\"mae\"])"
      ],
      "execution_count": 27,
      "outputs": []
    },
    {
      "cell_type": "code",
      "metadata": {
        "colab": {
          "base_uri": "https://localhost:8080/"
        },
        "id": "E8cCCFviOKuF",
        "outputId": "1d972c83-9118-4c87-c976-3b99e06fa86f"
      },
      "source": [
        "history = model.fit(X_train,Y_train,epochs=200,validation_split=0.3, batch_size = 16)"
      ],
      "execution_count": 28,
      "outputs": [
        {
          "output_type": "stream",
          "text": [
            "Epoch 1/200\n",
            "32/32 [==============================] - 1s 9ms/step - loss: 0.7074 - mae: 0.6982 - val_loss: 0.4198 - val_mae: 0.5236\n",
            "Epoch 2/200\n",
            "32/32 [==============================] - 0s 3ms/step - loss: 0.3056 - mae: 0.4506 - val_loss: 0.3239 - val_mae: 0.4483\n",
            "Epoch 3/200\n",
            "32/32 [==============================] - 0s 2ms/step - loss: 0.2391 - mae: 0.3904 - val_loss: 0.2944 - val_mae: 0.4228\n",
            "Epoch 4/200\n",
            "32/32 [==============================] - 0s 3ms/step - loss: 0.2016 - mae: 0.3493 - val_loss: 0.2702 - val_mae: 0.4042\n",
            "Epoch 5/200\n",
            "32/32 [==============================] - 0s 3ms/step - loss: 0.1452 - mae: 0.2953 - val_loss: 0.2684 - val_mae: 0.4057\n",
            "Epoch 6/200\n",
            "32/32 [==============================] - 0s 2ms/step - loss: 0.1594 - mae: 0.3098 - val_loss: 0.2437 - val_mae: 0.3812\n",
            "Epoch 7/200\n",
            "32/32 [==============================] - 0s 3ms/step - loss: 0.1199 - mae: 0.2702 - val_loss: 0.2540 - val_mae: 0.3856\n",
            "Epoch 8/200\n",
            "32/32 [==============================] - 0s 3ms/step - loss: 0.1264 - mae: 0.2769 - val_loss: 0.2306 - val_mae: 0.3557\n",
            "Epoch 9/200\n",
            "32/32 [==============================] - 0s 3ms/step - loss: 0.1057 - mae: 0.2481 - val_loss: 0.2084 - val_mae: 0.3488\n",
            "Epoch 10/200\n",
            "32/32 [==============================] - 0s 3ms/step - loss: 0.1021 - mae: 0.2536 - val_loss: 0.1937 - val_mae: 0.3325\n",
            "Epoch 11/200\n",
            "32/32 [==============================] - 0s 3ms/step - loss: 0.0903 - mae: 0.2298 - val_loss: 0.1824 - val_mae: 0.3170\n",
            "Epoch 12/200\n",
            "32/32 [==============================] - 0s 3ms/step - loss: 0.0966 - mae: 0.2295 - val_loss: 0.2119 - val_mae: 0.3584\n",
            "Epoch 13/200\n",
            "32/32 [==============================] - 0s 3ms/step - loss: 0.0969 - mae: 0.2346 - val_loss: 0.1986 - val_mae: 0.3500\n",
            "Epoch 14/200\n",
            "32/32 [==============================] - 0s 3ms/step - loss: 0.0792 - mae: 0.2138 - val_loss: 0.1809 - val_mae: 0.3229\n",
            "Epoch 15/200\n",
            "32/32 [==============================] - 0s 3ms/step - loss: 0.0669 - mae: 0.1981 - val_loss: 0.1974 - val_mae: 0.3336\n",
            "Epoch 16/200\n",
            "32/32 [==============================] - 0s 3ms/step - loss: 0.0797 - mae: 0.2147 - val_loss: 0.1622 - val_mae: 0.3060\n",
            "Epoch 17/200\n",
            "32/32 [==============================] - 0s 3ms/step - loss: 0.0672 - mae: 0.2021 - val_loss: 0.1947 - val_mae: 0.3346\n",
            "Epoch 18/200\n",
            "32/32 [==============================] - 0s 3ms/step - loss: 0.0707 - mae: 0.2074 - val_loss: 0.1699 - val_mae: 0.3087\n",
            "Epoch 19/200\n",
            "32/32 [==============================] - 0s 3ms/step - loss: 0.0688 - mae: 0.2008 - val_loss: 0.1793 - val_mae: 0.3110\n",
            "Epoch 20/200\n",
            "32/32 [==============================] - 0s 3ms/step - loss: 0.0562 - mae: 0.1779 - val_loss: 0.1719 - val_mae: 0.3064\n",
            "Epoch 21/200\n",
            "32/32 [==============================] - 0s 3ms/step - loss: 0.0504 - mae: 0.1739 - val_loss: 0.1837 - val_mae: 0.3208\n",
            "Epoch 22/200\n",
            "32/32 [==============================] - 0s 3ms/step - loss: 0.0606 - mae: 0.1887 - val_loss: 0.1854 - val_mae: 0.3177\n",
            "Epoch 23/200\n",
            "32/32 [==============================] - 0s 3ms/step - loss: 0.0654 - mae: 0.1980 - val_loss: 0.1573 - val_mae: 0.2897\n",
            "Epoch 24/200\n",
            "32/32 [==============================] - 0s 3ms/step - loss: 0.0553 - mae: 0.1772 - val_loss: 0.1526 - val_mae: 0.2904\n",
            "Epoch 25/200\n",
            "32/32 [==============================] - 0s 3ms/step - loss: 0.0524 - mae: 0.1684 - val_loss: 0.1908 - val_mae: 0.3345\n",
            "Epoch 26/200\n",
            "32/32 [==============================] - 0s 3ms/step - loss: 0.0648 - mae: 0.1910 - val_loss: 0.1734 - val_mae: 0.3184\n",
            "Epoch 27/200\n",
            "32/32 [==============================] - 0s 3ms/step - loss: 0.0518 - mae: 0.1712 - val_loss: 0.1517 - val_mae: 0.2964\n",
            "Epoch 28/200\n",
            "32/32 [==============================] - 0s 3ms/step - loss: 0.0543 - mae: 0.1787 - val_loss: 0.1645 - val_mae: 0.3089\n",
            "Epoch 29/200\n",
            "32/32 [==============================] - 0s 3ms/step - loss: 0.0558 - mae: 0.1729 - val_loss: 0.1952 - val_mae: 0.3353\n",
            "Epoch 30/200\n",
            "32/32 [==============================] - 0s 3ms/step - loss: 0.0613 - mae: 0.1899 - val_loss: 0.1803 - val_mae: 0.3250\n",
            "Epoch 31/200\n",
            "32/32 [==============================] - 0s 3ms/step - loss: 0.0442 - mae: 0.1583 - val_loss: 0.1552 - val_mae: 0.2999\n",
            "Epoch 32/200\n",
            "32/32 [==============================] - 0s 3ms/step - loss: 0.0487 - mae: 0.1674 - val_loss: 0.1807 - val_mae: 0.3161\n",
            "Epoch 33/200\n",
            "32/32 [==============================] - 0s 3ms/step - loss: 0.0567 - mae: 0.1711 - val_loss: 0.1500 - val_mae: 0.2891\n",
            "Epoch 34/200\n",
            "32/32 [==============================] - 0s 2ms/step - loss: 0.0471 - mae: 0.1672 - val_loss: 0.1407 - val_mae: 0.2789\n",
            "Epoch 35/200\n",
            "32/32 [==============================] - 0s 2ms/step - loss: 0.0395 - mae: 0.1427 - val_loss: 0.1514 - val_mae: 0.2929\n",
            "Epoch 36/200\n",
            "32/32 [==============================] - 0s 3ms/step - loss: 0.0381 - mae: 0.1458 - val_loss: 0.1639 - val_mae: 0.3005\n",
            "Epoch 37/200\n",
            "32/32 [==============================] - 0s 3ms/step - loss: 0.0468 - mae: 0.1639 - val_loss: 0.2009 - val_mae: 0.3285\n",
            "Epoch 38/200\n",
            "32/32 [==============================] - 0s 3ms/step - loss: 0.0574 - mae: 0.1824 - val_loss: 0.1721 - val_mae: 0.3063\n",
            "Epoch 39/200\n",
            "32/32 [==============================] - 0s 2ms/step - loss: 0.0429 - mae: 0.1511 - val_loss: 0.1389 - val_mae: 0.2831\n",
            "Epoch 40/200\n",
            "32/32 [==============================] - 0s 3ms/step - loss: 0.0468 - mae: 0.1644 - val_loss: 0.1430 - val_mae: 0.2913\n",
            "Epoch 41/200\n",
            "32/32 [==============================] - 0s 3ms/step - loss: 0.0417 - mae: 0.1527 - val_loss: 0.1385 - val_mae: 0.2799\n",
            "Epoch 42/200\n",
            "32/32 [==============================] - 0s 3ms/step - loss: 0.0351 - mae: 0.1410 - val_loss: 0.1574 - val_mae: 0.2961\n",
            "Epoch 43/200\n",
            "32/32 [==============================] - 0s 3ms/step - loss: 0.0461 - mae: 0.1498 - val_loss: 0.1577 - val_mae: 0.2979\n",
            "Epoch 44/200\n",
            "32/32 [==============================] - 0s 3ms/step - loss: 0.0361 - mae: 0.1417 - val_loss: 0.1385 - val_mae: 0.2792\n",
            "Epoch 45/200\n",
            "32/32 [==============================] - 0s 3ms/step - loss: 0.0354 - mae: 0.1389 - val_loss: 0.1472 - val_mae: 0.2820\n",
            "Epoch 46/200\n",
            "32/32 [==============================] - 0s 3ms/step - loss: 0.0389 - mae: 0.1430 - val_loss: 0.1515 - val_mae: 0.2864\n",
            "Epoch 47/200\n",
            "32/32 [==============================] - 0s 3ms/step - loss: 0.0335 - mae: 0.1371 - val_loss: 0.1457 - val_mae: 0.2955\n",
            "Epoch 48/200\n",
            "32/32 [==============================] - 0s 3ms/step - loss: 0.0448 - mae: 0.1596 - val_loss: 0.1374 - val_mae: 0.2795\n",
            "Epoch 49/200\n",
            "32/32 [==============================] - 0s 3ms/step - loss: 0.0386 - mae: 0.1477 - val_loss: 0.1520 - val_mae: 0.2954\n",
            "Epoch 50/200\n",
            "32/32 [==============================] - 0s 3ms/step - loss: 0.0465 - mae: 0.1506 - val_loss: 0.1395 - val_mae: 0.2809\n",
            "Epoch 51/200\n",
            "32/32 [==============================] - 0s 3ms/step - loss: 0.0374 - mae: 0.1420 - val_loss: 0.1567 - val_mae: 0.2971\n",
            "Epoch 52/200\n",
            "32/32 [==============================] - 0s 3ms/step - loss: 0.0344 - mae: 0.1416 - val_loss: 0.1458 - val_mae: 0.2799\n",
            "Epoch 53/200\n",
            "32/32 [==============================] - 0s 3ms/step - loss: 0.0323 - mae: 0.1301 - val_loss: 0.1581 - val_mae: 0.2920\n",
            "Epoch 54/200\n",
            "32/32 [==============================] - 0s 3ms/step - loss: 0.0448 - mae: 0.1499 - val_loss: 0.1400 - val_mae: 0.2692\n",
            "Epoch 55/200\n",
            "32/32 [==============================] - 0s 3ms/step - loss: 0.0294 - mae: 0.1264 - val_loss: 0.1422 - val_mae: 0.2828\n",
            "Epoch 56/200\n",
            "32/32 [==============================] - 0s 2ms/step - loss: 0.0363 - mae: 0.1372 - val_loss: 0.1473 - val_mae: 0.2848\n",
            "Epoch 57/200\n",
            "32/32 [==============================] - 0s 3ms/step - loss: 0.0398 - mae: 0.1477 - val_loss: 0.1468 - val_mae: 0.2744\n",
            "Epoch 58/200\n",
            "32/32 [==============================] - 0s 3ms/step - loss: 0.0291 - mae: 0.1289 - val_loss: 0.1473 - val_mae: 0.2887\n",
            "Epoch 59/200\n",
            "32/32 [==============================] - 0s 2ms/step - loss: 0.0333 - mae: 0.1353 - val_loss: 0.1380 - val_mae: 0.2783\n",
            "Epoch 60/200\n",
            "32/32 [==============================] - 0s 3ms/step - loss: 0.0329 - mae: 0.1359 - val_loss: 0.1382 - val_mae: 0.2770\n",
            "Epoch 61/200\n",
            "32/32 [==============================] - 0s 2ms/step - loss: 0.0264 - mae: 0.1158 - val_loss: 0.1344 - val_mae: 0.2752\n",
            "Epoch 62/200\n",
            "32/32 [==============================] - 0s 3ms/step - loss: 0.0327 - mae: 0.1271 - val_loss: 0.1380 - val_mae: 0.2769\n",
            "Epoch 63/200\n",
            "32/32 [==============================] - 0s 3ms/step - loss: 0.0338 - mae: 0.1308 - val_loss: 0.1354 - val_mae: 0.2743\n",
            "Epoch 64/200\n",
            "32/32 [==============================] - 0s 3ms/step - loss: 0.0323 - mae: 0.1259 - val_loss: 0.1471 - val_mae: 0.2839\n",
            "Epoch 65/200\n",
            "32/32 [==============================] - 0s 3ms/step - loss: 0.0351 - mae: 0.1353 - val_loss: 0.1334 - val_mae: 0.2770\n",
            "Epoch 66/200\n",
            "32/32 [==============================] - 0s 3ms/step - loss: 0.0342 - mae: 0.1338 - val_loss: 0.1317 - val_mae: 0.2730\n",
            "Epoch 67/200\n",
            "32/32 [==============================] - 0s 3ms/step - loss: 0.0297 - mae: 0.1186 - val_loss: 0.1381 - val_mae: 0.2761\n",
            "Epoch 68/200\n",
            "32/32 [==============================] - 0s 3ms/step - loss: 0.0316 - mae: 0.1327 - val_loss: 0.1543 - val_mae: 0.2871\n",
            "Epoch 69/200\n",
            "32/32 [==============================] - 0s 2ms/step - loss: 0.0311 - mae: 0.1333 - val_loss: 0.1477 - val_mae: 0.2809\n",
            "Epoch 70/200\n",
            "32/32 [==============================] - 0s 3ms/step - loss: 0.0341 - mae: 0.1306 - val_loss: 0.1343 - val_mae: 0.2817\n",
            "Epoch 71/200\n",
            "32/32 [==============================] - 0s 3ms/step - loss: 0.0256 - mae: 0.1214 - val_loss: 0.1215 - val_mae: 0.2606\n",
            "Epoch 72/200\n",
            "32/32 [==============================] - 0s 3ms/step - loss: 0.0260 - mae: 0.1183 - val_loss: 0.1361 - val_mae: 0.2703\n",
            "Epoch 73/200\n",
            "32/32 [==============================] - 0s 3ms/step - loss: 0.0314 - mae: 0.1286 - val_loss: 0.1291 - val_mae: 0.2675\n",
            "Epoch 74/200\n",
            "32/32 [==============================] - 0s 3ms/step - loss: 0.0300 - mae: 0.1272 - val_loss: 0.1405 - val_mae: 0.2784\n",
            "Epoch 75/200\n",
            "32/32 [==============================] - 0s 3ms/step - loss: 0.0255 - mae: 0.1158 - val_loss: 0.1378 - val_mae: 0.2754\n",
            "Epoch 76/200\n",
            "32/32 [==============================] - 0s 3ms/step - loss: 0.0338 - mae: 0.1303 - val_loss: 0.1314 - val_mae: 0.2647\n",
            "Epoch 77/200\n",
            "32/32 [==============================] - 0s 3ms/step - loss: 0.0273 - mae: 0.1187 - val_loss: 0.1810 - val_mae: 0.3243\n",
            "Epoch 78/200\n",
            "32/32 [==============================] - 0s 3ms/step - loss: 0.0281 - mae: 0.1191 - val_loss: 0.1227 - val_mae: 0.2545\n",
            "Epoch 79/200\n",
            "32/32 [==============================] - 0s 3ms/step - loss: 0.0265 - mae: 0.1206 - val_loss: 0.1310 - val_mae: 0.2689\n",
            "Epoch 80/200\n",
            "32/32 [==============================] - 0s 3ms/step - loss: 0.0249 - mae: 0.1162 - val_loss: 0.1419 - val_mae: 0.2793\n",
            "Epoch 81/200\n",
            "32/32 [==============================] - 0s 3ms/step - loss: 0.0306 - mae: 0.1255 - val_loss: 0.1478 - val_mae: 0.2911\n",
            "Epoch 82/200\n",
            "32/32 [==============================] - 0s 3ms/step - loss: 0.0278 - mae: 0.1149 - val_loss: 0.1322 - val_mae: 0.2652\n",
            "Epoch 83/200\n",
            "32/32 [==============================] - 0s 3ms/step - loss: 0.0287 - mae: 0.1142 - val_loss: 0.1288 - val_mae: 0.2614\n",
            "Epoch 84/200\n",
            "32/32 [==============================] - 0s 3ms/step - loss: 0.0306 - mae: 0.1221 - val_loss: 0.1465 - val_mae: 0.2718\n",
            "Epoch 85/200\n",
            "32/32 [==============================] - 0s 3ms/step - loss: 0.0313 - mae: 0.1252 - val_loss: 0.1356 - val_mae: 0.2757\n",
            "Epoch 86/200\n",
            "32/32 [==============================] - 0s 3ms/step - loss: 0.0258 - mae: 0.1176 - val_loss: 0.1345 - val_mae: 0.2722\n",
            "Epoch 87/200\n",
            "32/32 [==============================] - 0s 3ms/step - loss: 0.0289 - mae: 0.1265 - val_loss: 0.1434 - val_mae: 0.2741\n",
            "Epoch 88/200\n",
            "32/32 [==============================] - 0s 3ms/step - loss: 0.0283 - mae: 0.1210 - val_loss: 0.1304 - val_mae: 0.2665\n",
            "Epoch 89/200\n",
            "32/32 [==============================] - 0s 2ms/step - loss: 0.0233 - mae: 0.1050 - val_loss: 0.1243 - val_mae: 0.2596\n",
            "Epoch 90/200\n",
            "32/32 [==============================] - 0s 3ms/step - loss: 0.0271 - mae: 0.1155 - val_loss: 0.1355 - val_mae: 0.2717\n",
            "Epoch 91/200\n",
            "32/32 [==============================] - 0s 3ms/step - loss: 0.0263 - mae: 0.1112 - val_loss: 0.1380 - val_mae: 0.2796\n",
            "Epoch 92/200\n",
            "32/32 [==============================] - 0s 3ms/step - loss: 0.0313 - mae: 0.1200 - val_loss: 0.1288 - val_mae: 0.2651\n",
            "Epoch 93/200\n",
            "32/32 [==============================] - 0s 3ms/step - loss: 0.0239 - mae: 0.1148 - val_loss: 0.1256 - val_mae: 0.2645\n",
            "Epoch 94/200\n",
            "32/32 [==============================] - 0s 3ms/step - loss: 0.0258 - mae: 0.1132 - val_loss: 0.1209 - val_mae: 0.2564\n",
            "Epoch 95/200\n",
            "32/32 [==============================] - 0s 3ms/step - loss: 0.0211 - mae: 0.1030 - val_loss: 0.1410 - val_mae: 0.2744\n",
            "Epoch 96/200\n",
            "32/32 [==============================] - 0s 3ms/step - loss: 0.0183 - mae: 0.1014 - val_loss: 0.1324 - val_mae: 0.2646\n",
            "Epoch 97/200\n",
            "32/32 [==============================] - 0s 3ms/step - loss: 0.0256 - mae: 0.1133 - val_loss: 0.1289 - val_mae: 0.2642\n",
            "Epoch 98/200\n",
            "32/32 [==============================] - 0s 3ms/step - loss: 0.0256 - mae: 0.1122 - val_loss: 0.1526 - val_mae: 0.2886\n",
            "Epoch 99/200\n",
            "32/32 [==============================] - 0s 3ms/step - loss: 0.0305 - mae: 0.1190 - val_loss: 0.1367 - val_mae: 0.2717\n",
            "Epoch 100/200\n",
            "32/32 [==============================] - 0s 3ms/step - loss: 0.0223 - mae: 0.1084 - val_loss: 0.2021 - val_mae: 0.3358\n",
            "Epoch 101/200\n",
            "32/32 [==============================] - 0s 3ms/step - loss: 0.0315 - mae: 0.1246 - val_loss: 0.1328 - val_mae: 0.2617\n",
            "Epoch 102/200\n",
            "32/32 [==============================] - 0s 3ms/step - loss: 0.0258 - mae: 0.1107 - val_loss: 0.1276 - val_mae: 0.2562\n",
            "Epoch 103/200\n",
            "32/32 [==============================] - 0s 3ms/step - loss: 0.0194 - mae: 0.0940 - val_loss: 0.1825 - val_mae: 0.3107\n",
            "Epoch 104/200\n",
            "32/32 [==============================] - 0s 3ms/step - loss: 0.0323 - mae: 0.1266 - val_loss: 0.1340 - val_mae: 0.2707\n",
            "Epoch 105/200\n",
            "32/32 [==============================] - 0s 3ms/step - loss: 0.0256 - mae: 0.1128 - val_loss: 0.1329 - val_mae: 0.2775\n",
            "Epoch 106/200\n",
            "32/32 [==============================] - 0s 3ms/step - loss: 0.0237 - mae: 0.1128 - val_loss: 0.1377 - val_mae: 0.2684\n",
            "Epoch 107/200\n",
            "32/32 [==============================] - 0s 3ms/step - loss: 0.0173 - mae: 0.0983 - val_loss: 0.1380 - val_mae: 0.2674\n",
            "Epoch 108/200\n",
            "32/32 [==============================] - 0s 3ms/step - loss: 0.0225 - mae: 0.1023 - val_loss: 0.1321 - val_mae: 0.2663\n",
            "Epoch 109/200\n",
            "32/32 [==============================] - 0s 3ms/step - loss: 0.0207 - mae: 0.1051 - val_loss: 0.1395 - val_mae: 0.2725\n",
            "Epoch 110/200\n",
            "32/32 [==============================] - 0s 3ms/step - loss: 0.0222 - mae: 0.1011 - val_loss: 0.1257 - val_mae: 0.2567\n",
            "Epoch 111/200\n",
            "32/32 [==============================] - 0s 3ms/step - loss: 0.0222 - mae: 0.1039 - val_loss: 0.1336 - val_mae: 0.2743\n",
            "Epoch 112/200\n",
            "32/32 [==============================] - 0s 3ms/step - loss: 0.0278 - mae: 0.1102 - val_loss: 0.1198 - val_mae: 0.2484\n",
            "Epoch 113/200\n",
            "32/32 [==============================] - 0s 3ms/step - loss: 0.0208 - mae: 0.0975 - val_loss: 0.1202 - val_mae: 0.2538\n",
            "Epoch 114/200\n",
            "32/32 [==============================] - 0s 3ms/step - loss: 0.0214 - mae: 0.0996 - val_loss: 0.1374 - val_mae: 0.2658\n",
            "Epoch 115/200\n",
            "32/32 [==============================] - 0s 3ms/step - loss: 0.0295 - mae: 0.1156 - val_loss: 0.1171 - val_mae: 0.2465\n",
            "Epoch 116/200\n",
            "32/32 [==============================] - 0s 3ms/step - loss: 0.0209 - mae: 0.1031 - val_loss: 0.1315 - val_mae: 0.2611\n",
            "Epoch 117/200\n",
            "32/32 [==============================] - 0s 3ms/step - loss: 0.0253 - mae: 0.1081 - val_loss: 0.1353 - val_mae: 0.2698\n",
            "Epoch 118/200\n",
            "32/32 [==============================] - 0s 3ms/step - loss: 0.0300 - mae: 0.1157 - val_loss: 0.1183 - val_mae: 0.2550\n",
            "Epoch 119/200\n",
            "32/32 [==============================] - 0s 3ms/step - loss: 0.0194 - mae: 0.0925 - val_loss: 0.1211 - val_mae: 0.2493\n",
            "Epoch 120/200\n",
            "32/32 [==============================] - 0s 3ms/step - loss: 0.0220 - mae: 0.1015 - val_loss: 0.1271 - val_mae: 0.2593\n",
            "Epoch 121/200\n",
            "32/32 [==============================] - 0s 3ms/step - loss: 0.0197 - mae: 0.0984 - val_loss: 0.1234 - val_mae: 0.2526\n",
            "Epoch 122/200\n",
            "32/32 [==============================] - 0s 3ms/step - loss: 0.0211 - mae: 0.1045 - val_loss: 0.1295 - val_mae: 0.2593\n",
            "Epoch 123/200\n",
            "32/32 [==============================] - 0s 3ms/step - loss: 0.0182 - mae: 0.0936 - val_loss: 0.1293 - val_mae: 0.2613\n",
            "Epoch 124/200\n",
            "32/32 [==============================] - 0s 3ms/step - loss: 0.0201 - mae: 0.1022 - val_loss: 0.1231 - val_mae: 0.2524\n",
            "Epoch 125/200\n",
            "32/32 [==============================] - 0s 3ms/step - loss: 0.0276 - mae: 0.1156 - val_loss: 0.1243 - val_mae: 0.2631\n",
            "Epoch 126/200\n",
            "32/32 [==============================] - 0s 3ms/step - loss: 0.0175 - mae: 0.0954 - val_loss: 0.1222 - val_mae: 0.2531\n",
            "Epoch 127/200\n",
            "32/32 [==============================] - 0s 3ms/step - loss: 0.0209 - mae: 0.1010 - val_loss: 0.1210 - val_mae: 0.2627\n",
            "Epoch 128/200\n",
            "32/32 [==============================] - 0s 3ms/step - loss: 0.0229 - mae: 0.1090 - val_loss: 0.1221 - val_mae: 0.2504\n",
            "Epoch 129/200\n",
            "32/32 [==============================] - 0s 3ms/step - loss: 0.0276 - mae: 0.1059 - val_loss: 0.1328 - val_mae: 0.2633\n",
            "Epoch 130/200\n",
            "32/32 [==============================] - 0s 3ms/step - loss: 0.0181 - mae: 0.0929 - val_loss: 0.1289 - val_mae: 0.2562\n",
            "Epoch 131/200\n",
            "32/32 [==============================] - 0s 3ms/step - loss: 0.0202 - mae: 0.0998 - val_loss: 0.1484 - val_mae: 0.2833\n",
            "Epoch 132/200\n",
            "32/32 [==============================] - 0s 3ms/step - loss: 0.0227 - mae: 0.1027 - val_loss: 0.1273 - val_mae: 0.2610\n",
            "Epoch 133/200\n",
            "32/32 [==============================] - 0s 3ms/step - loss: 0.0209 - mae: 0.0936 - val_loss: 0.1349 - val_mae: 0.2656\n",
            "Epoch 134/200\n",
            "32/32 [==============================] - 0s 3ms/step - loss: 0.0183 - mae: 0.0940 - val_loss: 0.1244 - val_mae: 0.2536\n",
            "Epoch 135/200\n",
            "32/32 [==============================] - 0s 3ms/step - loss: 0.0220 - mae: 0.0954 - val_loss: 0.1256 - val_mae: 0.2588\n",
            "Epoch 136/200\n",
            "32/32 [==============================] - 0s 3ms/step - loss: 0.0192 - mae: 0.0913 - val_loss: 0.1342 - val_mae: 0.2690\n",
            "Epoch 137/200\n",
            "32/32 [==============================] - 0s 3ms/step - loss: 0.0274 - mae: 0.0960 - val_loss: 0.1280 - val_mae: 0.2621\n",
            "Epoch 138/200\n",
            "32/32 [==============================] - 0s 3ms/step - loss: 0.0328 - mae: 0.1099 - val_loss: 0.1522 - val_mae: 0.2969\n",
            "Epoch 139/200\n",
            "32/32 [==============================] - 0s 3ms/step - loss: 0.0311 - mae: 0.1111 - val_loss: 0.1252 - val_mae: 0.2487\n",
            "Epoch 140/200\n",
            "32/32 [==============================] - 0s 3ms/step - loss: 0.0237 - mae: 0.1006 - val_loss: 0.1307 - val_mae: 0.2644\n",
            "Epoch 141/200\n",
            "32/32 [==============================] - 0s 3ms/step - loss: 0.0220 - mae: 0.1015 - val_loss: 0.1282 - val_mae: 0.2617\n",
            "Epoch 142/200\n",
            "32/32 [==============================] - 0s 3ms/step - loss: 0.0198 - mae: 0.1008 - val_loss: 0.1301 - val_mae: 0.2543\n",
            "Epoch 143/200\n",
            "32/32 [==============================] - 0s 3ms/step - loss: 0.0199 - mae: 0.0930 - val_loss: 0.1259 - val_mae: 0.2562\n",
            "Epoch 144/200\n",
            "32/32 [==============================] - 0s 3ms/step - loss: 0.0213 - mae: 0.0921 - val_loss: 0.1307 - val_mae: 0.2591\n",
            "Epoch 145/200\n",
            "32/32 [==============================] - 0s 3ms/step - loss: 0.0205 - mae: 0.0957 - val_loss: 0.1322 - val_mae: 0.2709\n",
            "Epoch 146/200\n",
            "32/32 [==============================] - 0s 3ms/step - loss: 0.0219 - mae: 0.1043 - val_loss: 0.1234 - val_mae: 0.2488\n",
            "Epoch 147/200\n",
            "32/32 [==============================] - 0s 3ms/step - loss: 0.0193 - mae: 0.0873 - val_loss: 0.1237 - val_mae: 0.2603\n",
            "Epoch 148/200\n",
            "32/32 [==============================] - 0s 2ms/step - loss: 0.0241 - mae: 0.1002 - val_loss: 0.1194 - val_mae: 0.2545\n",
            "Epoch 149/200\n",
            "32/32 [==============================] - 0s 3ms/step - loss: 0.0211 - mae: 0.0949 - val_loss: 0.1317 - val_mae: 0.2605\n",
            "Epoch 150/200\n",
            "32/32 [==============================] - 0s 3ms/step - loss: 0.0211 - mae: 0.1013 - val_loss: 0.1258 - val_mae: 0.2543\n",
            "Epoch 151/200\n",
            "32/32 [==============================] - 0s 3ms/step - loss: 0.0187 - mae: 0.0944 - val_loss: 0.1322 - val_mae: 0.2625\n",
            "Epoch 152/200\n",
            "32/32 [==============================] - 0s 3ms/step - loss: 0.0162 - mae: 0.0892 - val_loss: 0.1311 - val_mae: 0.2538\n",
            "Epoch 153/200\n",
            "32/32 [==============================] - 0s 3ms/step - loss: 0.0198 - mae: 0.0928 - val_loss: 0.1377 - val_mae: 0.2662\n",
            "Epoch 154/200\n",
            "32/32 [==============================] - 0s 3ms/step - loss: 0.0161 - mae: 0.0850 - val_loss: 0.1506 - val_mae: 0.2803\n",
            "Epoch 155/200\n",
            "32/32 [==============================] - 0s 3ms/step - loss: 0.0230 - mae: 0.1043 - val_loss: 0.1403 - val_mae: 0.2657\n",
            "Epoch 156/200\n",
            "32/32 [==============================] - 0s 3ms/step - loss: 0.0179 - mae: 0.0876 - val_loss: 0.1219 - val_mae: 0.2536\n",
            "Epoch 157/200\n",
            "32/32 [==============================] - 0s 3ms/step - loss: 0.0156 - mae: 0.0874 - val_loss: 0.1273 - val_mae: 0.2560\n",
            "Epoch 158/200\n",
            "32/32 [==============================] - 0s 3ms/step - loss: 0.0144 - mae: 0.0838 - val_loss: 0.1218 - val_mae: 0.2517\n",
            "Epoch 159/200\n",
            "32/32 [==============================] - 0s 3ms/step - loss: 0.0151 - mae: 0.0843 - val_loss: 0.1251 - val_mae: 0.2525\n",
            "Epoch 160/200\n",
            "32/32 [==============================] - 0s 3ms/step - loss: 0.0183 - mae: 0.0899 - val_loss: 0.1316 - val_mae: 0.2638\n",
            "Epoch 161/200\n",
            "32/32 [==============================] - 0s 3ms/step - loss: 0.0186 - mae: 0.0946 - val_loss: 0.1219 - val_mae: 0.2547\n",
            "Epoch 162/200\n",
            "32/32 [==============================] - 0s 3ms/step - loss: 0.0241 - mae: 0.0981 - val_loss: 0.1305 - val_mae: 0.2607\n",
            "Epoch 163/200\n",
            "32/32 [==============================] - 0s 3ms/step - loss: 0.0201 - mae: 0.0967 - val_loss: 0.1232 - val_mae: 0.2584\n",
            "Epoch 164/200\n",
            "32/32 [==============================] - 0s 3ms/step - loss: 0.0196 - mae: 0.0900 - val_loss: 0.1292 - val_mae: 0.2589\n",
            "Epoch 165/200\n",
            "32/32 [==============================] - 0s 3ms/step - loss: 0.0195 - mae: 0.0942 - val_loss: 0.1270 - val_mae: 0.2540\n",
            "Epoch 166/200\n",
            "32/32 [==============================] - 0s 3ms/step - loss: 0.0205 - mae: 0.0903 - val_loss: 0.1251 - val_mae: 0.2556\n",
            "Epoch 167/200\n",
            "32/32 [==============================] - 0s 3ms/step - loss: 0.0237 - mae: 0.1029 - val_loss: 0.1294 - val_mae: 0.2617\n",
            "Epoch 168/200\n",
            "32/32 [==============================] - 0s 4ms/step - loss: 0.0197 - mae: 0.0913 - val_loss: 0.1223 - val_mae: 0.2524\n",
            "Epoch 169/200\n",
            "32/32 [==============================] - 0s 3ms/step - loss: 0.0192 - mae: 0.0879 - val_loss: 0.1345 - val_mae: 0.2628\n",
            "Epoch 170/200\n",
            "32/32 [==============================] - 0s 3ms/step - loss: 0.0219 - mae: 0.1035 - val_loss: 0.1276 - val_mae: 0.2551\n",
            "Epoch 171/200\n",
            "32/32 [==============================] - 0s 3ms/step - loss: 0.0195 - mae: 0.0903 - val_loss: 0.1171 - val_mae: 0.2441\n",
            "Epoch 172/200\n",
            "32/32 [==============================] - 0s 3ms/step - loss: 0.0155 - mae: 0.0843 - val_loss: 0.1259 - val_mae: 0.2655\n",
            "Epoch 173/200\n",
            "32/32 [==============================] - 0s 3ms/step - loss: 0.0172 - mae: 0.0881 - val_loss: 0.1399 - val_mae: 0.2716\n",
            "Epoch 174/200\n",
            "32/32 [==============================] - 0s 3ms/step - loss: 0.0184 - mae: 0.0948 - val_loss: 0.1174 - val_mae: 0.2400\n",
            "Epoch 175/200\n",
            "32/32 [==============================] - 0s 3ms/step - loss: 0.0186 - mae: 0.0943 - val_loss: 0.1212 - val_mae: 0.2492\n",
            "Epoch 176/200\n",
            "32/32 [==============================] - 0s 3ms/step - loss: 0.0166 - mae: 0.0872 - val_loss: 0.1148 - val_mae: 0.2459\n",
            "Epoch 177/200\n",
            "32/32 [==============================] - 0s 3ms/step - loss: 0.0179 - mae: 0.0865 - val_loss: 0.1192 - val_mae: 0.2470\n",
            "Epoch 178/200\n",
            "32/32 [==============================] - 0s 3ms/step - loss: 0.0171 - mae: 0.0854 - val_loss: 0.1220 - val_mae: 0.2568\n",
            "Epoch 179/200\n",
            "32/32 [==============================] - 0s 3ms/step - loss: 0.0225 - mae: 0.0997 - val_loss: 0.1229 - val_mae: 0.2492\n",
            "Epoch 180/200\n",
            "32/32 [==============================] - 0s 3ms/step - loss: 0.0207 - mae: 0.0931 - val_loss: 0.1402 - val_mae: 0.2757\n",
            "Epoch 181/200\n",
            "32/32 [==============================] - 0s 3ms/step - loss: 0.0202 - mae: 0.0955 - val_loss: 0.1273 - val_mae: 0.2599\n",
            "Epoch 182/200\n",
            "32/32 [==============================] - 0s 3ms/step - loss: 0.0230 - mae: 0.0943 - val_loss: 0.1478 - val_mae: 0.2786\n",
            "Epoch 183/200\n",
            "32/32 [==============================] - 0s 3ms/step - loss: 0.0295 - mae: 0.0969 - val_loss: 0.1199 - val_mae: 0.2468\n",
            "Epoch 184/200\n",
            "32/32 [==============================] - 0s 3ms/step - loss: 0.0157 - mae: 0.0816 - val_loss: 0.1243 - val_mae: 0.2538\n",
            "Epoch 185/200\n",
            "32/32 [==============================] - 0s 3ms/step - loss: 0.0183 - mae: 0.0852 - val_loss: 0.1215 - val_mae: 0.2547\n",
            "Epoch 186/200\n",
            "32/32 [==============================] - 0s 3ms/step - loss: 0.0174 - mae: 0.0827 - val_loss: 0.1256 - val_mae: 0.2611\n",
            "Epoch 187/200\n",
            "32/32 [==============================] - 0s 3ms/step - loss: 0.0159 - mae: 0.0880 - val_loss: 0.1362 - val_mae: 0.2712\n",
            "Epoch 188/200\n",
            "32/32 [==============================] - 0s 3ms/step - loss: 0.0175 - mae: 0.0905 - val_loss: 0.1178 - val_mae: 0.2404\n",
            "Epoch 189/200\n",
            "32/32 [==============================] - 0s 3ms/step - loss: 0.0219 - mae: 0.0954 - val_loss: 0.1220 - val_mae: 0.2525\n",
            "Epoch 190/200\n",
            "32/32 [==============================] - 0s 3ms/step - loss: 0.0192 - mae: 0.0895 - val_loss: 0.1129 - val_mae: 0.2466\n",
            "Epoch 191/200\n",
            "32/32 [==============================] - 0s 3ms/step - loss: 0.0229 - mae: 0.0917 - val_loss: 0.1190 - val_mae: 0.2465\n",
            "Epoch 192/200\n",
            "32/32 [==============================] - 0s 3ms/step - loss: 0.0151 - mae: 0.0809 - val_loss: 0.1245 - val_mae: 0.2580\n",
            "Epoch 193/200\n",
            "32/32 [==============================] - 0s 3ms/step - loss: 0.0184 - mae: 0.0805 - val_loss: 0.1194 - val_mae: 0.2437\n",
            "Epoch 194/200\n",
            "32/32 [==============================] - 0s 3ms/step - loss: 0.0154 - mae: 0.0868 - val_loss: 0.1353 - val_mae: 0.2674\n",
            "Epoch 195/200\n",
            "32/32 [==============================] - 0s 3ms/step - loss: 0.0225 - mae: 0.0956 - val_loss: 0.1260 - val_mae: 0.2544\n",
            "Epoch 196/200\n",
            "32/32 [==============================] - 0s 3ms/step - loss: 0.0228 - mae: 0.0932 - val_loss: 0.1211 - val_mae: 0.2558\n",
            "Epoch 197/200\n",
            "32/32 [==============================] - 0s 3ms/step - loss: 0.0166 - mae: 0.0855 - val_loss: 0.1207 - val_mae: 0.2485\n",
            "Epoch 198/200\n",
            "32/32 [==============================] - 0s 3ms/step - loss: 0.0166 - mae: 0.0844 - val_loss: 0.1260 - val_mae: 0.2522\n",
            "Epoch 199/200\n",
            "32/32 [==============================] - 0s 3ms/step - loss: 0.0180 - mae: 0.0947 - val_loss: 0.1384 - val_mae: 0.2692\n",
            "Epoch 200/200\n",
            "32/32 [==============================] - 0s 3ms/step - loss: 0.0218 - mae: 0.0841 - val_loss: 0.1172 - val_mae: 0.2463\n"
          ],
          "name": "stdout"
        }
      ]
    },
    {
      "cell_type": "code",
      "metadata": {
        "colab": {
          "base_uri": "https://localhost:8080/"
        },
        "id": "QMUcvRr8K4Bp",
        "outputId": "bf9d2599-db9c-4e15-b3ef-c66666ce6489"
      },
      "source": [
        "history.history.keys()"
      ],
      "execution_count": 29,
      "outputs": [
        {
          "output_type": "execute_result",
          "data": {
            "text/plain": [
              "dict_keys(['loss', 'mae', 'val_loss', 'val_mae'])"
            ]
          },
          "metadata": {
            "tags": []
          },
          "execution_count": 29
        }
      ]
    },
    {
      "cell_type": "code",
      "metadata": {
        "colab": {
          "base_uri": "https://localhost:8080/"
        },
        "id": "Dke-NeOQtJ7Z",
        "outputId": "a631a510-ecbe-40f5-8966-8f62b8549d0f"
      },
      "source": [
        "loss,mae=model.evaluate(X_test,Y_test)"
      ],
      "execution_count": 30,
      "outputs": [
        {
          "output_type": "stream",
          "text": [
            "10/10 [==============================] - 0s 2ms/step - loss: 0.1369 - mae: 0.2400\n"
          ],
          "name": "stdout"
        }
      ]
    },
    {
      "cell_type": "code",
      "metadata": {
        "id": "CtycpTWetRiZ"
      },
      "source": [
        "val_mae = history.history['val_mae']\n",
        "val_loss = history.history['val_loss']"
      ],
      "execution_count": 31,
      "outputs": []
    },
    {
      "cell_type": "code",
      "metadata": {
        "colab": {
          "base_uri": "https://localhost:8080/",
          "height": 295
        },
        "id": "rGkg6udYK4Br",
        "outputId": "95747777-6cdd-483e-b1d7-972ee7256f7a"
      },
      "source": [
        "import matplotlib.pyplot as plt \n",
        "history_dict = history.history\n",
        "loss_values = history_dict['loss']\n",
        "val_loss_values = history_dict['val_loss']\n",
        "epochs = range(200)\n",
        "plt.plot(epochs, loss_values, 'bo', label='Training loss')\n",
        "plt.plot(epochs, val_loss_values, 'b', label='Validation loss')\n",
        "plt.title('Training and validation loss')\n",
        "plt.xlabel('Epochs')\n",
        "plt.ylabel('Loss')\n",
        "plt.legend()\n",
        "plt.show()"
      ],
      "execution_count": 32,
      "outputs": [
        {
          "output_type": "display_data",
          "data": {
            "image/png": "[encoded data removed]",
            "text/plain": [
              "<Figure size 432x288 with 1 Axes>"
            ]
          },
          "metadata": {
            "tags": [],
            "needs_background": "light"
          }
        }
      ]
    },
    {
      "cell_type": "code",
      "metadata": {
        "colab": {
          "base_uri": "https://localhost:8080/",
          "height": 295
        },
        "id": "Faj3prDzK4Br",
        "outputId": "b474f38c-bc92-4c61-cfad-7812b3c2aeb8"
      },
      "source": [
        "import matplotlib.pyplot as plt \n",
        "acc_values = history_dict['mae']\n",
        "val_acc_values = history_dict['val_mae']\n",
        "plt.plot(epochs, acc_values, 'bo', label='Training mae')\n",
        "plt.plot(epochs, val_acc_values, 'b', label='Validation mae')\n",
        "plt.title('Training and validation accuracy')\n",
        "plt.xlabel('Epochs')\n",
        "plt.ylabel('mae')\n",
        "plt.legend()\n",
        "plt.show()"
      ],
      "execution_count": 33,
      "outputs": [
        {
          "output_type": "display_data",
          "data": {
            "image/png": "[encoded data removed]",
            "text/plain": [
              "<Figure size 432x288 with 1 Axes>"
            ]
          },
          "metadata": {
            "tags": [],
            "needs_background": "light"
          }
        }
      ]
    },
    {
      "cell_type": "code",
      "metadata": {
        "id": "AiZJuEX1tXIa"
      },
      "source": [
        "y_prediction = model.predict(X_test)"
      ],
      "execution_count": 35,
      "outputs": []
    },
    {
      "cell_type": "code",
      "metadata": {
        "id": "ey_rL9OTK4Bt"
      },
      "source": [
        "def denorm(x):\n",
        "    return (x * Y_std) + Y_mean\n",
        "    "
      ],
      "execution_count": 36,
      "outputs": []
    },
    {
      "cell_type": "code",
      "metadata": {
        "id": "_dRcygYoK4Bu"
      },
      "source": [
        "y_prediction = denorm(y_prediction)"
      ],
      "execution_count": 37,
      "outputs": []
    },
    {
      "cell_type": "code",
      "metadata": {
        "id": "SieqY-rGK4Bu"
      },
      "source": [
        "y_true = denorm(Y_test)"
      ],
      "execution_count": 38,
      "outputs": []
    },
    {
      "cell_type": "code",
      "metadata": {
        "id": "HYsNu-96K4Bv"
      },
      "source": [
        "y_prediction = y_prediction.flatten()"
      ],
      "execution_count": 39,
      "outputs": []
    },
    {
      "cell_type": "code",
      "metadata": {
        "colab": {
          "base_uri": "https://localhost:8080/"
        },
        "id": "_1Ra8FNUK4Bv",
        "outputId": "0d60f1b5-8600-45ff-e6a2-4fc715e1b054"
      },
      "source": [
        "y_prediction.shape"
      ],
      "execution_count": 40,
      "outputs": [
        {
          "output_type": "execute_result",
          "data": {
            "text/plain": [
              "(309,)"
            ]
          },
          "metadata": {
            "tags": []
          },
          "execution_count": 40
        }
      ]
    },
    {
      "cell_type": "code",
      "metadata": {
        "colab": {
          "base_uri": "https://localhost:8080/"
        },
        "id": "eAPgpABjK4Bw",
        "outputId": "2f804ffe-9ddc-463f-a2cf-f5c58dd28db0"
      },
      "source": [
        "y_true.shape"
      ],
      "execution_count": 41,
      "outputs": [
        {
          "output_type": "execute_result",
          "data": {
            "text/plain": [
              "(309,)"
            ]
          },
          "metadata": {
            "tags": []
          },
          "execution_count": 41
        }
      ]
    },
    {
      "cell_type": "code",
      "metadata": {
        "colab": {
          "base_uri": "https://localhost:8080/",
          "height": 286
        },
        "id": "pkQ64JpDK4Bx",
        "outputId": "b0006fe8-1a74-4c99-89f4-9dc1ed272b92"
      },
      "source": [
        "import numpy as np\n",
        "import matplotlib.pyplot as plt\n",
        "coef = np.polyfit(y_true,y_prediction,1)\n",
        "poly1d_fn = np.poly1d(coef) \n",
        "# poly1d_fn is now a function which takes in x and returns an estimate for y\n",
        "plt.plot(y_true,y_prediction, 'yo', y_true, poly1d_fn(y_true), '--k')\n",
        "plt.xlim(0, 100)\n",
        "plt.ylim(0, 100)"
      ],
      "execution_count": 42,
      "outputs": [
        {
          "output_type": "execute_result",
          "data": {
            "text/plain": [
              "(0.0, 100.0)"
            ]
          },
          "metadata": {
            "tags": []
          },
          "execution_count": 42
        },
        {
          "output_type": "display_data",
          "data": {
            "image/png": "[encoded data removed]",
            "text/plain": [
              "<Figure size 432x288 with 1 Axes>"
            ]
          },
          "metadata": {
            "tags": [],
            "needs_background": "light"
          }
        }
      ]
    }
  ]
}