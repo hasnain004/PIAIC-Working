{
  "nbformat": 4,
  "nbformat_minor": 0,
  "metadata": {
    "kernelspec": {
      "display_name": "Python 3",
      "language": "python",
      "name": "python3"
    },
    "language_info": {
      "codemirror_mode": {
        "name": "ipython",
        "version": 3
      },
      "file_extension": ".py",
      "mimetype": "text/x-python",
      "name": "python",
      "nbconvert_exporter": "python",
      "pygments_lexer": "ipython3",
      "version": "3.9.2"
    },
    "colab": {
      "name": "PIAIC121856_Ionosphere Assignment.ipynb",
      "provenance": []
    }
  },
  "cells": [
    {
      "cell_type": "markdown",
      "metadata": {
        "id": "hFkTaiPnIAwK"
      },
      "source": [
        "# Assignment: Ionosphere Data Problem\n",
        "\n",
        "### Dataset Description: \n",
        "\n",
        "This radar data was collected by a system in Goose Bay, Labrador. This system consists of a phased array of 16 high-frequency antennas with a total transmitted power on the order of 6.4 kilowatts. See the paper for more details. The targets were free electrons in the ionosphere. \"Good\" radar returns are those showing evidence of some type of structure in the ionosphere. \"Bad\" returns are those that do not; their signals pass through the ionosphere.\n",
        "\n",
        "Received signals were processed using an autocorrelation function whose arguments are the time of a pulse and the pulse number. There were 17 pulse numbers for the Goose Bay system. Instances in this databse are described by 2 attributes per pulse number, corresponding to the complex values returned by the function resulting from the complex electromagnetic signal.\n",
        "\n",
        "### Attribute Information:\n",
        "\n",
        "- All 34 are continuous\n",
        "- The 35th attribute is either \"good\" or \"bad\" according to the definition summarized above. This is a binary classification task.\n",
        "\n",
        " <br><br>\n",
        "\n",
        "<table border=\"1\"  cellpadding=\"6\">\n",
        "\t<tbody>\n",
        "        <tr>\n",
        "\t\t<td bgcolor=\"#DDEEFF\"><p class=\"normal\"><b>Data Set Characteristics:&nbsp;&nbsp;</b></p></td>\n",
        "\t\t<td><p class=\"normal\">Multivariate</p></td>\n",
        "\t\t<td bgcolor=\"#DDEEFF\"><p class=\"normal\"><b>Number of Instances:</b></p></td>\n",
        "\t\t<td><p class=\"normal\">351</p></td>\n",
        "\t\t<td bgcolor=\"#DDEEFF\"><p class=\"normal\"><b>Area:</b></p></td>\n",
        "\t\t<td><p class=\"normal\">Physical</p></td>\n",
        "        </tr>\n",
        "     </tbody>\n",
        "    </table>\n",
        "<table border=\"1\" cellpadding=\"6\">\n",
        "    <tbody>\n",
        "        <tr>\n",
        "            <td bgcolor=\"#DDEEFF\"><p class=\"normal\"><b>Attribute Characteristics:</b></p></td>\n",
        "            <td><p class=\"normal\">Integer,Real</p></td>\n",
        "            <td bgcolor=\"#DDEEFF\"><p class=\"normal\"><b>Number of Attributes:</b></p></td>\n",
        "            <td><p class=\"normal\">34</p></td>\n",
        "            <td bgcolor=\"#DDEEFF\"><p class=\"normal\"><b>Date Donated</b></p></td>\n",
        "            <td><p class=\"normal\">N/A</p></td>\n",
        "        </tr>\n",
        "     </tbody>\n",
        "    </table>\n",
        "<table border=\"1\" cellpadding=\"6\">\t\n",
        "    <tbody>\n",
        "    <tr>\n",
        "\t\t<td bgcolor=\"#DDEEFF\"><p class=\"normal\"><b>Associated Tasks:</b></p></td>\n",
        "\t\t<td><p class=\"normal\">Classification</p></td>\n",
        "\t\t<td bgcolor=\"#DDEEFF\"><p class=\"normal\"><b>Missing Values?</b></p></td>\n",
        "\t\t<td><p class=\"normal\">N/A</p></td>\n",
        "\t\t<td bgcolor=\"#DDEEFF\"><p class=\"normal\"><b>Number of Web Hits:</b></p></td>\n",
        "\t\t<td><p class=\"normal\">N/A</p></td>\n",
        "\t</tr>\n",
        "    </tbody>\n",
        "    </table>"
      ]
    },
    {
      "cell_type": "markdown",
      "metadata": {
        "id": "JWnlFW-iIAwR"
      },
      "source": [
        "### WORKFLOW :\n",
        "- Load Data ."
      ]
    },
    {
      "cell_type": "code",
      "metadata": {
        "id": "tYLEl9cBIAwT"
      },
      "source": [
        "import tensorflow as tf\n",
        "import pandas as pd\n",
        "import numpy as np\n",
        "import matplotlib.pyplot as plt\n",
        "import io"
      ],
      "execution_count": 4,
      "outputs": []
    },
    {
      "cell_type": "code",
      "metadata": {
        "colab": {
          "resources": {
            "http://localhost:8080/nbextensions/google.colab/files.js": {
              "data": "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",
              "ok": true,
              "headers": [
                [
                  "content-type",
                  "application/javascript"
                ]
              ],
              "status": 200,
              "status_text": ""
            }
          },
          "base_uri": "https://localhost:8080/",
          "height": 72
        },
        "id": "MUGbriNcIAwa",
        "outputId": "e18fced1-cf22-49d7-8497-faf82429033e"
      },
      "source": [
        "# Load the dataset.\n",
        "from google.colab import files\n",
        "uploaded = files.upload()\n",
        "#df = pd.read_csv('ionosphere_data.csv', delimiter=',')"
      ],
      "execution_count": 5,
      "outputs": [
        {
          "output_type": "display_data",
          "data": {
            "text/html": [
              "\n",
              "     <input type=\"file\" id=\"files-855a2f1b-6d50-4018-95ca-0d7752393a5a\" name=\"files[]\" multiple disabled\n",
              "        style=\"border:none\" />\n",
              "     <output id=\"result-855a2f1b-6d50-4018-95ca-0d7752393a5a\">\n",
              "      Upload widget is only available when the cell has been executed in the\n",
              "      current browser session. Please rerun this cell to enable.\n",
              "      </output>\n",
              "      <script src=\"/nbextensions/google.colab/files.js\"></script> "
            ],
            "text/plain": [
              "<IPython.core.display.HTML object>"
            ]
          },
          "metadata": {
            "tags": []
          }
        },
        {
          "output_type": "stream",
          "text": [
            "Saving ionosphere_data.csv to ionosphere_data.csv\n"
          ],
          "name": "stdout"
        }
      ]
    },
    {
      "cell_type": "code",
      "metadata": {
        "id": "mX-bIad2JGSN"
      },
      "source": [
        "df = pd.read_csv(io.BytesIO(uploaded['ionosphere_data.csv']))"
      ],
      "execution_count": 6,
      "outputs": []
    },
    {
      "cell_type": "code",
      "metadata": {
        "colab": {
          "base_uri": "https://localhost:8080/"
        },
        "id": "zpMTtsztIAwb",
        "outputId": "a5a3a0df-441f-4fa6-bbbb-5777c1780170"
      },
      "source": [
        "# Find the shape of the dataset \n",
        "df.shape"
      ],
      "execution_count": 7,
      "outputs": [
        {
          "output_type": "execute_result",
          "data": {
            "text/plain": [
              "(351, 35)"
            ]
          },
          "metadata": {
            "tags": []
          },
          "execution_count": 7
        }
      ]
    },
    {
      "cell_type": "code",
      "metadata": {
        "scrolled": true,
        "colab": {
          "base_uri": "https://localhost:8080/",
          "height": 224
        },
        "id": "aqApb44BIAwc",
        "outputId": "5b03d466-66b6-4bb0-c4b6-b1c27e1c84b5"
      },
      "source": [
        "df.head()"
      ],
      "execution_count": 8,
      "outputs": [
        {
          "output_type": "execute_result",
          "data": {
            "text/html": [
              "<div>\n",
              "<style scoped>\n",
              "    .dataframe tbody tr th:only-of-type {\n",
              "        vertical-align: middle;\n",
              "    }\n",
              "\n",
              "    .dataframe tbody tr th {\n",
              "        vertical-align: top;\n",
              "    }\n",
              "\n",
              "    .dataframe thead th {\n",
              "        text-align: right;\n",
              "    }\n",
              "</style>\n",
              "<table border=\"1\" class=\"dataframe\">\n",
              "  <thead>\n",
              "    <tr style=\"text-align: right;\">\n",
              "      <th></th>\n",
              "      <th>feature1</th>\n",
              "      <th>feature2</th>\n",
              "      <th>feature3</th>\n",
              "      <th>feature4</th>\n",
              "      <th>feature5</th>\n",
              "      <th>feature6</th>\n",
              "      <th>feature7</th>\n",
              "      <th>feature8</th>\n",
              "      <th>feature9</th>\n",
              "      <th>feature10</th>\n",
              "      <th>feature11</th>\n",
              "      <th>feature12</th>\n",
              "      <th>feature13</th>\n",
              "      <th>feature14</th>\n",
              "      <th>feature15</th>\n",
              "      <th>feature16</th>\n",
              "      <th>feature17</th>\n",
              "      <th>feature18</th>\n",
              "      <th>feature19</th>\n",
              "      <th>feature20</th>\n",
              "      <th>feature21</th>\n",
              "      <th>feature22</th>\n",
              "      <th>feature23</th>\n",
              "      <th>feature24</th>\n",
              "      <th>feature25</th>\n",
              "      <th>feature26</th>\n",
              "      <th>feature27</th>\n",
              "      <th>feature28</th>\n",
              "      <th>feature29</th>\n",
              "      <th>feature30</th>\n",
              "      <th>feature31</th>\n",
              "      <th>feature32</th>\n",
              "      <th>feature33</th>\n",
              "      <th>feature34</th>\n",
              "      <th>label</th>\n",
              "    </tr>\n",
              "  </thead>\n",
              "  <tbody>\n",
              "    <tr>\n",
              "      <th>0</th>\n",
              "      <td>1</td>\n",
              "      <td>0</td>\n",
              "      <td>0.99539</td>\n",
              "      <td>-0.05889</td>\n",
              "      <td>0.85243</td>\n",
              "      <td>0.02306</td>\n",
              "      <td>0.83398</td>\n",
              "      <td>-0.37708</td>\n",
              "      <td>1.00000</td>\n",
              "      <td>0.03760</td>\n",
              "      <td>0.85243</td>\n",
              "      <td>-0.17755</td>\n",
              "      <td>0.59755</td>\n",
              "      <td>-0.44945</td>\n",
              "      <td>0.60536</td>\n",
              "      <td>-0.38223</td>\n",
              "      <td>0.84356</td>\n",
              "      <td>-0.38542</td>\n",
              "      <td>0.58212</td>\n",
              "      <td>-0.32192</td>\n",
              "      <td>0.56971</td>\n",
              "      <td>-0.29674</td>\n",
              "      <td>0.36946</td>\n",
              "      <td>-0.47357</td>\n",
              "      <td>0.56811</td>\n",
              "      <td>-0.51171</td>\n",
              "      <td>0.41078</td>\n",
              "      <td>-0.46168</td>\n",
              "      <td>0.21266</td>\n",
              "      <td>-0.34090</td>\n",
              "      <td>0.42267</td>\n",
              "      <td>-0.54487</td>\n",
              "      <td>0.18641</td>\n",
              "      <td>-0.45300</td>\n",
              "      <td>g</td>\n",
              "    </tr>\n",
              "    <tr>\n",
              "      <th>1</th>\n",
              "      <td>1</td>\n",
              "      <td>0</td>\n",
              "      <td>1.00000</td>\n",
              "      <td>-0.18829</td>\n",
              "      <td>0.93035</td>\n",
              "      <td>-0.36156</td>\n",
              "      <td>-0.10868</td>\n",
              "      <td>-0.93597</td>\n",
              "      <td>1.00000</td>\n",
              "      <td>-0.04549</td>\n",
              "      <td>0.50874</td>\n",
              "      <td>-0.67743</td>\n",
              "      <td>0.34432</td>\n",
              "      <td>-0.69707</td>\n",
              "      <td>-0.51685</td>\n",
              "      <td>-0.97515</td>\n",
              "      <td>0.05499</td>\n",
              "      <td>-0.62237</td>\n",
              "      <td>0.33109</td>\n",
              "      <td>-1.00000</td>\n",
              "      <td>-0.13151</td>\n",
              "      <td>-0.45300</td>\n",
              "      <td>-0.18056</td>\n",
              "      <td>-0.35734</td>\n",
              "      <td>-0.20332</td>\n",
              "      <td>-0.26569</td>\n",
              "      <td>-0.20468</td>\n",
              "      <td>-0.18401</td>\n",
              "      <td>-0.19040</td>\n",
              "      <td>-0.11593</td>\n",
              "      <td>-0.16626</td>\n",
              "      <td>-0.06288</td>\n",
              "      <td>-0.13738</td>\n",
              "      <td>-0.02447</td>\n",
              "      <td>b</td>\n",
              "    </tr>\n",
              "    <tr>\n",
              "      <th>2</th>\n",
              "      <td>1</td>\n",
              "      <td>0</td>\n",
              "      <td>1.00000</td>\n",
              "      <td>-0.03365</td>\n",
              "      <td>1.00000</td>\n",
              "      <td>0.00485</td>\n",
              "      <td>1.00000</td>\n",
              "      <td>-0.12062</td>\n",
              "      <td>0.88965</td>\n",
              "      <td>0.01198</td>\n",
              "      <td>0.73082</td>\n",
              "      <td>0.05346</td>\n",
              "      <td>0.85443</td>\n",
              "      <td>0.00827</td>\n",
              "      <td>0.54591</td>\n",
              "      <td>0.00299</td>\n",
              "      <td>0.83775</td>\n",
              "      <td>-0.13644</td>\n",
              "      <td>0.75535</td>\n",
              "      <td>-0.08540</td>\n",
              "      <td>0.70887</td>\n",
              "      <td>-0.27502</td>\n",
              "      <td>0.43385</td>\n",
              "      <td>-0.12062</td>\n",
              "      <td>0.57528</td>\n",
              "      <td>-0.40220</td>\n",
              "      <td>0.58984</td>\n",
              "      <td>-0.22145</td>\n",
              "      <td>0.43100</td>\n",
              "      <td>-0.17365</td>\n",
              "      <td>0.60436</td>\n",
              "      <td>-0.24180</td>\n",
              "      <td>0.56045</td>\n",
              "      <td>-0.38238</td>\n",
              "      <td>g</td>\n",
              "    </tr>\n",
              "    <tr>\n",
              "      <th>3</th>\n",
              "      <td>1</td>\n",
              "      <td>0</td>\n",
              "      <td>1.00000</td>\n",
              "      <td>-0.45161</td>\n",
              "      <td>1.00000</td>\n",
              "      <td>1.00000</td>\n",
              "      <td>0.71216</td>\n",
              "      <td>-1.00000</td>\n",
              "      <td>0.00000</td>\n",
              "      <td>0.00000</td>\n",
              "      <td>0.00000</td>\n",
              "      <td>0.00000</td>\n",
              "      <td>0.00000</td>\n",
              "      <td>0.00000</td>\n",
              "      <td>-1.00000</td>\n",
              "      <td>0.14516</td>\n",
              "      <td>0.54094</td>\n",
              "      <td>-0.39330</td>\n",
              "      <td>-1.00000</td>\n",
              "      <td>-0.54467</td>\n",
              "      <td>-0.69975</td>\n",
              "      <td>1.00000</td>\n",
              "      <td>0.00000</td>\n",
              "      <td>0.00000</td>\n",
              "      <td>1.00000</td>\n",
              "      <td>0.90695</td>\n",
              "      <td>0.51613</td>\n",
              "      <td>1.00000</td>\n",
              "      <td>1.00000</td>\n",
              "      <td>-0.20099</td>\n",
              "      <td>0.25682</td>\n",
              "      <td>1.00000</td>\n",
              "      <td>-0.32382</td>\n",
              "      <td>1.00000</td>\n",
              "      <td>b</td>\n",
              "    </tr>\n",
              "    <tr>\n",
              "      <th>4</th>\n",
              "      <td>1</td>\n",
              "      <td>0</td>\n",
              "      <td>1.00000</td>\n",
              "      <td>-0.02401</td>\n",
              "      <td>0.94140</td>\n",
              "      <td>0.06531</td>\n",
              "      <td>0.92106</td>\n",
              "      <td>-0.23255</td>\n",
              "      <td>0.77152</td>\n",
              "      <td>-0.16399</td>\n",
              "      <td>0.52798</td>\n",
              "      <td>-0.20275</td>\n",
              "      <td>0.56409</td>\n",
              "      <td>-0.00712</td>\n",
              "      <td>0.34395</td>\n",
              "      <td>-0.27457</td>\n",
              "      <td>0.52940</td>\n",
              "      <td>-0.21780</td>\n",
              "      <td>0.45107</td>\n",
              "      <td>-0.17813</td>\n",
              "      <td>0.05982</td>\n",
              "      <td>-0.35575</td>\n",
              "      <td>0.02309</td>\n",
              "      <td>-0.52879</td>\n",
              "      <td>0.03286</td>\n",
              "      <td>-0.65158</td>\n",
              "      <td>0.13290</td>\n",
              "      <td>-0.53206</td>\n",
              "      <td>0.02431</td>\n",
              "      <td>-0.62197</td>\n",
              "      <td>-0.05707</td>\n",
              "      <td>-0.59573</td>\n",
              "      <td>-0.04608</td>\n",
              "      <td>-0.65697</td>\n",
              "      <td>g</td>\n",
              "    </tr>\n",
              "  </tbody>\n",
              "</table>\n",
              "</div>"
            ],
            "text/plain": [
              "   feature1  feature2  feature3  ...  feature33  feature34  label\n",
              "0         1         0   0.99539  ...    0.18641   -0.45300      g\n",
              "1         1         0   1.00000  ...   -0.13738   -0.02447      b\n",
              "2         1         0   1.00000  ...    0.56045   -0.38238      g\n",
              "3         1         0   1.00000  ...   -0.32382    1.00000      b\n",
              "4         1         0   1.00000  ...   -0.04608   -0.65697      g\n",
              "\n",
              "[5 rows x 35 columns]"
            ]
          },
          "metadata": {
            "tags": []
          },
          "execution_count": 8
        }
      ]
    },
    {
      "cell_type": "code",
      "metadata": {
        "colab": {
          "base_uri": "https://localhost:8080/",
          "height": 1000
        },
        "id": "OhkimpJOIAwd",
        "outputId": "f7edacc9-0ee0-4e77-c6a8-2a7581b2be51"
      },
      "source": [
        "df.describe().T"
      ],
      "execution_count": 9,
      "outputs": [
        {
          "output_type": "execute_result",
          "data": {
            "text/html": [
              "<div>\n",
              "<style scoped>\n",
              "    .dataframe tbody tr th:only-of-type {\n",
              "        vertical-align: middle;\n",
              "    }\n",
              "\n",
              "    .dataframe tbody tr th {\n",
              "        vertical-align: top;\n",
              "    }\n",
              "\n",
              "    .dataframe thead th {\n",
              "        text-align: right;\n",
              "    }\n",
              "</style>\n",
              "<table border=\"1\" class=\"dataframe\">\n",
              "  <thead>\n",
              "    <tr style=\"text-align: right;\">\n",
              "      <th></th>\n",
              "      <th>count</th>\n",
              "      <th>mean</th>\n",
              "      <th>std</th>\n",
              "      <th>min</th>\n",
              "      <th>25%</th>\n",
              "      <th>50%</th>\n",
              "      <th>75%</th>\n",
              "      <th>max</th>\n",
              "    </tr>\n",
              "  </thead>\n",
              "  <tbody>\n",
              "    <tr>\n",
              "      <th>feature1</th>\n",
              "      <td>351.0</td>\n",
              "      <td>0.891738</td>\n",
              "      <td>0.311155</td>\n",
              "      <td>0.0</td>\n",
              "      <td>1.000000</td>\n",
              "      <td>1.00000</td>\n",
              "      <td>1.000000</td>\n",
              "      <td>1.0</td>\n",
              "    </tr>\n",
              "    <tr>\n",
              "      <th>feature2</th>\n",
              "      <td>351.0</td>\n",
              "      <td>0.000000</td>\n",
              "      <td>0.000000</td>\n",
              "      <td>0.0</td>\n",
              "      <td>0.000000</td>\n",
              "      <td>0.00000</td>\n",
              "      <td>0.000000</td>\n",
              "      <td>0.0</td>\n",
              "    </tr>\n",
              "    <tr>\n",
              "      <th>feature3</th>\n",
              "      <td>351.0</td>\n",
              "      <td>0.641342</td>\n",
              "      <td>0.497708</td>\n",
              "      <td>-1.0</td>\n",
              "      <td>0.472135</td>\n",
              "      <td>0.87111</td>\n",
              "      <td>1.000000</td>\n",
              "      <td>1.0</td>\n",
              "    </tr>\n",
              "    <tr>\n",
              "      <th>feature4</th>\n",
              "      <td>351.0</td>\n",
              "      <td>0.044372</td>\n",
              "      <td>0.441435</td>\n",
              "      <td>-1.0</td>\n",
              "      <td>-0.064735</td>\n",
              "      <td>0.01631</td>\n",
              "      <td>0.194185</td>\n",
              "      <td>1.0</td>\n",
              "    </tr>\n",
              "    <tr>\n",
              "      <th>feature5</th>\n",
              "      <td>351.0</td>\n",
              "      <td>0.601068</td>\n",
              "      <td>0.519862</td>\n",
              "      <td>-1.0</td>\n",
              "      <td>0.412660</td>\n",
              "      <td>0.80920</td>\n",
              "      <td>1.000000</td>\n",
              "      <td>1.0</td>\n",
              "    </tr>\n",
              "    <tr>\n",
              "      <th>feature6</th>\n",
              "      <td>351.0</td>\n",
              "      <td>0.115889</td>\n",
              "      <td>0.460810</td>\n",
              "      <td>-1.0</td>\n",
              "      <td>-0.024795</td>\n",
              "      <td>0.02280</td>\n",
              "      <td>0.334655</td>\n",
              "      <td>1.0</td>\n",
              "    </tr>\n",
              "    <tr>\n",
              "      <th>feature7</th>\n",
              "      <td>351.0</td>\n",
              "      <td>0.550095</td>\n",
              "      <td>0.492654</td>\n",
              "      <td>-1.0</td>\n",
              "      <td>0.211310</td>\n",
              "      <td>0.72873</td>\n",
              "      <td>0.969240</td>\n",
              "      <td>1.0</td>\n",
              "    </tr>\n",
              "    <tr>\n",
              "      <th>feature8</th>\n",
              "      <td>351.0</td>\n",
              "      <td>0.119360</td>\n",
              "      <td>0.520750</td>\n",
              "      <td>-1.0</td>\n",
              "      <td>-0.054840</td>\n",
              "      <td>0.01471</td>\n",
              "      <td>0.445675</td>\n",
              "      <td>1.0</td>\n",
              "    </tr>\n",
              "    <tr>\n",
              "      <th>feature9</th>\n",
              "      <td>351.0</td>\n",
              "      <td>0.511848</td>\n",
              "      <td>0.507066</td>\n",
              "      <td>-1.0</td>\n",
              "      <td>0.087110</td>\n",
              "      <td>0.68421</td>\n",
              "      <td>0.953240</td>\n",
              "      <td>1.0</td>\n",
              "    </tr>\n",
              "    <tr>\n",
              "      <th>feature10</th>\n",
              "      <td>351.0</td>\n",
              "      <td>0.181345</td>\n",
              "      <td>0.483851</td>\n",
              "      <td>-1.0</td>\n",
              "      <td>-0.048075</td>\n",
              "      <td>0.01829</td>\n",
              "      <td>0.534195</td>\n",
              "      <td>1.0</td>\n",
              "    </tr>\n",
              "    <tr>\n",
              "      <th>feature11</th>\n",
              "      <td>351.0</td>\n",
              "      <td>0.476183</td>\n",
              "      <td>0.563496</td>\n",
              "      <td>-1.0</td>\n",
              "      <td>0.021120</td>\n",
              "      <td>0.66798</td>\n",
              "      <td>0.957895</td>\n",
              "      <td>1.0</td>\n",
              "    </tr>\n",
              "    <tr>\n",
              "      <th>feature12</th>\n",
              "      <td>351.0</td>\n",
              "      <td>0.155040</td>\n",
              "      <td>0.494817</td>\n",
              "      <td>-1.0</td>\n",
              "      <td>-0.065265</td>\n",
              "      <td>0.02825</td>\n",
              "      <td>0.482375</td>\n",
              "      <td>1.0</td>\n",
              "    </tr>\n",
              "    <tr>\n",
              "      <th>feature13</th>\n",
              "      <td>351.0</td>\n",
              "      <td>0.400801</td>\n",
              "      <td>0.622186</td>\n",
              "      <td>-1.0</td>\n",
              "      <td>0.000000</td>\n",
              "      <td>0.64407</td>\n",
              "      <td>0.955505</td>\n",
              "      <td>1.0</td>\n",
              "    </tr>\n",
              "    <tr>\n",
              "      <th>feature14</th>\n",
              "      <td>351.0</td>\n",
              "      <td>0.093414</td>\n",
              "      <td>0.494873</td>\n",
              "      <td>-1.0</td>\n",
              "      <td>-0.073725</td>\n",
              "      <td>0.03027</td>\n",
              "      <td>0.374860</td>\n",
              "      <td>1.0</td>\n",
              "    </tr>\n",
              "    <tr>\n",
              "      <th>feature15</th>\n",
              "      <td>351.0</td>\n",
              "      <td>0.344159</td>\n",
              "      <td>0.652828</td>\n",
              "      <td>-1.0</td>\n",
              "      <td>0.000000</td>\n",
              "      <td>0.60194</td>\n",
              "      <td>0.919330</td>\n",
              "      <td>1.0</td>\n",
              "    </tr>\n",
              "    <tr>\n",
              "      <th>feature16</th>\n",
              "      <td>351.0</td>\n",
              "      <td>0.071132</td>\n",
              "      <td>0.458371</td>\n",
              "      <td>-1.0</td>\n",
              "      <td>-0.081705</td>\n",
              "      <td>0.00000</td>\n",
              "      <td>0.308975</td>\n",
              "      <td>1.0</td>\n",
              "    </tr>\n",
              "    <tr>\n",
              "      <th>feature17</th>\n",
              "      <td>351.0</td>\n",
              "      <td>0.381949</td>\n",
              "      <td>0.618020</td>\n",
              "      <td>-1.0</td>\n",
              "      <td>0.000000</td>\n",
              "      <td>0.59091</td>\n",
              "      <td>0.935705</td>\n",
              "      <td>1.0</td>\n",
              "    </tr>\n",
              "    <tr>\n",
              "      <th>feature18</th>\n",
              "      <td>351.0</td>\n",
              "      <td>-0.003617</td>\n",
              "      <td>0.496762</td>\n",
              "      <td>-1.0</td>\n",
              "      <td>-0.225690</td>\n",
              "      <td>0.00000</td>\n",
              "      <td>0.195285</td>\n",
              "      <td>1.0</td>\n",
              "    </tr>\n",
              "    <tr>\n",
              "      <th>feature19</th>\n",
              "      <td>351.0</td>\n",
              "      <td>0.359390</td>\n",
              "      <td>0.626267</td>\n",
              "      <td>-1.0</td>\n",
              "      <td>0.000000</td>\n",
              "      <td>0.57619</td>\n",
              "      <td>0.899265</td>\n",
              "      <td>1.0</td>\n",
              "    </tr>\n",
              "    <tr>\n",
              "      <th>feature20</th>\n",
              "      <td>351.0</td>\n",
              "      <td>-0.024025</td>\n",
              "      <td>0.519076</td>\n",
              "      <td>-1.0</td>\n",
              "      <td>-0.234670</td>\n",
              "      <td>0.00000</td>\n",
              "      <td>0.134370</td>\n",
              "      <td>1.0</td>\n",
              "    </tr>\n",
              "    <tr>\n",
              "      <th>feature21</th>\n",
              "      <td>351.0</td>\n",
              "      <td>0.336695</td>\n",
              "      <td>0.609828</td>\n",
              "      <td>-1.0</td>\n",
              "      <td>0.000000</td>\n",
              "      <td>0.49909</td>\n",
              "      <td>0.894865</td>\n",
              "      <td>1.0</td>\n",
              "    </tr>\n",
              "    <tr>\n",
              "      <th>feature22</th>\n",
              "      <td>351.0</td>\n",
              "      <td>0.008296</td>\n",
              "      <td>0.518166</td>\n",
              "      <td>-1.0</td>\n",
              "      <td>-0.243870</td>\n",
              "      <td>0.00000</td>\n",
              "      <td>0.188760</td>\n",
              "      <td>1.0</td>\n",
              "    </tr>\n",
              "    <tr>\n",
              "      <th>feature23</th>\n",
              "      <td>351.0</td>\n",
              "      <td>0.362475</td>\n",
              "      <td>0.603767</td>\n",
              "      <td>-1.0</td>\n",
              "      <td>0.000000</td>\n",
              "      <td>0.53176</td>\n",
              "      <td>0.911235</td>\n",
              "      <td>1.0</td>\n",
              "    </tr>\n",
              "    <tr>\n",
              "      <th>feature24</th>\n",
              "      <td>351.0</td>\n",
              "      <td>-0.057406</td>\n",
              "      <td>0.527456</td>\n",
              "      <td>-1.0</td>\n",
              "      <td>-0.366885</td>\n",
              "      <td>0.00000</td>\n",
              "      <td>0.164630</td>\n",
              "      <td>1.0</td>\n",
              "    </tr>\n",
              "    <tr>\n",
              "      <th>feature25</th>\n",
              "      <td>351.0</td>\n",
              "      <td>0.396135</td>\n",
              "      <td>0.578451</td>\n",
              "      <td>-1.0</td>\n",
              "      <td>0.000000</td>\n",
              "      <td>0.55389</td>\n",
              "      <td>0.905240</td>\n",
              "      <td>1.0</td>\n",
              "    </tr>\n",
              "    <tr>\n",
              "      <th>feature26</th>\n",
              "      <td>351.0</td>\n",
              "      <td>-0.071187</td>\n",
              "      <td>0.508495</td>\n",
              "      <td>-1.0</td>\n",
              "      <td>-0.332390</td>\n",
              "      <td>-0.01505</td>\n",
              "      <td>0.156765</td>\n",
              "      <td>1.0</td>\n",
              "    </tr>\n",
              "    <tr>\n",
              "      <th>feature27</th>\n",
              "      <td>351.0</td>\n",
              "      <td>0.541641</td>\n",
              "      <td>0.516205</td>\n",
              "      <td>-1.0</td>\n",
              "      <td>0.286435</td>\n",
              "      <td>0.70824</td>\n",
              "      <td>0.999945</td>\n",
              "      <td>1.0</td>\n",
              "    </tr>\n",
              "    <tr>\n",
              "      <th>feature28</th>\n",
              "      <td>351.0</td>\n",
              "      <td>-0.069538</td>\n",
              "      <td>0.550025</td>\n",
              "      <td>-1.0</td>\n",
              "      <td>-0.443165</td>\n",
              "      <td>-0.01769</td>\n",
              "      <td>0.153535</td>\n",
              "      <td>1.0</td>\n",
              "    </tr>\n",
              "    <tr>\n",
              "      <th>feature29</th>\n",
              "      <td>351.0</td>\n",
              "      <td>0.378445</td>\n",
              "      <td>0.575886</td>\n",
              "      <td>-1.0</td>\n",
              "      <td>0.000000</td>\n",
              "      <td>0.49664</td>\n",
              "      <td>0.883465</td>\n",
              "      <td>1.0</td>\n",
              "    </tr>\n",
              "    <tr>\n",
              "      <th>feature30</th>\n",
              "      <td>351.0</td>\n",
              "      <td>-0.027907</td>\n",
              "      <td>0.507974</td>\n",
              "      <td>-1.0</td>\n",
              "      <td>-0.236885</td>\n",
              "      <td>0.00000</td>\n",
              "      <td>0.154075</td>\n",
              "      <td>1.0</td>\n",
              "    </tr>\n",
              "    <tr>\n",
              "      <th>feature31</th>\n",
              "      <td>351.0</td>\n",
              "      <td>0.352514</td>\n",
              "      <td>0.571483</td>\n",
              "      <td>-1.0</td>\n",
              "      <td>0.000000</td>\n",
              "      <td>0.44277</td>\n",
              "      <td>0.857620</td>\n",
              "      <td>1.0</td>\n",
              "    </tr>\n",
              "    <tr>\n",
              "      <th>feature32</th>\n",
              "      <td>351.0</td>\n",
              "      <td>-0.003794</td>\n",
              "      <td>0.513574</td>\n",
              "      <td>-1.0</td>\n",
              "      <td>-0.242595</td>\n",
              "      <td>0.00000</td>\n",
              "      <td>0.200120</td>\n",
              "      <td>1.0</td>\n",
              "    </tr>\n",
              "    <tr>\n",
              "      <th>feature33</th>\n",
              "      <td>351.0</td>\n",
              "      <td>0.349364</td>\n",
              "      <td>0.522663</td>\n",
              "      <td>-1.0</td>\n",
              "      <td>0.000000</td>\n",
              "      <td>0.40956</td>\n",
              "      <td>0.813765</td>\n",
              "      <td>1.0</td>\n",
              "    </tr>\n",
              "    <tr>\n",
              "      <th>feature34</th>\n",
              "      <td>351.0</td>\n",
              "      <td>0.014480</td>\n",
              "      <td>0.468337</td>\n",
              "      <td>-1.0</td>\n",
              "      <td>-0.165350</td>\n",
              "      <td>0.00000</td>\n",
              "      <td>0.171660</td>\n",
              "      <td>1.0</td>\n",
              "    </tr>\n",
              "  </tbody>\n",
              "</table>\n",
              "</div>"
            ],
            "text/plain": [
              "           count      mean       std  min       25%      50%       75%  max\n",
              "feature1   351.0  0.891738  0.311155  0.0  1.000000  1.00000  1.000000  1.0\n",
              "feature2   351.0  0.000000  0.000000  0.0  0.000000  0.00000  0.000000  0.0\n",
              "feature3   351.0  0.641342  0.497708 -1.0  0.472135  0.87111  1.000000  1.0\n",
              "feature4   351.0  0.044372  0.441435 -1.0 -0.064735  0.01631  0.194185  1.0\n",
              "feature5   351.0  0.601068  0.519862 -1.0  0.412660  0.80920  1.000000  1.0\n",
              "feature6   351.0  0.115889  0.460810 -1.0 -0.024795  0.02280  0.334655  1.0\n",
              "feature7   351.0  0.550095  0.492654 -1.0  0.211310  0.72873  0.969240  1.0\n",
              "feature8   351.0  0.119360  0.520750 -1.0 -0.054840  0.01471  0.445675  1.0\n",
              "feature9   351.0  0.511848  0.507066 -1.0  0.087110  0.68421  0.953240  1.0\n",
              "feature10  351.0  0.181345  0.483851 -1.0 -0.048075  0.01829  0.534195  1.0\n",
              "feature11  351.0  0.476183  0.563496 -1.0  0.021120  0.66798  0.957895  1.0\n",
              "feature12  351.0  0.155040  0.494817 -1.0 -0.065265  0.02825  0.482375  1.0\n",
              "feature13  351.0  0.400801  0.622186 -1.0  0.000000  0.64407  0.955505  1.0\n",
              "feature14  351.0  0.093414  0.494873 -1.0 -0.073725  0.03027  0.374860  1.0\n",
              "feature15  351.0  0.344159  0.652828 -1.0  0.000000  0.60194  0.919330  1.0\n",
              "feature16  351.0  0.071132  0.458371 -1.0 -0.081705  0.00000  0.308975  1.0\n",
              "feature17  351.0  0.381949  0.618020 -1.0  0.000000  0.59091  0.935705  1.0\n",
              "feature18  351.0 -0.003617  0.496762 -1.0 -0.225690  0.00000  0.195285  1.0\n",
              "feature19  351.0  0.359390  0.626267 -1.0  0.000000  0.57619  0.899265  1.0\n",
              "feature20  351.0 -0.024025  0.519076 -1.0 -0.234670  0.00000  0.134370  1.0\n",
              "feature21  351.0  0.336695  0.609828 -1.0  0.000000  0.49909  0.894865  1.0\n",
              "feature22  351.0  0.008296  0.518166 -1.0 -0.243870  0.00000  0.188760  1.0\n",
              "feature23  351.0  0.362475  0.603767 -1.0  0.000000  0.53176  0.911235  1.0\n",
              "feature24  351.0 -0.057406  0.527456 -1.0 -0.366885  0.00000  0.164630  1.0\n",
              "feature25  351.0  0.396135  0.578451 -1.0  0.000000  0.55389  0.905240  1.0\n",
              "feature26  351.0 -0.071187  0.508495 -1.0 -0.332390 -0.01505  0.156765  1.0\n",
              "feature27  351.0  0.541641  0.516205 -1.0  0.286435  0.70824  0.999945  1.0\n",
              "feature28  351.0 -0.069538  0.550025 -1.0 -0.443165 -0.01769  0.153535  1.0\n",
              "feature29  351.0  0.378445  0.575886 -1.0  0.000000  0.49664  0.883465  1.0\n",
              "feature30  351.0 -0.027907  0.507974 -1.0 -0.236885  0.00000  0.154075  1.0\n",
              "feature31  351.0  0.352514  0.571483 -1.0  0.000000  0.44277  0.857620  1.0\n",
              "feature32  351.0 -0.003794  0.513574 -1.0 -0.242595  0.00000  0.200120  1.0\n",
              "feature33  351.0  0.349364  0.522663 -1.0  0.000000  0.40956  0.813765  1.0\n",
              "feature34  351.0  0.014480  0.468337 -1.0 -0.165350  0.00000  0.171660  1.0"
            ]
          },
          "metadata": {
            "tags": []
          },
          "execution_count": 9
        }
      ]
    },
    {
      "cell_type": "code",
      "metadata": {
        "colab": {
          "base_uri": "https://localhost:8080/"
        },
        "id": "yHNQkCLcIAwd",
        "outputId": "d1a53ca5-ae62-4adc-a680-20331c82c047"
      },
      "source": [
        "for feature in df:\n",
        "    print(feature)\n",
        "    print(len(df[feature].unique()))"
      ],
      "execution_count": 10,
      "outputs": [
        {
          "output_type": "stream",
          "text": [
            "feature1\n",
            "2\n",
            "feature2\n",
            "1\n",
            "feature3\n",
            "219\n",
            "feature4\n",
            "269\n",
            "feature5\n",
            "204\n",
            "feature6\n",
            "259\n",
            "feature7\n",
            "231\n",
            "feature8\n",
            "260\n",
            "feature9\n",
            "244\n",
            "feature10\n",
            "267\n",
            "feature11\n",
            "246\n",
            "feature12\n",
            "269\n",
            "feature13\n",
            "238\n",
            "feature14\n",
            "266\n",
            "feature15\n",
            "234\n",
            "feature16\n",
            "270\n",
            "feature17\n",
            "254\n",
            "feature18\n",
            "280\n",
            "feature19\n",
            "254\n",
            "feature20\n",
            "266\n",
            "feature21\n",
            "248\n",
            "feature22\n",
            "265\n",
            "feature23\n",
            "248\n",
            "feature24\n",
            "264\n",
            "feature25\n",
            "256\n",
            "feature26\n",
            "273\n",
            "feature27\n",
            "256\n",
            "feature28\n",
            "281\n",
            "feature29\n",
            "244\n",
            "feature30\n",
            "266\n",
            "feature31\n",
            "243\n",
            "feature32\n",
            "263\n",
            "feature33\n",
            "245\n",
            "feature34\n",
            "263\n",
            "label\n",
            "2\n"
          ],
          "name": "stdout"
        }
      ]
    },
    {
      "cell_type": "code",
      "metadata": {
        "scrolled": true,
        "colab": {
          "base_uri": "https://localhost:8080/"
        },
        "id": "Y34oUUTmIAwe",
        "outputId": "3df9d3fb-de6f-44f5-9417-4df41b821c1c"
      },
      "source": [
        "df['feature2'].unique()"
      ],
      "execution_count": 11,
      "outputs": [
        {
          "output_type": "execute_result",
          "data": {
            "text/plain": [
              "array([0])"
            ]
          },
          "metadata": {
            "tags": []
          },
          "execution_count": 11
        }
      ]
    },
    {
      "cell_type": "code",
      "metadata": {
        "id": "VCYEhfa9IAwe"
      },
      "source": [
        "# droping features2 as all the values in this column are 0's\n",
        "df.drop(df.columns[1], inplace=True, axis=1)\n"
      ],
      "execution_count": 12,
      "outputs": []
    },
    {
      "cell_type": "code",
      "metadata": {
        "scrolled": true,
        "colab": {
          "base_uri": "https://localhost:8080/",
          "height": 224
        },
        "id": "B3-2u0NYIAwf",
        "outputId": "b2035e12-9156-4789-e191-7fc7b58f1865"
      },
      "source": [
        "df.head()"
      ],
      "execution_count": 13,
      "outputs": [
        {
          "output_type": "execute_result",
          "data": {
            "text/html": [
              "<div>\n",
              "<style scoped>\n",
              "    .dataframe tbody tr th:only-of-type {\n",
              "        vertical-align: middle;\n",
              "    }\n",
              "\n",
              "    .dataframe tbody tr th {\n",
              "        vertical-align: top;\n",
              "    }\n",
              "\n",
              "    .dataframe thead th {\n",
              "        text-align: right;\n",
              "    }\n",
              "</style>\n",
              "<table border=\"1\" class=\"dataframe\">\n",
              "  <thead>\n",
              "    <tr style=\"text-align: right;\">\n",
              "      <th></th>\n",
              "      <th>feature1</th>\n",
              "      <th>feature3</th>\n",
              "      <th>feature4</th>\n",
              "      <th>feature5</th>\n",
              "      <th>feature6</th>\n",
              "      <th>feature7</th>\n",
              "      <th>feature8</th>\n",
              "      <th>feature9</th>\n",
              "      <th>feature10</th>\n",
              "      <th>feature11</th>\n",
              "      <th>feature12</th>\n",
              "      <th>feature13</th>\n",
              "      <th>feature14</th>\n",
              "      <th>feature15</th>\n",
              "      <th>feature16</th>\n",
              "      <th>feature17</th>\n",
              "      <th>feature18</th>\n",
              "      <th>feature19</th>\n",
              "      <th>feature20</th>\n",
              "      <th>feature21</th>\n",
              "      <th>feature22</th>\n",
              "      <th>feature23</th>\n",
              "      <th>feature24</th>\n",
              "      <th>feature25</th>\n",
              "      <th>feature26</th>\n",
              "      <th>feature27</th>\n",
              "      <th>feature28</th>\n",
              "      <th>feature29</th>\n",
              "      <th>feature30</th>\n",
              "      <th>feature31</th>\n",
              "      <th>feature32</th>\n",
              "      <th>feature33</th>\n",
              "      <th>feature34</th>\n",
              "      <th>label</th>\n",
              "    </tr>\n",
              "  </thead>\n",
              "  <tbody>\n",
              "    <tr>\n",
              "      <th>0</th>\n",
              "      <td>1</td>\n",
              "      <td>0.99539</td>\n",
              "      <td>-0.05889</td>\n",
              "      <td>0.85243</td>\n",
              "      <td>0.02306</td>\n",
              "      <td>0.83398</td>\n",
              "      <td>-0.37708</td>\n",
              "      <td>1.00000</td>\n",
              "      <td>0.03760</td>\n",
              "      <td>0.85243</td>\n",
              "      <td>-0.17755</td>\n",
              "      <td>0.59755</td>\n",
              "      <td>-0.44945</td>\n",
              "      <td>0.60536</td>\n",
              "      <td>-0.38223</td>\n",
              "      <td>0.84356</td>\n",
              "      <td>-0.38542</td>\n",
              "      <td>0.58212</td>\n",
              "      <td>-0.32192</td>\n",
              "      <td>0.56971</td>\n",
              "      <td>-0.29674</td>\n",
              "      <td>0.36946</td>\n",
              "      <td>-0.47357</td>\n",
              "      <td>0.56811</td>\n",
              "      <td>-0.51171</td>\n",
              "      <td>0.41078</td>\n",
              "      <td>-0.46168</td>\n",
              "      <td>0.21266</td>\n",
              "      <td>-0.34090</td>\n",
              "      <td>0.42267</td>\n",
              "      <td>-0.54487</td>\n",
              "      <td>0.18641</td>\n",
              "      <td>-0.45300</td>\n",
              "      <td>g</td>\n",
              "    </tr>\n",
              "    <tr>\n",
              "      <th>1</th>\n",
              "      <td>1</td>\n",
              "      <td>1.00000</td>\n",
              "      <td>-0.18829</td>\n",
              "      <td>0.93035</td>\n",
              "      <td>-0.36156</td>\n",
              "      <td>-0.10868</td>\n",
              "      <td>-0.93597</td>\n",
              "      <td>1.00000</td>\n",
              "      <td>-0.04549</td>\n",
              "      <td>0.50874</td>\n",
              "      <td>-0.67743</td>\n",
              "      <td>0.34432</td>\n",
              "      <td>-0.69707</td>\n",
              "      <td>-0.51685</td>\n",
              "      <td>-0.97515</td>\n",
              "      <td>0.05499</td>\n",
              "      <td>-0.62237</td>\n",
              "      <td>0.33109</td>\n",
              "      <td>-1.00000</td>\n",
              "      <td>-0.13151</td>\n",
              "      <td>-0.45300</td>\n",
              "      <td>-0.18056</td>\n",
              "      <td>-0.35734</td>\n",
              "      <td>-0.20332</td>\n",
              "      <td>-0.26569</td>\n",
              "      <td>-0.20468</td>\n",
              "      <td>-0.18401</td>\n",
              "      <td>-0.19040</td>\n",
              "      <td>-0.11593</td>\n",
              "      <td>-0.16626</td>\n",
              "      <td>-0.06288</td>\n",
              "      <td>-0.13738</td>\n",
              "      <td>-0.02447</td>\n",
              "      <td>b</td>\n",
              "    </tr>\n",
              "    <tr>\n",
              "      <th>2</th>\n",
              "      <td>1</td>\n",
              "      <td>1.00000</td>\n",
              "      <td>-0.03365</td>\n",
              "      <td>1.00000</td>\n",
              "      <td>0.00485</td>\n",
              "      <td>1.00000</td>\n",
              "      <td>-0.12062</td>\n",
              "      <td>0.88965</td>\n",
              "      <td>0.01198</td>\n",
              "      <td>0.73082</td>\n",
              "      <td>0.05346</td>\n",
              "      <td>0.85443</td>\n",
              "      <td>0.00827</td>\n",
              "      <td>0.54591</td>\n",
              "      <td>0.00299</td>\n",
              "      <td>0.83775</td>\n",
              "      <td>-0.13644</td>\n",
              "      <td>0.75535</td>\n",
              "      <td>-0.08540</td>\n",
              "      <td>0.70887</td>\n",
              "      <td>-0.27502</td>\n",
              "      <td>0.43385</td>\n",
              "      <td>-0.12062</td>\n",
              "      <td>0.57528</td>\n",
              "      <td>-0.40220</td>\n",
              "      <td>0.58984</td>\n",
              "      <td>-0.22145</td>\n",
              "      <td>0.43100</td>\n",
              "      <td>-0.17365</td>\n",
              "      <td>0.60436</td>\n",
              "      <td>-0.24180</td>\n",
              "      <td>0.56045</td>\n",
              "      <td>-0.38238</td>\n",
              "      <td>g</td>\n",
              "    </tr>\n",
              "    <tr>\n",
              "      <th>3</th>\n",
              "      <td>1</td>\n",
              "      <td>1.00000</td>\n",
              "      <td>-0.45161</td>\n",
              "      <td>1.00000</td>\n",
              "      <td>1.00000</td>\n",
              "      <td>0.71216</td>\n",
              "      <td>-1.00000</td>\n",
              "      <td>0.00000</td>\n",
              "      <td>0.00000</td>\n",
              "      <td>0.00000</td>\n",
              "      <td>0.00000</td>\n",
              "      <td>0.00000</td>\n",
              "      <td>0.00000</td>\n",
              "      <td>-1.00000</td>\n",
              "      <td>0.14516</td>\n",
              "      <td>0.54094</td>\n",
              "      <td>-0.39330</td>\n",
              "      <td>-1.00000</td>\n",
              "      <td>-0.54467</td>\n",
              "      <td>-0.69975</td>\n",
              "      <td>1.00000</td>\n",
              "      <td>0.00000</td>\n",
              "      <td>0.00000</td>\n",
              "      <td>1.00000</td>\n",
              "      <td>0.90695</td>\n",
              "      <td>0.51613</td>\n",
              "      <td>1.00000</td>\n",
              "      <td>1.00000</td>\n",
              "      <td>-0.20099</td>\n",
              "      <td>0.25682</td>\n",
              "      <td>1.00000</td>\n",
              "      <td>-0.32382</td>\n",
              "      <td>1.00000</td>\n",
              "      <td>b</td>\n",
              "    </tr>\n",
              "    <tr>\n",
              "      <th>4</th>\n",
              "      <td>1</td>\n",
              "      <td>1.00000</td>\n",
              "      <td>-0.02401</td>\n",
              "      <td>0.94140</td>\n",
              "      <td>0.06531</td>\n",
              "      <td>0.92106</td>\n",
              "      <td>-0.23255</td>\n",
              "      <td>0.77152</td>\n",
              "      <td>-0.16399</td>\n",
              "      <td>0.52798</td>\n",
              "      <td>-0.20275</td>\n",
              "      <td>0.56409</td>\n",
              "      <td>-0.00712</td>\n",
              "      <td>0.34395</td>\n",
              "      <td>-0.27457</td>\n",
              "      <td>0.52940</td>\n",
              "      <td>-0.21780</td>\n",
              "      <td>0.45107</td>\n",
              "      <td>-0.17813</td>\n",
              "      <td>0.05982</td>\n",
              "      <td>-0.35575</td>\n",
              "      <td>0.02309</td>\n",
              "      <td>-0.52879</td>\n",
              "      <td>0.03286</td>\n",
              "      <td>-0.65158</td>\n",
              "      <td>0.13290</td>\n",
              "      <td>-0.53206</td>\n",
              "      <td>0.02431</td>\n",
              "      <td>-0.62197</td>\n",
              "      <td>-0.05707</td>\n",
              "      <td>-0.59573</td>\n",
              "      <td>-0.04608</td>\n",
              "      <td>-0.65697</td>\n",
              "      <td>g</td>\n",
              "    </tr>\n",
              "  </tbody>\n",
              "</table>\n",
              "</div>"
            ],
            "text/plain": [
              "   feature1  feature3  feature4  ...  feature33  feature34  label\n",
              "0         1   0.99539  -0.05889  ...    0.18641   -0.45300      g\n",
              "1         1   1.00000  -0.18829  ...   -0.13738   -0.02447      b\n",
              "2         1   1.00000  -0.03365  ...    0.56045   -0.38238      g\n",
              "3         1   1.00000  -0.45161  ...   -0.32382    1.00000      b\n",
              "4         1   1.00000  -0.02401  ...   -0.04608   -0.65697      g\n",
              "\n",
              "[5 rows x 34 columns]"
            ]
          },
          "metadata": {
            "tags": []
          },
          "execution_count": 13
        }
      ]
    },
    {
      "cell_type": "code",
      "metadata": {
        "scrolled": true,
        "colab": {
          "base_uri": "https://localhost:8080/"
        },
        "id": "0XkfJiRsIAwg",
        "outputId": "40752248-b4c6-4b82-d742-eae13f5ae6ca"
      },
      "source": [
        "df.info()"
      ],
      "execution_count": 15,
      "outputs": [
        {
          "output_type": "stream",
          "text": [
            "<class 'pandas.core.frame.DataFrame'>\n",
            "RangeIndex: 351 entries, 0 to 350\n",
            "Data columns (total 34 columns):\n",
            " #   Column     Non-Null Count  Dtype  \n",
            "---  ------     --------------  -----  \n",
            " 0   feature1   351 non-null    int64  \n",
            " 1   feature3   351 non-null    float64\n",
            " 2   feature4   351 non-null    float64\n",
            " 3   feature5   351 non-null    float64\n",
            " 4   feature6   351 non-null    float64\n",
            " 5   feature7   351 non-null    float64\n",
            " 6   feature8   351 non-null    float64\n",
            " 7   feature9   351 non-null    float64\n",
            " 8   feature10  351 non-null    float64\n",
            " 9   feature11  351 non-null    float64\n",
            " 10  feature12  351 non-null    float64\n",
            " 11  feature13  351 non-null    float64\n",
            " 12  feature14  351 non-null    float64\n",
            " 13  feature15  351 non-null    float64\n",
            " 14  feature16  351 non-null    float64\n",
            " 15  feature17  351 non-null    float64\n",
            " 16  feature18  351 non-null    float64\n",
            " 17  feature19  351 non-null    float64\n",
            " 18  feature20  351 non-null    float64\n",
            " 19  feature21  351 non-null    float64\n",
            " 20  feature22  351 non-null    float64\n",
            " 21  feature23  351 non-null    float64\n",
            " 22  feature24  351 non-null    float64\n",
            " 23  feature25  351 non-null    float64\n",
            " 24  feature26  351 non-null    float64\n",
            " 25  feature27  351 non-null    float64\n",
            " 26  feature28  351 non-null    float64\n",
            " 27  feature29  351 non-null    float64\n",
            " 28  feature30  351 non-null    float64\n",
            " 29  feature31  351 non-null    float64\n",
            " 30  feature32  351 non-null    float64\n",
            " 31  feature33  351 non-null    float64\n",
            " 32  feature34  351 non-null    float64\n",
            " 33  label      351 non-null    object \n",
            "dtypes: float64(32), int64(1), object(1)\n",
            "memory usage: 93.4+ KB\n"
          ],
          "name": "stdout"
        }
      ]
    },
    {
      "cell_type": "code",
      "metadata": {
        "id": "GSStp6JGIAwh",
        "outputId": "0e8069cd-6441-4a6c-c778-c105f13cb825"
      },
      "source": [
        "'''for feature in df:\n",
        "    print(feature)\n",
        "    df[feature].hist()\n",
        "    plt.show()'''\n",
        "\n",
        "# df.hist()\n",
        "# plt.show()"
      ],
      "execution_count": null,
      "outputs": [
        {
          "output_type": "execute_result",
          "data": {
            "text/plain": [
              "'for feature in df:\\n    print(feature)\\n    df[feature].hist()\\n    plt.show()'"
            ]
          },
          "metadata": {
            "tags": []
          },
          "execution_count": 1914
        }
      ]
    },
    {
      "cell_type": "code",
      "metadata": {
        "colab": {
          "base_uri": "https://localhost:8080/",
          "height": 317
        },
        "id": "Nlbw_xB_IAwh",
        "outputId": "5c79d380-fc08-4ed8-8d4d-8ea46771363c"
      },
      "source": [
        "# Check summary statistics\n",
        "df.describe()"
      ],
      "execution_count": 16,
      "outputs": [
        {
          "output_type": "execute_result",
          "data": {
            "text/html": [
              "<div>\n",
              "<style scoped>\n",
              "    .dataframe tbody tr th:only-of-type {\n",
              "        vertical-align: middle;\n",
              "    }\n",
              "\n",
              "    .dataframe tbody tr th {\n",
              "        vertical-align: top;\n",
              "    }\n",
              "\n",
              "    .dataframe thead th {\n",
              "        text-align: right;\n",
              "    }\n",
              "</style>\n",
              "<table border=\"1\" class=\"dataframe\">\n",
              "  <thead>\n",
              "    <tr style=\"text-align: right;\">\n",
              "      <th></th>\n",
              "      <th>feature1</th>\n",
              "      <th>feature3</th>\n",
              "      <th>feature4</th>\n",
              "      <th>feature5</th>\n",
              "      <th>feature6</th>\n",
              "      <th>feature7</th>\n",
              "      <th>feature8</th>\n",
              "      <th>feature9</th>\n",
              "      <th>feature10</th>\n",
              "      <th>feature11</th>\n",
              "      <th>feature12</th>\n",
              "      <th>feature13</th>\n",
              "      <th>feature14</th>\n",
              "      <th>feature15</th>\n",
              "      <th>feature16</th>\n",
              "      <th>feature17</th>\n",
              "      <th>feature18</th>\n",
              "      <th>feature19</th>\n",
              "      <th>feature20</th>\n",
              "      <th>feature21</th>\n",
              "      <th>feature22</th>\n",
              "      <th>feature23</th>\n",
              "      <th>feature24</th>\n",
              "      <th>feature25</th>\n",
              "      <th>feature26</th>\n",
              "      <th>feature27</th>\n",
              "      <th>feature28</th>\n",
              "      <th>feature29</th>\n",
              "      <th>feature30</th>\n",
              "      <th>feature31</th>\n",
              "      <th>feature32</th>\n",
              "      <th>feature33</th>\n",
              "      <th>feature34</th>\n",
              "    </tr>\n",
              "  </thead>\n",
              "  <tbody>\n",
              "    <tr>\n",
              "      <th>count</th>\n",
              "      <td>351.000000</td>\n",
              "      <td>351.000000</td>\n",
              "      <td>351.000000</td>\n",
              "      <td>351.000000</td>\n",
              "      <td>351.000000</td>\n",
              "      <td>351.000000</td>\n",
              "      <td>351.000000</td>\n",
              "      <td>351.000000</td>\n",
              "      <td>351.000000</td>\n",
              "      <td>351.000000</td>\n",
              "      <td>351.000000</td>\n",
              "      <td>351.000000</td>\n",
              "      <td>351.000000</td>\n",
              "      <td>351.000000</td>\n",
              "      <td>351.000000</td>\n",
              "      <td>351.000000</td>\n",
              "      <td>351.000000</td>\n",
              "      <td>351.000000</td>\n",
              "      <td>351.000000</td>\n",
              "      <td>351.000000</td>\n",
              "      <td>351.000000</td>\n",
              "      <td>351.000000</td>\n",
              "      <td>351.000000</td>\n",
              "      <td>351.000000</td>\n",
              "      <td>351.000000</td>\n",
              "      <td>351.000000</td>\n",
              "      <td>351.000000</td>\n",
              "      <td>351.000000</td>\n",
              "      <td>351.000000</td>\n",
              "      <td>351.000000</td>\n",
              "      <td>351.000000</td>\n",
              "      <td>351.000000</td>\n",
              "      <td>351.000000</td>\n",
              "    </tr>\n",
              "    <tr>\n",
              "      <th>mean</th>\n",
              "      <td>0.891738</td>\n",
              "      <td>0.641342</td>\n",
              "      <td>0.044372</td>\n",
              "      <td>0.601068</td>\n",
              "      <td>0.115889</td>\n",
              "      <td>0.550095</td>\n",
              "      <td>0.119360</td>\n",
              "      <td>0.511848</td>\n",
              "      <td>0.181345</td>\n",
              "      <td>0.476183</td>\n",
              "      <td>0.155040</td>\n",
              "      <td>0.400801</td>\n",
              "      <td>0.093414</td>\n",
              "      <td>0.344159</td>\n",
              "      <td>0.071132</td>\n",
              "      <td>0.381949</td>\n",
              "      <td>-0.003617</td>\n",
              "      <td>0.359390</td>\n",
              "      <td>-0.024025</td>\n",
              "      <td>0.336695</td>\n",
              "      <td>0.008296</td>\n",
              "      <td>0.362475</td>\n",
              "      <td>-0.057406</td>\n",
              "      <td>0.396135</td>\n",
              "      <td>-0.071187</td>\n",
              "      <td>0.541641</td>\n",
              "      <td>-0.069538</td>\n",
              "      <td>0.378445</td>\n",
              "      <td>-0.027907</td>\n",
              "      <td>0.352514</td>\n",
              "      <td>-0.003794</td>\n",
              "      <td>0.349364</td>\n",
              "      <td>0.014480</td>\n",
              "    </tr>\n",
              "    <tr>\n",
              "      <th>std</th>\n",
              "      <td>0.311155</td>\n",
              "      <td>0.497708</td>\n",
              "      <td>0.441435</td>\n",
              "      <td>0.519862</td>\n",
              "      <td>0.460810</td>\n",
              "      <td>0.492654</td>\n",
              "      <td>0.520750</td>\n",
              "      <td>0.507066</td>\n",
              "      <td>0.483851</td>\n",
              "      <td>0.563496</td>\n",
              "      <td>0.494817</td>\n",
              "      <td>0.622186</td>\n",
              "      <td>0.494873</td>\n",
              "      <td>0.652828</td>\n",
              "      <td>0.458371</td>\n",
              "      <td>0.618020</td>\n",
              "      <td>0.496762</td>\n",
              "      <td>0.626267</td>\n",
              "      <td>0.519076</td>\n",
              "      <td>0.609828</td>\n",
              "      <td>0.518166</td>\n",
              "      <td>0.603767</td>\n",
              "      <td>0.527456</td>\n",
              "      <td>0.578451</td>\n",
              "      <td>0.508495</td>\n",
              "      <td>0.516205</td>\n",
              "      <td>0.550025</td>\n",
              "      <td>0.575886</td>\n",
              "      <td>0.507974</td>\n",
              "      <td>0.571483</td>\n",
              "      <td>0.513574</td>\n",
              "      <td>0.522663</td>\n",
              "      <td>0.468337</td>\n",
              "    </tr>\n",
              "    <tr>\n",
              "      <th>min</th>\n",
              "      <td>0.000000</td>\n",
              "      <td>-1.000000</td>\n",
              "      <td>-1.000000</td>\n",
              "      <td>-1.000000</td>\n",
              "      <td>-1.000000</td>\n",
              "      <td>-1.000000</td>\n",
              "      <td>-1.000000</td>\n",
              "      <td>-1.000000</td>\n",
              "      <td>-1.000000</td>\n",
              "      <td>-1.000000</td>\n",
              "      <td>-1.000000</td>\n",
              "      <td>-1.000000</td>\n",
              "      <td>-1.000000</td>\n",
              "      <td>-1.000000</td>\n",
              "      <td>-1.000000</td>\n",
              "      <td>-1.000000</td>\n",
              "      <td>-1.000000</td>\n",
              "      <td>-1.000000</td>\n",
              "      <td>-1.000000</td>\n",
              "      <td>-1.000000</td>\n",
              "      <td>-1.000000</td>\n",
              "      <td>-1.000000</td>\n",
              "      <td>-1.000000</td>\n",
              "      <td>-1.000000</td>\n",
              "      <td>-1.000000</td>\n",
              "      <td>-1.000000</td>\n",
              "      <td>-1.000000</td>\n",
              "      <td>-1.000000</td>\n",
              "      <td>-1.000000</td>\n",
              "      <td>-1.000000</td>\n",
              "      <td>-1.000000</td>\n",
              "      <td>-1.000000</td>\n",
              "      <td>-1.000000</td>\n",
              "    </tr>\n",
              "    <tr>\n",
              "      <th>25%</th>\n",
              "      <td>1.000000</td>\n",
              "      <td>0.472135</td>\n",
              "      <td>-0.064735</td>\n",
              "      <td>0.412660</td>\n",
              "      <td>-0.024795</td>\n",
              "      <td>0.211310</td>\n",
              "      <td>-0.054840</td>\n",
              "      <td>0.087110</td>\n",
              "      <td>-0.048075</td>\n",
              "      <td>0.021120</td>\n",
              "      <td>-0.065265</td>\n",
              "      <td>0.000000</td>\n",
              "      <td>-0.073725</td>\n",
              "      <td>0.000000</td>\n",
              "      <td>-0.081705</td>\n",
              "      <td>0.000000</td>\n",
              "      <td>-0.225690</td>\n",
              "      <td>0.000000</td>\n",
              "      <td>-0.234670</td>\n",
              "      <td>0.000000</td>\n",
              "      <td>-0.243870</td>\n",
              "      <td>0.000000</td>\n",
              "      <td>-0.366885</td>\n",
              "      <td>0.000000</td>\n",
              "      <td>-0.332390</td>\n",
              "      <td>0.286435</td>\n",
              "      <td>-0.443165</td>\n",
              "      <td>0.000000</td>\n",
              "      <td>-0.236885</td>\n",
              "      <td>0.000000</td>\n",
              "      <td>-0.242595</td>\n",
              "      <td>0.000000</td>\n",
              "      <td>-0.165350</td>\n",
              "    </tr>\n",
              "    <tr>\n",
              "      <th>50%</th>\n",
              "      <td>1.000000</td>\n",
              "      <td>0.871110</td>\n",
              "      <td>0.016310</td>\n",
              "      <td>0.809200</td>\n",
              "      <td>0.022800</td>\n",
              "      <td>0.728730</td>\n",
              "      <td>0.014710</td>\n",
              "      <td>0.684210</td>\n",
              "      <td>0.018290</td>\n",
              "      <td>0.667980</td>\n",
              "      <td>0.028250</td>\n",
              "      <td>0.644070</td>\n",
              "      <td>0.030270</td>\n",
              "      <td>0.601940</td>\n",
              "      <td>0.000000</td>\n",
              "      <td>0.590910</td>\n",
              "      <td>0.000000</td>\n",
              "      <td>0.576190</td>\n",
              "      <td>0.000000</td>\n",
              "      <td>0.499090</td>\n",
              "      <td>0.000000</td>\n",
              "      <td>0.531760</td>\n",
              "      <td>0.000000</td>\n",
              "      <td>0.553890</td>\n",
              "      <td>-0.015050</td>\n",
              "      <td>0.708240</td>\n",
              "      <td>-0.017690</td>\n",
              "      <td>0.496640</td>\n",
              "      <td>0.000000</td>\n",
              "      <td>0.442770</td>\n",
              "      <td>0.000000</td>\n",
              "      <td>0.409560</td>\n",
              "      <td>0.000000</td>\n",
              "    </tr>\n",
              "    <tr>\n",
              "      <th>75%</th>\n",
              "      <td>1.000000</td>\n",
              "      <td>1.000000</td>\n",
              "      <td>0.194185</td>\n",
              "      <td>1.000000</td>\n",
              "      <td>0.334655</td>\n",
              "      <td>0.969240</td>\n",
              "      <td>0.445675</td>\n",
              "      <td>0.953240</td>\n",
              "      <td>0.534195</td>\n",
              "      <td>0.957895</td>\n",
              "      <td>0.482375</td>\n",
              "      <td>0.955505</td>\n",
              "      <td>0.374860</td>\n",
              "      <td>0.919330</td>\n",
              "      <td>0.308975</td>\n",
              "      <td>0.935705</td>\n",
              "      <td>0.195285</td>\n",
              "      <td>0.899265</td>\n",
              "      <td>0.134370</td>\n",
              "      <td>0.894865</td>\n",
              "      <td>0.188760</td>\n",
              "      <td>0.911235</td>\n",
              "      <td>0.164630</td>\n",
              "      <td>0.905240</td>\n",
              "      <td>0.156765</td>\n",
              "      <td>0.999945</td>\n",
              "      <td>0.153535</td>\n",
              "      <td>0.883465</td>\n",
              "      <td>0.154075</td>\n",
              "      <td>0.857620</td>\n",
              "      <td>0.200120</td>\n",
              "      <td>0.813765</td>\n",
              "      <td>0.171660</td>\n",
              "    </tr>\n",
              "    <tr>\n",
              "      <th>max</th>\n",
              "      <td>1.000000</td>\n",
              "      <td>1.000000</td>\n",
              "      <td>1.000000</td>\n",
              "      <td>1.000000</td>\n",
              "      <td>1.000000</td>\n",
              "      <td>1.000000</td>\n",
              "      <td>1.000000</td>\n",
              "      <td>1.000000</td>\n",
              "      <td>1.000000</td>\n",
              "      <td>1.000000</td>\n",
              "      <td>1.000000</td>\n",
              "      <td>1.000000</td>\n",
              "      <td>1.000000</td>\n",
              "      <td>1.000000</td>\n",
              "      <td>1.000000</td>\n",
              "      <td>1.000000</td>\n",
              "      <td>1.000000</td>\n",
              "      <td>1.000000</td>\n",
              "      <td>1.000000</td>\n",
              "      <td>1.000000</td>\n",
              "      <td>1.000000</td>\n",
              "      <td>1.000000</td>\n",
              "      <td>1.000000</td>\n",
              "      <td>1.000000</td>\n",
              "      <td>1.000000</td>\n",
              "      <td>1.000000</td>\n",
              "      <td>1.000000</td>\n",
              "      <td>1.000000</td>\n",
              "      <td>1.000000</td>\n",
              "      <td>1.000000</td>\n",
              "      <td>1.000000</td>\n",
              "      <td>1.000000</td>\n",
              "      <td>1.000000</td>\n",
              "    </tr>\n",
              "  </tbody>\n",
              "</table>\n",
              "</div>"
            ],
            "text/plain": [
              "         feature1    feature3    feature4  ...   feature32   feature33   feature34\n",
              "count  351.000000  351.000000  351.000000  ...  351.000000  351.000000  351.000000\n",
              "mean     0.891738    0.641342    0.044372  ...   -0.003794    0.349364    0.014480\n",
              "std      0.311155    0.497708    0.441435  ...    0.513574    0.522663    0.468337\n",
              "min      0.000000   -1.000000   -1.000000  ...   -1.000000   -1.000000   -1.000000\n",
              "25%      1.000000    0.472135   -0.064735  ...   -0.242595    0.000000   -0.165350\n",
              "50%      1.000000    0.871110    0.016310  ...    0.000000    0.409560    0.000000\n",
              "75%      1.000000    1.000000    0.194185  ...    0.200120    0.813765    0.171660\n",
              "max      1.000000    1.000000    1.000000  ...    1.000000    1.000000    1.000000\n",
              "\n",
              "[8 rows x 33 columns]"
            ]
          },
          "metadata": {
            "tags": []
          },
          "execution_count": 16
        }
      ]
    },
    {
      "cell_type": "code",
      "metadata": {
        "scrolled": true,
        "colab": {
          "base_uri": "https://localhost:8080/"
        },
        "id": "_AlE6i6OIAwj",
        "outputId": "1e302660-4992-4553-f0f4-8d0b1414b24b"
      },
      "source": [
        "# Missing Values checking\n",
        "df.isnull().sum()"
      ],
      "execution_count": 17,
      "outputs": [
        {
          "output_type": "execute_result",
          "data": {
            "text/plain": [
              "feature1     0\n",
              "feature3     0\n",
              "feature4     0\n",
              "feature5     0\n",
              "feature6     0\n",
              "feature7     0\n",
              "feature8     0\n",
              "feature9     0\n",
              "feature10    0\n",
              "feature11    0\n",
              "feature12    0\n",
              "feature13    0\n",
              "feature14    0\n",
              "feature15    0\n",
              "feature16    0\n",
              "feature17    0\n",
              "feature18    0\n",
              "feature19    0\n",
              "feature20    0\n",
              "feature21    0\n",
              "feature22    0\n",
              "feature23    0\n",
              "feature24    0\n",
              "feature25    0\n",
              "feature26    0\n",
              "feature27    0\n",
              "feature28    0\n",
              "feature29    0\n",
              "feature30    0\n",
              "feature31    0\n",
              "feature32    0\n",
              "feature33    0\n",
              "feature34    0\n",
              "label        0\n",
              "dtype: int64"
            ]
          },
          "metadata": {
            "tags": []
          },
          "execution_count": 17
        }
      ]
    },
    {
      "cell_type": "code",
      "metadata": {
        "id": "RU3zF9w2IAwk"
      },
      "source": [
        "df['label'] = [1 if lbl == 'g' else 0 for lbl in df['label']]"
      ],
      "execution_count": 18,
      "outputs": []
    },
    {
      "cell_type": "code",
      "metadata": {
        "id": "NqQCOXZ1IAwk"
      },
      "source": [
        "# Train and Test Data\n",
        "train_d = df.sample(frac= 0.6, random_state=125)\n",
        "test_d = df.drop(train_d.index)"
      ],
      "execution_count": 19,
      "outputs": []
    },
    {
      "cell_type": "code",
      "metadata": {
        "id": "d85Bmb9kIAwl"
      },
      "source": [
        "train_l = train_d.iloc[:,-1]\n",
        "train_d = train_d.iloc[:,0:-1]\n",
        "test_l = test_d.iloc[:,-1]\n",
        "test_d = test_d.iloc[:,0:-1]"
      ],
      "execution_count": 20,
      "outputs": []
    },
    {
      "cell_type": "code",
      "metadata": {
        "colab": {
          "base_uri": "https://localhost:8080/",
          "height": 224
        },
        "id": "do_nZsfRIAwm",
        "outputId": "e7e8d6d5-aed1-40b9-e59e-cd10498996a4"
      },
      "source": [
        "train_d.head()"
      ],
      "execution_count": 21,
      "outputs": [
        {
          "output_type": "execute_result",
          "data": {
            "text/html": [
              "<div>\n",
              "<style scoped>\n",
              "    .dataframe tbody tr th:only-of-type {\n",
              "        vertical-align: middle;\n",
              "    }\n",
              "\n",
              "    .dataframe tbody tr th {\n",
              "        vertical-align: top;\n",
              "    }\n",
              "\n",
              "    .dataframe thead th {\n",
              "        text-align: right;\n",
              "    }\n",
              "</style>\n",
              "<table border=\"1\" class=\"dataframe\">\n",
              "  <thead>\n",
              "    <tr style=\"text-align: right;\">\n",
              "      <th></th>\n",
              "      <th>feature1</th>\n",
              "      <th>feature3</th>\n",
              "      <th>feature4</th>\n",
              "      <th>feature5</th>\n",
              "      <th>feature6</th>\n",
              "      <th>feature7</th>\n",
              "      <th>feature8</th>\n",
              "      <th>feature9</th>\n",
              "      <th>feature10</th>\n",
              "      <th>feature11</th>\n",
              "      <th>feature12</th>\n",
              "      <th>feature13</th>\n",
              "      <th>feature14</th>\n",
              "      <th>feature15</th>\n",
              "      <th>feature16</th>\n",
              "      <th>feature17</th>\n",
              "      <th>feature18</th>\n",
              "      <th>feature19</th>\n",
              "      <th>feature20</th>\n",
              "      <th>feature21</th>\n",
              "      <th>feature22</th>\n",
              "      <th>feature23</th>\n",
              "      <th>feature24</th>\n",
              "      <th>feature25</th>\n",
              "      <th>feature26</th>\n",
              "      <th>feature27</th>\n",
              "      <th>feature28</th>\n",
              "      <th>feature29</th>\n",
              "      <th>feature30</th>\n",
              "      <th>feature31</th>\n",
              "      <th>feature32</th>\n",
              "      <th>feature33</th>\n",
              "      <th>feature34</th>\n",
              "    </tr>\n",
              "  </thead>\n",
              "  <tbody>\n",
              "    <tr>\n",
              "      <th>270</th>\n",
              "      <td>1</td>\n",
              "      <td>1.00000</td>\n",
              "      <td>0.08013</td>\n",
              "      <td>0.96775</td>\n",
              "      <td>-0.00482</td>\n",
              "      <td>0.96683</td>\n",
              "      <td>-0.00722</td>\n",
              "      <td>0.87980</td>\n",
              "      <td>-0.03923</td>\n",
              "      <td>1.00000</td>\n",
              "      <td>0.01419</td>\n",
              "      <td>0.96186</td>\n",
              "      <td>-0.01436</td>\n",
              "      <td>0.95947</td>\n",
              "      <td>-0.01671</td>\n",
              "      <td>0.98497</td>\n",
              "      <td>0.01002</td>\n",
              "      <td>0.91152</td>\n",
              "      <td>-0.08848</td>\n",
              "      <td>0.95016</td>\n",
              "      <td>-0.02364</td>\n",
              "      <td>0.94636</td>\n",
              "      <td>-0.02591</td>\n",
              "      <td>0.98164</td>\n",
              "      <td>0.02003</td>\n",
              "      <td>0.93772</td>\n",
              "      <td>-0.03034</td>\n",
              "      <td>1.00000</td>\n",
              "      <td>-0.05843</td>\n",
              "      <td>0.92774</td>\n",
              "      <td>-0.03464</td>\n",
              "      <td>0.92226</td>\n",
              "      <td>-0.03673</td>\n",
              "    </tr>\n",
              "    <tr>\n",
              "      <th>116</th>\n",
              "      <td>1</td>\n",
              "      <td>1.00000</td>\n",
              "      <td>-0.14754</td>\n",
              "      <td>1.00000</td>\n",
              "      <td>0.04918</td>\n",
              "      <td>0.57377</td>\n",
              "      <td>-0.01639</td>\n",
              "      <td>0.65574</td>\n",
              "      <td>0.01639</td>\n",
              "      <td>0.85246</td>\n",
              "      <td>-0.03279</td>\n",
              "      <td>0.72131</td>\n",
              "      <td>0.00000</td>\n",
              "      <td>0.68852</td>\n",
              "      <td>-0.16393</td>\n",
              "      <td>0.19672</td>\n",
              "      <td>-0.14754</td>\n",
              "      <td>0.65558</td>\n",
              "      <td>-0.17176</td>\n",
              "      <td>0.67213</td>\n",
              "      <td>0.03279</td>\n",
              "      <td>1.00000</td>\n",
              "      <td>-0.29508</td>\n",
              "      <td>0.31148</td>\n",
              "      <td>-0.34426</td>\n",
              "      <td>0.52385</td>\n",
              "      <td>-0.20325</td>\n",
              "      <td>0.32787</td>\n",
              "      <td>-0.03279</td>\n",
              "      <td>0.27869</td>\n",
              "      <td>-0.44262</td>\n",
              "      <td>0.49180</td>\n",
              "      <td>-0.06557</td>\n",
              "    </tr>\n",
              "    <tr>\n",
              "      <th>135</th>\n",
              "      <td>1</td>\n",
              "      <td>0.89706</td>\n",
              "      <td>0.38235</td>\n",
              "      <td>0.91176</td>\n",
              "      <td>0.37500</td>\n",
              "      <td>0.74265</td>\n",
              "      <td>0.67647</td>\n",
              "      <td>0.45588</td>\n",
              "      <td>0.77941</td>\n",
              "      <td>0.19118</td>\n",
              "      <td>0.88971</td>\n",
              "      <td>-0.02206</td>\n",
              "      <td>0.86029</td>\n",
              "      <td>-0.20588</td>\n",
              "      <td>0.82353</td>\n",
              "      <td>-0.37500</td>\n",
              "      <td>0.67647</td>\n",
              "      <td>-0.50000</td>\n",
              "      <td>0.47794</td>\n",
              "      <td>-0.73529</td>\n",
              "      <td>0.38235</td>\n",
              "      <td>-0.86029</td>\n",
              "      <td>0.08824</td>\n",
              "      <td>-0.74265</td>\n",
              "      <td>-0.12500</td>\n",
              "      <td>-0.67925</td>\n",
              "      <td>-0.24131</td>\n",
              "      <td>-0.55147</td>\n",
              "      <td>-0.42647</td>\n",
              "      <td>-0.44118</td>\n",
              "      <td>-0.50735</td>\n",
              "      <td>-0.28676</td>\n",
              "      <td>-0.56618</td>\n",
              "    </tr>\n",
              "    <tr>\n",
              "      <th>91</th>\n",
              "      <td>1</td>\n",
              "      <td>0.84557</td>\n",
              "      <td>-0.08580</td>\n",
              "      <td>-0.31745</td>\n",
              "      <td>-0.80553</td>\n",
              "      <td>-0.08961</td>\n",
              "      <td>-0.56435</td>\n",
              "      <td>0.80648</td>\n",
              "      <td>0.04576</td>\n",
              "      <td>0.89514</td>\n",
              "      <td>-0.00763</td>\n",
              "      <td>-0.18494</td>\n",
              "      <td>0.63966</td>\n",
              "      <td>-0.20019</td>\n",
              "      <td>-0.68065</td>\n",
              "      <td>0.85701</td>\n",
              "      <td>-0.11344</td>\n",
              "      <td>0.77979</td>\n",
              "      <td>-0.15729</td>\n",
              "      <td>-0.06959</td>\n",
              "      <td>0.50810</td>\n",
              "      <td>-0.34128</td>\n",
              "      <td>0.80934</td>\n",
              "      <td>0.78932</td>\n",
              "      <td>-0.03718</td>\n",
              "      <td>0.70882</td>\n",
              "      <td>-0.25288</td>\n",
              "      <td>0.77884</td>\n",
              "      <td>-0.14109</td>\n",
              "      <td>-0.21354</td>\n",
              "      <td>-0.78170</td>\n",
              "      <td>-0.18494</td>\n",
              "      <td>-0.59867</td>\n",
              "    </tr>\n",
              "    <tr>\n",
              "      <th>100</th>\n",
              "      <td>1</td>\n",
              "      <td>1.00000</td>\n",
              "      <td>-1.00000</td>\n",
              "      <td>0.00000</td>\n",
              "      <td>0.00000</td>\n",
              "      <td>0.77941</td>\n",
              "      <td>-0.99265</td>\n",
              "      <td>0.80882</td>\n",
              "      <td>0.55147</td>\n",
              "      <td>-0.41912</td>\n",
              "      <td>-0.94853</td>\n",
              "      <td>0.00000</td>\n",
              "      <td>0.00000</td>\n",
              "      <td>0.00000</td>\n",
              "      <td>0.00000</td>\n",
              "      <td>0.72059</td>\n",
              "      <td>-0.77206</td>\n",
              "      <td>0.73529</td>\n",
              "      <td>-0.60294</td>\n",
              "      <td>0.00000</td>\n",
              "      <td>0.00000</td>\n",
              "      <td>0.18382</td>\n",
              "      <td>-1.00000</td>\n",
              "      <td>-1.00000</td>\n",
              "      <td>-1.00000</td>\n",
              "      <td>-1.00000</td>\n",
              "      <td>-1.00000</td>\n",
              "      <td>1.00000</td>\n",
              "      <td>-1.00000</td>\n",
              "      <td>1.00000</td>\n",
              "      <td>-1.00000</td>\n",
              "      <td>0.00000</td>\n",
              "      <td>0.00000</td>\n",
              "    </tr>\n",
              "  </tbody>\n",
              "</table>\n",
              "</div>"
            ],
            "text/plain": [
              "     feature1  feature3  feature4  ...  feature32  feature33  feature34\n",
              "270         1   1.00000   0.08013  ...   -0.03464    0.92226   -0.03673\n",
              "116         1   1.00000  -0.14754  ...   -0.44262    0.49180   -0.06557\n",
              "135         1   0.89706   0.38235  ...   -0.50735   -0.28676   -0.56618\n",
              "91          1   0.84557  -0.08580  ...   -0.78170   -0.18494   -0.59867\n",
              "100         1   1.00000  -1.00000  ...   -1.00000    0.00000    0.00000\n",
              "\n",
              "[5 rows x 33 columns]"
            ]
          },
          "metadata": {
            "tags": []
          },
          "execution_count": 21
        }
      ]
    },
    {
      "cell_type": "code",
      "metadata": {
        "colab": {
          "base_uri": "https://localhost:8080/"
        },
        "id": "wkTSctF-IAwn",
        "outputId": "5ee5696b-e639-4b0f-f227-4eaa4e7048a2"
      },
      "source": [
        "train_l"
      ],
      "execution_count": 22,
      "outputs": [
        {
          "output_type": "execute_result",
          "data": {
            "text/plain": [
              "270    1\n",
              "116    0\n",
              "135    1\n",
              "91     0\n",
              "100    0\n",
              "      ..\n",
              "213    1\n",
              "161    1\n",
              "141    1\n",
              "59     0\n",
              "113    1\n",
              "Name: label, Length: 211, dtype: int64"
            ]
          },
          "metadata": {
            "tags": []
          },
          "execution_count": 22
        }
      ]
    },
    {
      "cell_type": "markdown",
      "metadata": {
        "id": "-1G_ArHwIAwn"
      },
      "source": [
        "- Standardized the Input Variables. **Hint**: Centeralized the data"
      ]
    },
    {
      "cell_type": "code",
      "metadata": {
        "id": "KK1sgebtIAwo"
      },
      "source": [
        "# Normalize the data\n",
        "# train_mean = train_data.mean()\n",
        "# train_data -= train_mean\n",
        "# train_std = train_data.std()\n",
        "# train_data /= train_std\n",
        "# test_data -= train_mean\n",
        "# test_data /= train_std"
      ],
      "execution_count": null,
      "outputs": []
    },
    {
      "cell_type": "markdown",
      "metadata": {
        "id": "OyqjQB0OIAwp"
      },
      "source": [
        "- Encode labels."
      ]
    },
    {
      "cell_type": "markdown",
      "metadata": {
        "id": "dgB69JW7IAwp"
      },
      "source": [
        "- Shuffle the data if needed.\n",
        "- Split into 60 and 40 ratio."
      ]
    },
    {
      "cell_type": "code",
      "metadata": {
        "id": "RekRYzRkIAwq"
      },
      "source": [
        "# Now sample the dataframe\n"
      ],
      "execution_count": null,
      "outputs": []
    },
    {
      "cell_type": "code",
      "metadata": {
        "colab": {
          "base_uri": "https://localhost:8080/"
        },
        "id": "5xuz4tf3IAwq",
        "outputId": "9c1465d0-40b5-4d6f-86ba-52319fd0cd2a"
      },
      "source": [
        "train_d.shape"
      ],
      "execution_count": 23,
      "outputs": [
        {
          "output_type": "execute_result",
          "data": {
            "text/plain": [
              "(211, 33)"
            ]
          },
          "metadata": {
            "tags": []
          },
          "execution_count": 23
        }
      ]
    },
    {
      "cell_type": "code",
      "metadata": {
        "colab": {
          "base_uri": "https://localhost:8080/"
        },
        "id": "T3YTQTNUIAwr",
        "outputId": "2516f110-7595-414a-b971-71919c3e760f"
      },
      "source": [
        "test_d.shape"
      ],
      "execution_count": 24,
      "outputs": [
        {
          "output_type": "execute_result",
          "data": {
            "text/plain": [
              "(140, 33)"
            ]
          },
          "metadata": {
            "tags": []
          },
          "execution_count": 24
        }
      ]
    },
    {
      "cell_type": "code",
      "metadata": {
        "colab": {
          "base_uri": "https://localhost:8080/"
        },
        "id": "WK0qGk5pIAwr",
        "outputId": "15eb0ba5-82fd-423c-dd88-c865ff271ce7"
      },
      "source": [
        "train_l.shape"
      ],
      "execution_count": 25,
      "outputs": [
        {
          "output_type": "execute_result",
          "data": {
            "text/plain": [
              "(211,)"
            ]
          },
          "metadata": {
            "tags": []
          },
          "execution_count": 25
        }
      ]
    },
    {
      "cell_type": "code",
      "metadata": {
        "colab": {
          "base_uri": "https://localhost:8080/"
        },
        "id": "70bDErWtIAws",
        "outputId": "07241019-db3c-4b4b-c7e4-58fd78ded11e"
      },
      "source": [
        "test_l.shape"
      ],
      "execution_count": 26,
      "outputs": [
        {
          "output_type": "execute_result",
          "data": {
            "text/plain": [
              "(140,)"
            ]
          },
          "metadata": {
            "tags": []
          },
          "execution_count": 26
        }
      ]
    },
    {
      "cell_type": "code",
      "metadata": {
        "colab": {
          "base_uri": "https://localhost:8080/"
        },
        "id": "AXAfYiFjIAws",
        "outputId": "5a54db45-8b79-4d24-eba3-916b58a3e79f"
      },
      "source": [
        "train_l.sum()"
      ],
      "execution_count": 27,
      "outputs": [
        {
          "output_type": "execute_result",
          "data": {
            "text/plain": [
              "140"
            ]
          },
          "metadata": {
            "tags": []
          },
          "execution_count": 27
        }
      ]
    },
    {
      "cell_type": "code",
      "metadata": {
        "id": "GUqbcXTVIAwu"
      },
      "source": [
        "# Data Preprocessing\n",
        "\n",
        "train_d = train_d.to_numpy()"
      ],
      "execution_count": 28,
      "outputs": []
    },
    {
      "cell_type": "code",
      "metadata": {
        "id": "zNyoQTsYIAwv"
      },
      "source": [
        "train_l = train_l.to_numpy().astype('float32')"
      ],
      "execution_count": 29,
      "outputs": []
    },
    {
      "cell_type": "code",
      "metadata": {
        "id": "yk6p1ejsIAwv"
      },
      "source": [
        "test_d = test_d.to_numpy()"
      ],
      "execution_count": 30,
      "outputs": []
    },
    {
      "cell_type": "code",
      "metadata": {
        "id": "qbTUnOMvIAwv"
      },
      "source": [
        "test_l = test_l.to_numpy().astype('float32')"
      ],
      "execution_count": 31,
      "outputs": []
    },
    {
      "cell_type": "code",
      "metadata": {
        "colab": {
          "base_uri": "https://localhost:8080/"
        },
        "id": "8rTRbfOdIAww",
        "outputId": "9656ce89-009f-428c-d22b-8b58d6261334"
      },
      "source": [
        "print(type(train_d))\n",
        "print(type(train_l))\n",
        "print(type(test_d))\n",
        "print(type(test_l))\n"
      ],
      "execution_count": 32,
      "outputs": [
        {
          "output_type": "stream",
          "text": [
            "<class 'numpy.ndarray'>\n",
            "<class 'numpy.ndarray'>\n",
            "<class 'numpy.ndarray'>\n",
            "<class 'numpy.ndarray'>\n"
          ],
          "name": "stdout"
        }
      ]
    },
    {
      "cell_type": "code",
      "metadata": {
        "colab": {
          "base_uri": "https://localhost:8080/"
        },
        "id": "snqpTOYfIAwx",
        "outputId": "1d513564-b258-4682-a1e8-6201bcb553e1"
      },
      "source": [
        "print(train_d.dtype)\n",
        "print(train_l.dtype)\n",
        "print(test_l.dtype)\n",
        "print(test_d.dtype)"
      ],
      "execution_count": 33,
      "outputs": [
        {
          "output_type": "stream",
          "text": [
            "float64\n",
            "float32\n",
            "float32\n",
            "float64\n"
          ],
          "name": "stdout"
        }
      ]
    },
    {
      "cell_type": "code",
      "metadata": {
        "id": "fu6vukD9IAwy"
      },
      "source": [
        "# Model : 1 hidden layers including 16 unit.\n",
        "\n",
        "from tensorflow.keras.models import Sequential\n",
        "from tensorflow.keras.layers import Dense, Dropout\n",
        "\n",
        "# Define model\n",
        "model = Sequential()\n",
        "model.add(Dense(128, activation='relu', input_shape=(train_d.shape[1],)))\n",
        "model.add(Dropout(0.3))\n",
        "model.add(Dense(64, activation='relu'))\n",
        "model.add(Dropout(0.3))\n",
        "model.add(Dense(1,  activation='sigmoid'))"
      ],
      "execution_count": 51,
      "outputs": []
    },
    {
      "cell_type": "code",
      "metadata": {
        "colab": {
          "base_uri": "https://localhost:8080/"
        },
        "id": "WWFZKmDTIAwz",
        "outputId": "771913a8-4dd8-44fc-b483-e27f2a1edef0"
      },
      "source": [
        "model.summary()"
      ],
      "execution_count": 52,
      "outputs": [
        {
          "output_type": "stream",
          "text": [
            "Model: \"sequential_2\"\n",
            "_________________________________________________________________\n",
            "Layer (type)                 Output Shape              Param #   \n",
            "=================================================================\n",
            "dense_3 (Dense)              (None, 128)               4352      \n",
            "_________________________________________________________________\n",
            "dropout_2 (Dropout)          (None, 128)               0         \n",
            "_________________________________________________________________\n",
            "dense_4 (Dense)              (None, 64)                8256      \n",
            "_________________________________________________________________\n",
            "dropout_3 (Dropout)          (None, 64)                0         \n",
            "_________________________________________________________________\n",
            "dense_5 (Dense)              (None, 1)                 65        \n",
            "=================================================================\n",
            "Total params: 12,673\n",
            "Trainable params: 12,673\n",
            "Non-trainable params: 0\n",
            "_________________________________________________________________\n"
          ],
          "name": "stdout"
        }
      ]
    },
    {
      "cell_type": "code",
      "metadata": {
        "id": "r6Jg79HqIAw0"
      },
      "source": [
        "# Compilation\n",
        "from tensorflow.keras import optimizers\n",
        "\n",
        "model.compile(optimizer = 'RMSprop', loss='binary_crossentropy', metrics=['accuracy'])"
      ],
      "execution_count": 53,
      "outputs": []
    },
    {
      "cell_type": "code",
      "metadata": {
        "scrolled": false,
        "colab": {
          "base_uri": "https://localhost:8080/"
        },
        "id": "SiZXSticIAw1",
        "outputId": "9d060466-fdfd-419d-e600-b2c723a7448e"
      },
      "source": [
        "history = model.fit(train_d, train_l, validation_split=0.25, epochs= 75, batch_size = 32)"
      ],
      "execution_count": 54,
      "outputs": [
        {
          "output_type": "stream",
          "text": [
            "Epoch 1/75\n",
            "5/5 [==============================] - 1s 89ms/step - loss: 0.7257 - accuracy: 0.5362 - val_loss: 0.5447 - val_accuracy: 0.8113\n",
            "Epoch 2/75\n",
            "5/5 [==============================] - 0s 13ms/step - loss: 0.5785 - accuracy: 0.7443 - val_loss: 0.4709 - val_accuracy: 0.8491\n",
            "Epoch 3/75\n",
            "5/5 [==============================] - 0s 13ms/step - loss: 0.5282 - accuracy: 0.7298 - val_loss: 0.4230 - val_accuracy: 0.8491\n",
            "Epoch 4/75\n",
            "5/5 [==============================] - 0s 13ms/step - loss: 0.4773 - accuracy: 0.8404 - val_loss: 0.3858 - val_accuracy: 0.8679\n",
            "Epoch 5/75\n",
            "5/5 [==============================] - 0s 14ms/step - loss: 0.4689 - accuracy: 0.8355 - val_loss: 0.3474 - val_accuracy: 0.8679\n",
            "Epoch 6/75\n",
            "5/5 [==============================] - 0s 12ms/step - loss: 0.4144 - accuracy: 0.8696 - val_loss: 0.3203 - val_accuracy: 0.9057\n",
            "Epoch 7/75\n",
            "5/5 [==============================] - 0s 12ms/step - loss: 0.3805 - accuracy: 0.8751 - val_loss: 0.2922 - val_accuracy: 0.9057\n",
            "Epoch 8/75\n",
            "5/5 [==============================] - 0s 12ms/step - loss: 0.3127 - accuracy: 0.9142 - val_loss: 0.2707 - val_accuracy: 0.9623\n",
            "Epoch 9/75\n",
            "5/5 [==============================] - 0s 12ms/step - loss: 0.3202 - accuracy: 0.9041 - val_loss: 0.2469 - val_accuracy: 0.9623\n",
            "Epoch 10/75\n",
            "5/5 [==============================] - 0s 12ms/step - loss: 0.2744 - accuracy: 0.9445 - val_loss: 0.2322 - val_accuracy: 0.9623\n",
            "Epoch 11/75\n",
            "5/5 [==============================] - 0s 13ms/step - loss: 0.2313 - accuracy: 0.9382 - val_loss: 0.2166 - val_accuracy: 0.9623\n",
            "Epoch 12/75\n",
            "5/5 [==============================] - 0s 13ms/step - loss: 0.2457 - accuracy: 0.9403 - val_loss: 0.2044 - val_accuracy: 0.9623\n",
            "Epoch 13/75\n",
            "5/5 [==============================] - 0s 15ms/step - loss: 0.2142 - accuracy: 0.9387 - val_loss: 0.1915 - val_accuracy: 0.9623\n",
            "Epoch 14/75\n",
            "5/5 [==============================] - 0s 13ms/step - loss: 0.2065 - accuracy: 0.9550 - val_loss: 0.1888 - val_accuracy: 0.9434\n",
            "Epoch 15/75\n",
            "5/5 [==============================] - 0s 13ms/step - loss: 0.1856 - accuracy: 0.9714 - val_loss: 0.1793 - val_accuracy: 0.9434\n",
            "Epoch 16/75\n",
            "5/5 [==============================] - 0s 11ms/step - loss: 0.1792 - accuracy: 0.9471 - val_loss: 0.1776 - val_accuracy: 0.9434\n",
            "Epoch 17/75\n",
            "5/5 [==============================] - 0s 14ms/step - loss: 0.1763 - accuracy: 0.9312 - val_loss: 0.1743 - val_accuracy: 0.9434\n",
            "Epoch 18/75\n",
            "5/5 [==============================] - 0s 13ms/step - loss: 0.1593 - accuracy: 0.9493 - val_loss: 0.1675 - val_accuracy: 0.9434\n",
            "Epoch 19/75\n",
            "5/5 [==============================] - 0s 13ms/step - loss: 0.1522 - accuracy: 0.9765 - val_loss: 0.1625 - val_accuracy: 0.9434\n",
            "Epoch 20/75\n",
            "5/5 [==============================] - 0s 12ms/step - loss: 0.1622 - accuracy: 0.9376 - val_loss: 0.1622 - val_accuracy: 0.9623\n",
            "Epoch 21/75\n",
            "5/5 [==============================] - 0s 13ms/step - loss: 0.1576 - accuracy: 0.9527 - val_loss: 0.1555 - val_accuracy: 0.9623\n",
            "Epoch 22/75\n",
            "5/5 [==============================] - 0s 14ms/step - loss: 0.1384 - accuracy: 0.9643 - val_loss: 0.1509 - val_accuracy: 0.9434\n",
            "Epoch 23/75\n",
            "5/5 [==============================] - 0s 15ms/step - loss: 0.1267 - accuracy: 0.9656 - val_loss: 0.1491 - val_accuracy: 0.9623\n",
            "Epoch 24/75\n",
            "5/5 [==============================] - 0s 13ms/step - loss: 0.1735 - accuracy: 0.9534 - val_loss: 0.1517 - val_accuracy: 0.9623\n",
            "Epoch 25/75\n",
            "5/5 [==============================] - 0s 12ms/step - loss: 0.0966 - accuracy: 0.9825 - val_loss: 0.1532 - val_accuracy: 0.9623\n",
            "Epoch 26/75\n",
            "5/5 [==============================] - 0s 13ms/step - loss: 0.1487 - accuracy: 0.9379 - val_loss: 0.1560 - val_accuracy: 0.9623\n",
            "Epoch 27/75\n",
            "5/5 [==============================] - 0s 13ms/step - loss: 0.0820 - accuracy: 0.9855 - val_loss: 0.1496 - val_accuracy: 0.9434\n",
            "Epoch 28/75\n",
            "5/5 [==============================] - 0s 14ms/step - loss: 0.0903 - accuracy: 0.9781 - val_loss: 0.1513 - val_accuracy: 0.9623\n",
            "Epoch 29/75\n",
            "5/5 [==============================] - 0s 14ms/step - loss: 0.1140 - accuracy: 0.9643 - val_loss: 0.1485 - val_accuracy: 0.9623\n",
            "Epoch 30/75\n",
            "5/5 [==============================] - 0s 14ms/step - loss: 0.1602 - accuracy: 0.9509 - val_loss: 0.1566 - val_accuracy: 0.9623\n",
            "Epoch 31/75\n",
            "5/5 [==============================] - 0s 12ms/step - loss: 0.0924 - accuracy: 0.9769 - val_loss: 0.1440 - val_accuracy: 0.9623\n",
            "Epoch 32/75\n",
            "5/5 [==============================] - 0s 12ms/step - loss: 0.1091 - accuracy: 0.9612 - val_loss: 0.1571 - val_accuracy: 0.9623\n",
            "Epoch 33/75\n",
            "5/5 [==============================] - 0s 14ms/step - loss: 0.0745 - accuracy: 0.9846 - val_loss: 0.1549 - val_accuracy: 0.9623\n",
            "Epoch 34/75\n",
            "5/5 [==============================] - 0s 16ms/step - loss: 0.0761 - accuracy: 0.9932 - val_loss: 0.1568 - val_accuracy: 0.9434\n",
            "Epoch 35/75\n",
            "5/5 [==============================] - 0s 13ms/step - loss: 0.0753 - accuracy: 0.9794 - val_loss: 0.1543 - val_accuracy: 0.9623\n",
            "Epoch 36/75\n",
            "5/5 [==============================] - 0s 14ms/step - loss: 0.1002 - accuracy: 0.9751 - val_loss: 0.1603 - val_accuracy: 0.9623\n",
            "Epoch 37/75\n",
            "5/5 [==============================] - 0s 14ms/step - loss: 0.0833 - accuracy: 0.9741 - val_loss: 0.1575 - val_accuracy: 0.9623\n",
            "Epoch 38/75\n",
            "5/5 [==============================] - 0s 13ms/step - loss: 0.0580 - accuracy: 0.9924 - val_loss: 0.1639 - val_accuracy: 0.9434\n",
            "Epoch 39/75\n",
            "5/5 [==============================] - 0s 13ms/step - loss: 0.0632 - accuracy: 0.9958 - val_loss: 0.1591 - val_accuracy: 0.9434\n",
            "Epoch 40/75\n",
            "5/5 [==============================] - 0s 13ms/step - loss: 0.0526 - accuracy: 0.9897 - val_loss: 0.1590 - val_accuracy: 0.9623\n",
            "Epoch 41/75\n",
            "5/5 [==============================] - 0s 12ms/step - loss: 0.0562 - accuracy: 0.9793 - val_loss: 0.1580 - val_accuracy: 0.9623\n",
            "Epoch 42/75\n",
            "5/5 [==============================] - 0s 13ms/step - loss: 0.0663 - accuracy: 0.9901 - val_loss: 0.1421 - val_accuracy: 0.9623\n",
            "Epoch 43/75\n",
            "5/5 [==============================] - 0s 13ms/step - loss: 0.0712 - accuracy: 0.9811 - val_loss: 0.1440 - val_accuracy: 0.9623\n",
            "Epoch 44/75\n",
            "5/5 [==============================] - 0s 13ms/step - loss: 0.0464 - accuracy: 0.9927 - val_loss: 0.1630 - val_accuracy: 0.9623\n",
            "Epoch 45/75\n",
            "5/5 [==============================] - 0s 15ms/step - loss: 0.0481 - accuracy: 0.9836 - val_loss: 0.1775 - val_accuracy: 0.9623\n",
            "Epoch 46/75\n",
            "5/5 [==============================] - 0s 16ms/step - loss: 0.0733 - accuracy: 0.9689 - val_loss: 0.1737 - val_accuracy: 0.9623\n",
            "Epoch 47/75\n",
            "5/5 [==============================] - 0s 14ms/step - loss: 0.0671 - accuracy: 0.9715 - val_loss: 0.1700 - val_accuracy: 0.9623\n",
            "Epoch 48/75\n",
            "5/5 [==============================] - 0s 13ms/step - loss: 0.0438 - accuracy: 0.9922 - val_loss: 0.1772 - val_accuracy: 0.9623\n",
            "Epoch 49/75\n",
            "5/5 [==============================] - 0s 15ms/step - loss: 0.0371 - accuracy: 0.9927 - val_loss: 0.1670 - val_accuracy: 0.9623\n",
            "Epoch 50/75\n",
            "5/5 [==============================] - 0s 14ms/step - loss: 0.0339 - accuracy: 0.9966 - val_loss: 0.1856 - val_accuracy: 0.9623\n",
            "Epoch 51/75\n",
            "5/5 [==============================] - 0s 14ms/step - loss: 0.0272 - accuracy: 0.9979 - val_loss: 0.1844 - val_accuracy: 0.9623\n",
            "Epoch 52/75\n",
            "5/5 [==============================] - 0s 13ms/step - loss: 0.0318 - accuracy: 0.9979 - val_loss: 0.1744 - val_accuracy: 0.9434\n",
            "Epoch 53/75\n",
            "5/5 [==============================] - 0s 14ms/step - loss: 0.0435 - accuracy: 0.9966 - val_loss: 0.1763 - val_accuracy: 0.9434\n",
            "Epoch 54/75\n",
            "5/5 [==============================] - 0s 14ms/step - loss: 0.0290 - accuracy: 0.9979 - val_loss: 0.1749 - val_accuracy: 0.9623\n",
            "Epoch 55/75\n",
            "5/5 [==============================] - 0s 13ms/step - loss: 0.0483 - accuracy: 0.9914 - val_loss: 0.1779 - val_accuracy: 0.9623\n",
            "Epoch 56/75\n",
            "5/5 [==============================] - 0s 15ms/step - loss: 0.0494 - accuracy: 0.9793 - val_loss: 0.1847 - val_accuracy: 0.9434\n",
            "Epoch 57/75\n",
            "5/5 [==============================] - 0s 14ms/step - loss: 0.0312 - accuracy: 0.9966 - val_loss: 0.2005 - val_accuracy: 0.9623\n",
            "Epoch 58/75\n",
            "5/5 [==============================] - 0s 14ms/step - loss: 0.0210 - accuracy: 0.9966 - val_loss: 0.1934 - val_accuracy: 0.9434\n",
            "Epoch 59/75\n",
            "5/5 [==============================] - 0s 12ms/step - loss: 0.0206 - accuracy: 1.0000 - val_loss: 0.1993 - val_accuracy: 0.9623\n",
            "Epoch 60/75\n",
            "5/5 [==============================] - 0s 13ms/step - loss: 0.0173 - accuracy: 0.9958 - val_loss: 0.2021 - val_accuracy: 0.9434\n",
            "Epoch 61/75\n",
            "5/5 [==============================] - 0s 14ms/step - loss: 0.0310 - accuracy: 0.9914 - val_loss: 0.1986 - val_accuracy: 0.9434\n",
            "Epoch 62/75\n",
            "5/5 [==============================] - 0s 14ms/step - loss: 0.0312 - accuracy: 1.0000 - val_loss: 0.1953 - val_accuracy: 0.9623\n",
            "Epoch 63/75\n",
            "5/5 [==============================] - 0s 12ms/step - loss: 0.0257 - accuracy: 0.9949 - val_loss: 0.2091 - val_accuracy: 0.9623\n",
            "Epoch 64/75\n",
            "5/5 [==============================] - 0s 13ms/step - loss: 0.0168 - accuracy: 0.9966 - val_loss: 0.2090 - val_accuracy: 0.9623\n",
            "Epoch 65/75\n",
            "5/5 [==============================] - 0s 13ms/step - loss: 0.0667 - accuracy: 0.9845 - val_loss: 0.1998 - val_accuracy: 0.9623\n",
            "Epoch 66/75\n",
            "5/5 [==============================] - 0s 13ms/step - loss: 0.0225 - accuracy: 1.0000 - val_loss: 0.2010 - val_accuracy: 0.9623\n",
            "Epoch 67/75\n",
            "5/5 [==============================] - 0s 13ms/step - loss: 0.0218 - accuracy: 0.9922 - val_loss: 0.1931 - val_accuracy: 0.9623\n",
            "Epoch 68/75\n",
            "5/5 [==============================] - 0s 13ms/step - loss: 0.0142 - accuracy: 1.0000 - val_loss: 0.1953 - val_accuracy: 0.9623\n",
            "Epoch 69/75\n",
            "5/5 [==============================] - 0s 15ms/step - loss: 0.0321 - accuracy: 0.9870 - val_loss: 0.1993 - val_accuracy: 0.9623\n",
            "Epoch 70/75\n",
            "5/5 [==============================] - 0s 12ms/step - loss: 0.0275 - accuracy: 0.9819 - val_loss: 0.2171 - val_accuracy: 0.9623\n",
            "Epoch 71/75\n",
            "5/5 [==============================] - 0s 12ms/step - loss: 0.0199 - accuracy: 1.0000 - val_loss: 0.2058 - val_accuracy: 0.9623\n",
            "Epoch 72/75\n",
            "5/5 [==============================] - 0s 14ms/step - loss: 0.0140 - accuracy: 1.0000 - val_loss: 0.1980 - val_accuracy: 0.9811\n",
            "Epoch 73/75\n",
            "5/5 [==============================] - 0s 15ms/step - loss: 0.0362 - accuracy: 0.9793 - val_loss: 0.2084 - val_accuracy: 0.9623\n",
            "Epoch 74/75\n",
            "5/5 [==============================] - 0s 13ms/step - loss: 0.0236 - accuracy: 1.0000 - val_loss: 0.1951 - val_accuracy: 0.9623\n",
            "Epoch 75/75\n",
            "5/5 [==============================] - 0s 14ms/step - loss: 0.0182 - accuracy: 0.9966 - val_loss: 0.2045 - val_accuracy: 0.9811\n"
          ],
          "name": "stdout"
        }
      ]
    },
    {
      "cell_type": "code",
      "metadata": {
        "scrolled": true,
        "colab": {
          "base_uri": "https://localhost:8080/"
        },
        "id": "PCm5ybAkIAw1",
        "outputId": "c8024bbd-aa58-4381-e5c2-1220373cc77a"
      },
      "source": [
        "history.history.keys()"
      ],
      "execution_count": 55,
      "outputs": [
        {
          "output_type": "execute_result",
          "data": {
            "text/plain": [
              "dict_keys(['loss', 'accuracy', 'val_loss', 'val_accuracy'])"
            ]
          },
          "metadata": {
            "tags": []
          },
          "execution_count": 55
        }
      ]
    },
    {
      "cell_type": "code",
      "metadata": {
        "scrolled": false,
        "colab": {
          "base_uri": "https://localhost:8080/",
          "height": 295
        },
        "id": "54wjxVfCIAw2",
        "outputId": "46ee3ec2-59b2-440d-9454-e183c0bfde76"
      },
      "source": [
        "history_dict = history.history\n",
        "loss_values = history_dict['loss']\n",
        "val_loss_values = history_dict['val_loss']\n",
        "\n",
        "epochs = range(75)\n",
        "plt.plot(epochs, loss_values, 'bo', label='Training loss')\n",
        "plt.plot(epochs, val_loss_values, 'b', label='Validation loss')\n",
        "plt.title('Training and validation loss')\n",
        "plt.xlabel('Epochs')\n",
        "plt.ylabel('Loss')\n",
        "plt.legend()\n",
        "plt.show()"
      ],
      "execution_count": 56,
      "outputs": [
        {
          "output_type": "display_data",
          "data": {
            "image/png": "[encoded data removed]",
            "text/plain": [
              "<Figure size 432x288 with 1 Axes>"
            ]
          },
          "metadata": {
            "tags": [],
            "needs_background": "light"
          }
        }
      ]
    },
    {
      "cell_type": "code",
      "metadata": {
        "scrolled": true,
        "colab": {
          "base_uri": "https://localhost:8080/",
          "height": 295
        },
        "id": "ZDTR-9kBIAw3",
        "outputId": "0cc8a6d3-44d8-4d72-b153-3725fecd5f8f"
      },
      "source": [
        "acc_values = history_dict['accuracy']\n",
        "val_acc_values = history_dict['val_accuracy']\n",
        "plt.plot(epochs, acc_values, 'bo', label='Training acc')\n",
        "plt.plot(epochs, val_acc_values, 'b', label='Validation acc')\n",
        "plt.title('Training and validation accuracy')\n",
        "plt.xlabel('Epochs')\n",
        "plt.ylabel('Loss')\n",
        "plt.legend()\n",
        "plt.show()"
      ],
      "execution_count": 57,
      "outputs": [
        {
          "output_type": "display_data",
          "data": {
            "image/png": "[encoded data removed]",
            "text/plain": [
              "<Figure size 432x288 with 1 Axes>"
            ]
          },
          "metadata": {
            "tags": [],
            "needs_background": "light"
          }
        }
      ]
    },
    {
      "cell_type": "code",
      "metadata": {
        "colab": {
          "base_uri": "https://localhost:8080/"
        },
        "id": "UhgIUCiXIAw4",
        "outputId": "2bde379e-1cbd-4b09-d72a-dc8eb90b98a6"
      },
      "source": [
        "# Evaluation Step\n",
        "score = model.evaluate(test_d, test_l)"
      ],
      "execution_count": 58,
      "outputs": [
        {
          "output_type": "stream",
          "text": [
            "5/5 [==============================] - 0s 3ms/step - loss: 0.2759 - accuracy: 0.9286\n"
          ],
          "name": "stdout"
        }
      ]
    },
    {
      "cell_type": "code",
      "metadata": {
        "colab": {
          "base_uri": "https://localhost:8080/"
        },
        "id": "xbAD2_m7IAw5",
        "outputId": "af91e877-020e-495c-f992-d7322728bcaa"
      },
      "source": [
        "score"
      ],
      "execution_count": 60,
      "outputs": [
        {
          "output_type": "execute_result",
          "data": {
            "text/plain": [
              "[0.2758650481700897, 0.9285714030265808]"
            ]
          },
          "metadata": {
            "tags": []
          },
          "execution_count": 60
        }
      ]
    },
    {
      "cell_type": "code",
      "metadata": {
        "id": "qmQR-T1nIAw6"
      },
      "source": [
        "predictions=model.predict(test_d)"
      ],
      "execution_count": 62,
      "outputs": []
    },
    {
      "cell_type": "code",
      "metadata": {
        "id": "6AE4stZrIAw6"
      },
      "source": [
        "y_prediction = (predictions > 0.5)"
      ],
      "execution_count": 63,
      "outputs": []
    },
    {
      "cell_type": "code",
      "metadata": {
        "scrolled": false,
        "colab": {
          "base_uri": "https://localhost:8080/"
        },
        "id": "HZG-j6UBIAw7",
        "outputId": "67bdfc94-24d2-425b-90c7-11f79839b417"
      },
      "source": [
        "tf.math.confusion_matrix(\n",
        "    test_l, y_prediction, num_classes=2, weights=None, dtype=tf.dtypes.int32,\n",
        "    name=None\n",
        ")"
      ],
      "execution_count": 64,
      "outputs": [
        {
          "output_type": "execute_result",
          "data": {
            "text/plain": [
              "<tf.Tensor: shape=(2, 2), dtype=int32, numpy=\n",
              "array([[46,  9],\n",
              "       [ 1, 84]], dtype=int32)>"
            ]
          },
          "metadata": {
            "tags": []
          },
          "execution_count": 64
        }
      ]
    },
    {
      "cell_type": "code",
      "metadata": {
        "colab": {
          "base_uri": "https://localhost:8080/"
        },
        "id": "T3D0Xz07IAw8",
        "outputId": "d6140eb2-a308-4d26-ac17-1de3f4145734"
      },
      "source": [
        "np.count_nonzero(y_prediction)"
      ],
      "execution_count": 66,
      "outputs": [
        {
          "output_type": "execute_result",
          "data": {
            "text/plain": [
              "93"
            ]
          },
          "metadata": {
            "tags": []
          },
          "execution_count": 66
        }
      ]
    }
  ]
}