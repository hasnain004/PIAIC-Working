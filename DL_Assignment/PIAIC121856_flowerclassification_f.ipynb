{
  "nbformat": 4,
  "nbformat_minor": 0,
  "metadata": {
    "accelerator": "GPU",
    "colab": {
      "name": "PIAIC121856_flowerclassification_final.ipynb",
      "provenance": [],
      "collapsed_sections": []
    },
    "kernelspec": {
      "display_name": "Python 3",
      "language": "python",
      "name": "python3"
    },
    "language_info": {
      "codemirror_mode": {
        "name": "ipython",
        "version": 3
      },
      "file_extension": ".py",
      "mimetype": "text/x-python",
      "name": "python",
      "nbconvert_exporter": "python",
      "pygments_lexer": "ipython3",
      "version": "3.9.2"
    }
  },
  "cells": [
    {
      "cell_type": "code",
      "metadata": {
        "id": "MHeMvFpkR-Oe"
      },
      "source": [
        "import numpy as np\n",
        "import pandas as pd\n",
        "import tensorflow as tf\n",
        "from tensorflow.keras import models\n",
        "from tensorflow.keras import layers\n",
        "from tensorflow.keras.preprocessing.image import ImageDataGenerator\n",
        "from tensorflow.keras.models import Sequential\n",
        "from tensorflow.keras.layers import Dense, Flatten\n",
        "from tensorflow.keras.optimizers import RMSprop\n"
      ],
      "execution_count": 2,
      "outputs": []
    },
    {
      "cell_type": "code",
      "metadata": {
        "colab": {
          "base_uri": "https://localhost:8080/"
        },
        "id": "NryA6HhEB5KO",
        "outputId": "c9a75025-118f-4760-b408-9a641c3cf067"
      },
      "source": [
        "from google.colab import drive\n",
        "drive.mount('/content/drive')"
      ],
      "execution_count": 1,
      "outputs": [
        {
          "output_type": "stream",
          "text": [
            "Mounted at /content/drive\n"
          ],
          "name": "stdout"
        }
      ]
    },
    {
      "cell_type": "code",
      "metadata": {
        "colab": {
          "base_uri": "https://localhost:8080/"
        },
        "id": "gu8R1NyOv9Gv",
        "outputId": "48677402-95ef-4a36-82ba-caacbf53f62e"
      },
      "source": [
        "val_batch = 10\n",
        "train_batch = 32\n",
        "train_datagen = ImageDataGenerator(\n",
        "        rescale=1./255,\n",
        "        validation_split=0.30,\n",
        "        )\n",
        "train_generator = train_datagen.flow_from_directory(\n",
        "        '/content/drive/MyDrive/flowers',\n",
        "        target_size=(80, 80),\n",
        "        batch_size=train_batch,\n",
        "        class_mode='categorical',\n",
        "        subset = 'training',\n",
        "        color_mode = 'grayscale',\n",
        "        shuffle = True,\n",
        "        )\n",
        "validation_generator = train_datagen.flow_from_directory(\n",
        "        '/content/drive/MyDrive/flowers',\n",
        "        target_size=(80, 80),\n",
        "        batch_size=val_batch,\n",
        "        class_mode='categorical',\n",
        "        subset = 'validation',\n",
        "        color_mode = 'grayscale',\n",
        "        shuffle= True)\n"
      ],
      "execution_count": 12,
      "outputs": [
        {
          "output_type": "stream",
          "text": [
            "Found 3028 images belonging to 5 classes.\n",
            "Found 1295 images belonging to 5 classes.\n"
          ],
          "name": "stdout"
        }
      ]
    },
    {
      "cell_type": "code",
      "metadata": {
        "colab": {
          "base_uri": "https://localhost:8080/"
        },
        "id": "RR13ZEf7-zus",
        "outputId": "c9a8599a-162a-4d82-bd9b-f230df01e53a"
      },
      "source": [
        "train_generator.class_indices"
      ],
      "execution_count": 13,
      "outputs": [
        {
          "output_type": "execute_result",
          "data": {
            "text/plain": [
              "{'daisy': 0, 'dandelion': 1, 'rose': 2, 'sunflower': 3, 'tulip': 4}"
            ]
          },
          "metadata": {
            "tags": []
          },
          "execution_count": 13
        }
      ]
    },
    {
      "cell_type": "code",
      "metadata": {
        "colab": {
          "base_uri": "https://localhost:8080/"
        },
        "id": "LqDb5wQt9NSe",
        "outputId": "711c0e4d-16f0-45fc-f563-0046166dc2a7"
      },
      "source": [
        "type(train_datagen)"
      ],
      "execution_count": 14,
      "outputs": [
        {
          "output_type": "execute_result",
          "data": {
            "text/plain": [
              "tensorflow.python.keras.preprocessing.image.ImageDataGenerator"
            ]
          },
          "metadata": {
            "tags": []
          },
          "execution_count": 14
        }
      ]
    },
    {
      "cell_type": "code",
      "metadata": {
        "colab": {
          "base_uri": "https://localhost:8080/"
        },
        "id": "41623u5rBHhJ",
        "outputId": "05576b25-0905-4ef8-ec85-61b71343cd0e"
      },
      "source": [
        "type(train_generator)"
      ],
      "execution_count": 15,
      "outputs": [
        {
          "output_type": "execute_result",
          "data": {
            "text/plain": [
              "tensorflow.python.keras.preprocessing.image.DirectoryIterator"
            ]
          },
          "metadata": {
            "tags": []
          },
          "execution_count": 15
        }
      ]
    },
    {
      "cell_type": "code",
      "metadata": {
        "colab": {
          "base_uri": "https://localhost:8080/"
        },
        "id": "I0JAwzvh9blZ",
        "outputId": "5267fec6-7857-4c53-9f06-a3342bb82e8a"
      },
      "source": [
        "train_generator[31][1].shape"
      ],
      "execution_count": 16,
      "outputs": [
        {
          "output_type": "execute_result",
          "data": {
            "text/plain": [
              "(32, 5)"
            ]
          },
          "metadata": {
            "tags": []
          },
          "execution_count": 16
        }
      ]
    },
    {
      "cell_type": "code",
      "metadata": {
        "id": "MECEactbpYY2"
      },
      "source": [
        "from tensorflow.keras.models import Sequential\n",
        "from tensorflow.keras.layers import Dense, Dropout,Flatten\n",
        "model = Sequential()\n",
        "model.add(Flatten())\n",
        "model.add(Dense(10, activation='relu'))\n",
        "model.add(Dense(8, activation='relu'))\n",
        "model.add(Dense(5,  activation='softmax'))"
      ],
      "execution_count": 17,
      "outputs": []
    },
    {
      "cell_type": "code",
      "metadata": {
        "id": "2QFL7tA4D0Sa"
      },
      "source": [
        "model.compile(optimizer='rmsprop',\n",
        "loss='categorical_crossentropy',\n",
        "metrics=['accuracy'])"
      ],
      "execution_count": 18,
      "outputs": []
    },
    {
      "cell_type": "code",
      "metadata": {
        "colab": {
          "base_uri": "https://localhost:8080/"
        },
        "id": "mwG7_qctxUBl",
        "outputId": "24775f69-c0e8-4167-8ad5-a172e57b47e3"
      },
      "source": [
        "with tf.device('/device:GPU:0'):\n",
        "    result = model.fit(\n",
        "          train_generator,\n",
        "          steps_per_epoch = 20,\n",
        "          batch_size = train_batch,\n",
        "          validation_data = validation_generator,\n",
        "          validation_batch_size= val_batch,\n",
        "          epochs=20)"
      ],
      "execution_count": 19,
      "outputs": [
        {
          "output_type": "stream",
          "text": [
            "Epoch 1/20\n",
            "20/20 [==============================] - 1092s 56s/step - loss: 2.0073 - accuracy: 0.2236 - val_loss: 1.6109 - val_accuracy: 0.2108\n",
            "Epoch 2/20\n",
            "20/20 [==============================] - 268s 13s/step - loss: 1.6113 - accuracy: 0.2294 - val_loss: 1.6071 - val_accuracy: 0.2417\n",
            "Epoch 3/20\n",
            "20/20 [==============================] - 206s 11s/step - loss: 1.6053 - accuracy: 0.2636 - val_loss: 1.6060 - val_accuracy: 0.2425\n",
            "Epoch 4/20\n",
            "20/20 [==============================] - 167s 8s/step - loss: 1.6105 - accuracy: 0.2059 - val_loss: 1.6056 - val_accuracy: 0.2432\n",
            "Epoch 5/20\n",
            "20/20 [==============================] - 144s 7s/step - loss: 1.6030 - accuracy: 0.2519 - val_loss: 1.6047 - val_accuracy: 0.2432\n",
            "Epoch 6/20\n",
            "20/20 [==============================] - 100s 5s/step - loss: 1.6084 - accuracy: 0.2072 - val_loss: 1.6045 - val_accuracy: 0.2432\n",
            "Epoch 7/20\n",
            "20/20 [==============================] - 95s 5s/step - loss: 1.6032 - accuracy: 0.2672 - val_loss: 1.6038 - val_accuracy: 0.2432\n",
            "Epoch 8/20\n",
            "20/20 [==============================] - 73s 4s/step - loss: 1.6042 - accuracy: 0.2454 - val_loss: 1.6032 - val_accuracy: 0.2432\n",
            "Epoch 9/20\n",
            "20/20 [==============================] - 47s 2s/step - loss: 1.6014 - accuracy: 0.2643 - val_loss: 1.6027 - val_accuracy: 0.2432\n",
            "Epoch 10/20\n",
            "20/20 [==============================] - 42s 2s/step - loss: 1.6019 - accuracy: 0.2511 - val_loss: 1.6022 - val_accuracy: 0.2432\n",
            "Epoch 11/20\n",
            "20/20 [==============================] - 36s 2s/step - loss: 1.5998 - accuracy: 0.2263 - val_loss: 1.6018 - val_accuracy: 0.2432\n",
            "Epoch 12/20\n",
            "20/20 [==============================] - 35s 2s/step - loss: 1.6057 - accuracy: 0.2193 - val_loss: 1.6016 - val_accuracy: 0.2432\n",
            "Epoch 13/20\n",
            "20/20 [==============================] - 26s 1s/step - loss: 1.5955 - accuracy: 0.2854 - val_loss: 1.6013 - val_accuracy: 0.2432\n",
            "Epoch 14/20\n",
            "20/20 [==============================] - 17s 882ms/step - loss: 1.6032 - accuracy: 0.2473 - val_loss: 1.6010 - val_accuracy: 0.2432\n",
            "Epoch 15/20\n",
            "20/20 [==============================] - 17s 861ms/step - loss: 1.5924 - accuracy: 0.2652 - val_loss: 1.6005 - val_accuracy: 0.2432\n",
            "Epoch 16/20\n",
            "20/20 [==============================] - 17s 818ms/step - loss: 1.5942 - accuracy: 0.2765 - val_loss: 1.6002 - val_accuracy: 0.2432\n",
            "Epoch 17/20\n",
            "20/20 [==============================] - 15s 739ms/step - loss: 1.6007 - accuracy: 0.2196 - val_loss: 1.6001 - val_accuracy: 0.2432\n",
            "Epoch 18/20\n",
            "20/20 [==============================] - 12s 649ms/step - loss: 1.6028 - accuracy: 0.2135 - val_loss: 1.5999 - val_accuracy: 0.2432\n",
            "Epoch 19/20\n",
            "20/20 [==============================] - 10s 530ms/step - loss: 1.5994 - accuracy: 0.2438 - val_loss: 1.5998 - val_accuracy: 0.2432\n",
            "Epoch 20/20\n",
            "20/20 [==============================] - 13s 677ms/step - loss: 1.6010 - accuracy: 0.2330 - val_loss: 1.5998 - val_accuracy: 0.2432\n"
          ],
          "name": "stdout"
        }
      ]
    },
    {
      "cell_type": "code",
      "metadata": {
        "colab": {
          "base_uri": "https://localhost:8080/"
        },
        "id": "kAMVOUBUhcj9",
        "outputId": "46cb23c9-b1b7-42df-cdd8-72aedfdfa4e1"
      },
      "source": [
        "model.evaluate(validation_generator)"
      ],
      "execution_count": 20,
      "outputs": [
        {
          "output_type": "stream",
          "text": [
            "130/130 [==============================] - 6s 44ms/step - loss: 1.5998 - accuracy: 0.2432\n"
          ],
          "name": "stdout"
        },
        {
          "output_type": "execute_result",
          "data": {
            "text/plain": [
              "[1.5997906923294067, 0.2432432472705841]"
            ]
          },
          "metadata": {
            "tags": []
          },
          "execution_count": 20
        }
      ]
    },
    {
      "cell_type": "code",
      "metadata": {
        "colab": {
          "base_uri": "https://localhost:8080/"
        },
        "id": "Ufw4FqsmU-g2",
        "outputId": "e39f921f-59f8-4bef-e378-9ad14f48b870"
      },
      "source": [
        "res_hist = result.history.keys()\n",
        "res_hist"
      ],
      "execution_count": 21,
      "outputs": [
        {
          "output_type": "execute_result",
          "data": {
            "text/plain": [
              "dict_keys(['loss', 'accuracy', 'val_loss', 'val_accuracy'])"
            ]
          },
          "metadata": {
            "tags": []
          },
          "execution_count": 21
        }
      ]
    },
    {
      "cell_type": "code",
      "metadata": {
        "colab": {
          "base_uri": "https://localhost:8080/",
          "height": 573
        },
        "id": "dOKPsS3HWwUn",
        "outputId": "1cbeb6a3-c479-46d6-e4bd-7066d7f1fcf8"
      },
      "source": [
        "# Visualize training history\n",
        "from keras.models import Sequential\n",
        "from keras.layers import Dense\n",
        "import matplotlib.pyplot as plt\n",
        "import numpy\n",
        "plt.plot(result.history['accuracy'])\n",
        "plt.plot(result.history['val_accuracy'])\n",
        "plt.title('model accuracy')\n",
        "plt.ylabel('accuracy')\n",
        "plt.xlabel('epoch')\n",
        "plt.legend(['train', 'test'], loc='upper left')\n",
        "plt.show()\n",
        "# summarize history for loss\n",
        "plt.plot(result.history['loss'])\n",
        "plt.plot(result.history['val_loss'])\n",
        "plt.title('model loss')\n",
        "plt.ylabel('loss')\n",
        "plt.xlabel('epoch')\n",
        "plt.legend(['train', 'test'], loc='upper left')\n",
        "plt.show()"
      ],
      "execution_count": 22,
      "outputs": [
        {
          "output_type": "display_data",
          "data": {
            "image/png": "[encoded data removed]",
            "text/plain": [
              "<Figure size 432x288 with 1 Axes>"
            ]
          },
          "metadata": {
            "tags": [],
            "needs_background": "light"
          }
        },
        {
          "output_type": "display_data",
          "data": {
            "image/png": "[encoded data removed]",
            "text/plain": [
              "<Figure size 432x288 with 1 Axes>"
            ]
          },
          "metadata": {
            "tags": [],
            "needs_background": "light"
          }
        }
      ]
    },
    {
      "cell_type": "code",
      "metadata": {
        "id": "u7p4aMxliqvO"
      },
      "source": [
        "y_prediction = model.predict(validation_generator)"
      ],
      "execution_count": 23,
      "outputs": []
    },
    {
      "cell_type": "code",
      "metadata": {
        "colab": {
          "base_uri": "https://localhost:8080/"
        },
        "id": "-qhQ6JA_i0YM",
        "outputId": "29e09c0a-f0d5-4a3c-c11f-90a46e4ce3df"
      },
      "source": [
        "y_prediction.shape"
      ],
      "execution_count": 24,
      "outputs": [
        {
          "output_type": "execute_result",
          "data": {
            "text/plain": [
              "(1295, 5)"
            ]
          },
          "metadata": {
            "tags": []
          },
          "execution_count": 24
        }
      ]
    },
    {
      "cell_type": "code",
      "metadata": {
        "id": "TRKNoHsBNvdR"
      },
      "source": [
        "list_val_generator = []\n",
        "for i in range(0,len(validation_generator)):\n",
        "    for j in range(0,val_batch):\n",
        "        try:\n",
        "              list_val_generator.append(validation_generator[i][1][j].tolist())\n",
        "        except:\n",
        "              break"
      ],
      "execution_count": 25,
      "outputs": []
    },
    {
      "cell_type": "code",
      "metadata": {
        "id": "P9u0xdNxfeHl",
        "colab": {
          "base_uri": "https://localhost:8080/"
        },
        "outputId": "d6b670d6-5d96-4a54-8d9b-c3f74ff2c2fd"
      },
      "source": [
        "np.argmax(y_prediction, axis=1)[0:30]"
      ],
      "execution_count": 27,
      "outputs": [
        {
          "output_type": "execute_result",
          "data": {
            "text/plain": [
              "array([1, 1, 1, 1, 1, 1, 1, 1, 1, 1, 1, 1, 1, 1, 1, 1, 1, 1, 1, 1, 1, 1,\n",
              "       1, 1, 1, 1, 1, 1, 1, 1])"
            ]
          },
          "metadata": {
            "tags": []
          },
          "execution_count": 27
        }
      ]
    },
    {
      "cell_type": "code",
      "metadata": {
        "id": "sVy31j9On2U_",
        "colab": {
          "base_uri": "https://localhost:8080/"
        },
        "outputId": "c66ceeb7-f661-4b80-e4ba-a4ebfd1b9b98"
      },
      "source": [
        "np.argmax(list_val_generator[0:30],axis=1)"
      ],
      "execution_count": 28,
      "outputs": [
        {
          "output_type": "execute_result",
          "data": {
            "text/plain": [
              "array([4, 3, 0, 1, 3, 0, 1, 4, 4, 0, 3, 3, 2, 3, 3, 0, 3, 3, 0, 0, 0, 2,\n",
              "       1, 0, 2, 2, 0, 0, 4, 0])"
            ]
          },
          "metadata": {
            "tags": []
          },
          "execution_count": 28
        }
      ]
    }
  ]
}